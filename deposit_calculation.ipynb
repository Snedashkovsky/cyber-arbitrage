{
 "cells": [
  {
   "cell_type": "markdown",
   "source": [
    "## Bostrom and Space-Pussy Deposit Calculation\n",
    "it's usually more convenient to use the [cyb.ai](https://cyb.ai/warp/add-liquidity)"
   ],
   "metadata": {
    "collapsed": false
   }
  },
  {
   "cell_type": "code",
   "execution_count": 1,
   "outputs": [],
   "source": [
    "import pandas as pd\n",
    "\n",
    "from src.data_extractors import get_pools, get_prices, get_pool_ids_by_denoms\n",
    "\n",
    "\n",
    "DEPOSIT_DATA = [\n",
    "    [120_000_000, 'milliampere', 'hydrogen'],\n",
    "    [11_700_000, 'millivolt', 'hydrogen'],\n",
    "    [70_000_000, 'milliampere', 'millivolt'],\n",
    "]\n",
    "NETWORKS = ['bostrom']"
   ],
   "metadata": {
    "collapsed": false,
    "ExecuteTime": {
     "start_time": "2023-05-01T14:31:42.949640Z",
     "end_time": "2023-05-01T14:31:43.649617Z"
    }
   }
  },
  {
   "cell_type": "code",
   "execution_count": 2,
   "outputs": [],
   "source": [
    "pools_df = get_pools(networks=NETWORKS)\n",
    "price_df = get_prices(pools_df=pools_df, zero_fee=True)"
   ],
   "metadata": {
    "collapsed": false,
    "ExecuteTime": {
     "start_time": "2023-05-01T14:31:43.650417Z",
     "end_time": "2023-05-01T14:31:50.942838Z"
    }
   }
  },
  {
   "cell_type": "code",
   "execution_count": 3,
   "outputs": [
    {
     "name": "stdout",
     "output_type": "stream",
     "text": [
      " 120,000,000 milliampere  -  445,907,903,956 hydrogen\t\tpool id  5\n",
      "  11,700,000 millivolt    -  412,861,407,398 hydrogen\t\tpool id  6\n",
      "  70,000,000 milliampere  -        7,297,382 millivolt\t\tpool id 10\n"
     ]
    }
   ],
   "source": [
    "deposit_df = pd.DataFrame(DEPOSIT_DATA, columns=['amount', 'denom', 'second_denom'])\n",
    "deposit_df['pool_ids'] = deposit_df.apply(lambda x: get_pool_ids_by_denoms(denoms=[x.denom, x.second_denom], pools_df=pools_df), axis=1)\n",
    "\n",
    "for _, row in deposit_df.iterrows():\n",
    "    print(f'{row.amount:>12,.0f} {row.denom:12} - {row.amount * price_df.loc[row.second_denom, row.denom]:>16,.0f} '\n",
    "          f'{row.second_denom}\\t\\tpool id {row.pool_ids[0]:2}')"
   ],
   "metadata": {
    "collapsed": false,
    "ExecuteTime": {
     "start_time": "2023-05-01T14:31:50.948931Z",
     "end_time": "2023-05-01T14:31:50.956424Z"
    }
   }
  }
 ],
 "metadata": {
  "kernelspec": {
   "display_name": "Python 3",
   "language": "python",
   "name": "python3"
  },
  "language_info": {
   "codemirror_mode": {
    "name": "ipython",
    "version": 2
   },
   "file_extension": ".py",
   "mimetype": "text/x-python",
   "name": "python",
   "nbconvert_exporter": "python",
   "pygments_lexer": "ipython2",
   "version": "2.7.6"
  }
 },
 "nbformat": 4,
 "nbformat_minor": 0
}
