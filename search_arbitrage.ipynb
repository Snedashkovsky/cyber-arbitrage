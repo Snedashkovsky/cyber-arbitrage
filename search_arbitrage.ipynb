{
 "cells": [
  {
   "cell_type": "markdown",
   "metadata": {
    "collapsed": true
   },
   "source": [
    "## Search the Best Arbitrage in Bostrom Pools"
   ]
  },
  {
   "cell_type": "code",
   "execution_count": 1,
   "outputs": [],
   "source": [
    "import pandas as pd\n",
    "from IPython.display import display, HTML\n",
    "\n",
    "from src.data_extractors import get_pools, get_prices\n",
    "\n",
    "\n",
    "MIN_ARBITRAGE_REVENUE = 0.01\n",
    "H_START_AMOUNT = 4_000_000_000"
   ],
   "metadata": {
    "collapsed": false
   }
  },
  {
   "cell_type": "markdown",
   "source": [
    "#### Get Bostrom and Osmosis Pools Data"
   ],
   "metadata": {
    "collapsed": false
   }
  },
  {
   "cell_type": "code",
   "execution_count": 2,
   "outputs": [
    {
     "data": {
      "text/plain": "<IPython.core.display.HTML object>",
      "text/html": "<div>\n<style scoped>\n    .dataframe tbody tr th:only-of-type {\n        vertical-align: middle;\n    }\n\n    .dataframe tbody tr th {\n        vertical-align: top;\n    }\n\n    .dataframe thead th {\n        text-align: right;\n    }\n</style>\n<table border=\"1\" class=\"dataframe\">\n  <thead>\n    <tr style=\"text-align: right;\">\n      <th>network</th>\n      <th>id</th>\n      <th>type_id</th>\n      <th>balances</th>\n      <th>swap_fee</th>\n      <th>reserve_coin_denoms</th>\n    </tr>\n  </thead>\n  <tbody>\n    <tr>\n      <td>bostrom</td>\n      <td>1</td>\n      <td>1</td>\n      <td>[{'denom': 'boot', 'amount': '798996561003'}, {...</td>\n      <td>0.003</td>\n      <td>[boot, hydrogen]</td>\n    </tr>\n    <tr>\n      <td>bostrom</td>\n      <td>2</td>\n      <td>1</td>\n      <td>[{'denom': 'boot', 'amount': '8371441001'}, {'d...</td>\n      <td>0.003</td>\n      <td>[boot, milliampere]</td>\n    </tr>\n    <tr>\n      <td>bostrom</td>\n      <td>3</td>\n      <td>1</td>\n      <td>[{'denom': 'boot', 'amount': '721334121511'}, {...</td>\n      <td>0.003</td>\n      <td>[boot, tocyb]</td>\n    </tr>\n    <tr>\n      <td>bostrom</td>\n      <td>4</td>\n      <td>1</td>\n      <td>[{'denom': 'hydrogen', 'amount': '1835727816430...</td>\n      <td>0.003</td>\n      <td>[hydrogen, tocyb]</td>\n    </tr>\n    <tr>\n      <td>bostrom</td>\n      <td>5</td>\n      <td>1</td>\n      <td>[{'denom': 'hydrogen', 'amount': '160794119772'...</td>\n      <td>0.003</td>\n      <td>[hydrogen, milliampere]</td>\n    </tr>\n    <tr>\n      <td>bostrom</td>\n      <td>6</td>\n      <td>1</td>\n      <td>[{'denom': 'hydrogen', 'amount': '208541876471'...</td>\n      <td>0.003</td>\n      <td>[hydrogen, millivolt]</td>\n    </tr>\n    <tr>\n      <td>bostrom</td>\n      <td>7</td>\n      <td>1</td>\n      <td>[{'denom': 'hydrogen', 'amount': '388542504855'...</td>\n      <td>0.003</td>\n      <td>[hydrogen, uosmo in bostrom]</td>\n    </tr>\n    <tr>\n      <td>bostrom</td>\n      <td>8</td>\n      <td>1</td>\n      <td>[]</td>\n      <td>0.003</td>\n      <td>[hydrogen, deprecated uatom in bostrom]</td>\n    </tr>\n    <tr>\n      <td>bostrom</td>\n      <td>9</td>\n      <td>1</td>\n      <td>[{'denom': 'uosmo in bostrom', 'amount': '45097...</td>\n      <td>0.003</td>\n      <td>[uosmo in bostrom, deprecated uatom in bostrom]</td>\n    </tr>\n    <tr>\n      <td>bostrom</td>\n      <td>10</td>\n      <td>1</td>\n      <td>[{'denom': 'milliampere', 'amount': '25758962'}...</td>\n      <td>0.003</td>\n      <td>[milliampere, millivolt]</td>\n    </tr>\n    <tr>\n      <td>bostrom</td>\n      <td>11</td>\n      <td>1</td>\n      <td>[{'denom': 'boot', 'amount': '32971740241'}, {'...</td>\n      <td>0.003</td>\n      <td>[boot, millivolt]</td>\n    </tr>\n    <tr>\n      <td>bostrom</td>\n      <td>12</td>\n      <td>1</td>\n      <td>[{'denom': 'hydrogen', 'amount': '175799509809'...</td>\n      <td>0.003</td>\n      <td>[hydrogen, uatom in bostrom]</td>\n    </tr>\n    <tr>\n      <td>bostrom</td>\n      <td>13</td>\n      <td>1</td>\n      <td>[{'denom': 'boot', 'amount': '12145222524'}, {'...</td>\n      <td>0.003</td>\n      <td>[boot, pussy in bostrom]</td>\n    </tr>\n    <tr>\n      <td>osmosis</td>\n      <td>1</td>\n      <td>1</td>\n      <td>[{'denom': 'uatom in osmosis', 'amount': '33049...</td>\n      <td>0.002</td>\n      <td>[uatom in osmosis, uosmo]</td>\n    </tr>\n    <tr>\n      <td>osmosis</td>\n      <td>596</td>\n      <td>1</td>\n      <td>[{'denom': 'uatom in osmosis', 'amount': '23170...</td>\n      <td>0.003</td>\n      <td>[uatom in osmosis, boot in osmosis]</td>\n    </tr>\n    <tr>\n      <td>osmosis</td>\n      <td>597</td>\n      <td>1</td>\n      <td>[{'denom': 'boot in osmosis', 'amount': '501091...</td>\n      <td>0.002</td>\n      <td>[boot in osmosis, uosmo]</td>\n    </tr>\n  </tbody>\n</table>\n</div>"
     },
     "metadata": {},
     "output_type": "display_data"
    }
   ],
   "source": [
    "pools_df = get_pools(display_data=True)"
   ],
   "metadata": {
    "collapsed": false
   }
  },
  {
   "cell_type": "markdown",
   "source": [
    "#### Calculate Prices"
   ],
   "metadata": {
    "collapsed": false
   }
  },
  {
   "cell_type": "code",
   "execution_count": 3,
   "outputs": [
    {
     "data": {
      "text/plain": "<IPython.core.display.HTML object>",
      "text/html": "<div>\n<style scoped>\n    .dataframe tbody tr th:only-of-type {\n        vertical-align: middle;\n    }\n\n    .dataframe tbody tr th {\n        vertical-align: top;\n    }\n\n    .dataframe thead th {\n        text-align: right;\n    }\n</style>\n<table border=\"1\" class=\"dataframe\">\n  <thead>\n    <tr style=\"text-align: right;\">\n      <th></th>\n      <th>uosmo in bostrom</th>\n      <th>tocyb</th>\n      <th>boot in osmosis</th>\n      <th>hydrogen</th>\n      <th>uatom in bostrom</th>\n      <th>milliampere</th>\n      <th>boot</th>\n      <th>deprecated uatom in bostrom</th>\n      <th>pussy in bostrom</th>\n      <th>uatom in osmosis</th>\n      <th>uosmo</th>\n      <th>millivolt</th>\n    </tr>\n  </thead>\n  <tbody>\n    <tr>\n      <th>uosmo in bostrom</th>\n      <td>1</td>\n      <td>NaN</td>\n      <td>NaN</td>\n      <td>0.004514</td>\n      <td>NaN</td>\n      <td>NaN</td>\n      <td>NaN</td>\n      <td>8.061486</td>\n      <td>NaN</td>\n      <td>NaN</td>\n      <td>1</td>\n      <td>NaN</td>\n    </tr>\n    <tr>\n      <th>tocyb</th>\n      <td>NaN</td>\n      <td>1</td>\n      <td>NaN</td>\n      <td>0.493412</td>\n      <td>NaN</td>\n      <td>NaN</td>\n      <td>1.80168</td>\n      <td>NaN</td>\n      <td>NaN</td>\n      <td>NaN</td>\n      <td>NaN</td>\n      <td>NaN</td>\n    </tr>\n    <tr>\n      <th>boot in osmosis</th>\n      <td>NaN</td>\n      <td>NaN</td>\n      <td>1</td>\n      <td>NaN</td>\n      <td>NaN</td>\n      <td>NaN</td>\n      <td>1</td>\n      <td>NaN</td>\n      <td>NaN</td>\n      <td>645.417791</td>\n      <td>64.673538</td>\n      <td>NaN</td>\n    </tr>\n    <tr>\n      <th>hydrogen</th>\n      <td>220.226721</td>\n      <td>2.014563</td>\n      <td>NaN</td>\n      <td>1</td>\n      <td>2073.960187</td>\n      <td>3866.961128</td>\n      <td>3.426788</td>\n      <td>NaN</td>\n      <td>NaN</td>\n      <td>NaN</td>\n      <td>NaN</td>\n      <td>37429.914559</td>\n    </tr>\n    <tr>\n      <th>uatom in bostrom</th>\n      <td>NaN</td>\n      <td>NaN</td>\n      <td>NaN</td>\n      <td>0.000479</td>\n      <td>1</td>\n      <td>NaN</td>\n      <td>NaN</td>\n      <td>NaN</td>\n      <td>NaN</td>\n      <td>1</td>\n      <td>NaN</td>\n      <td>NaN</td>\n    </tr>\n    <tr>\n      <th>milliampere</th>\n      <td>NaN</td>\n      <td>NaN</td>\n      <td>NaN</td>\n      <td>0.000257</td>\n      <td>NaN</td>\n      <td>1</td>\n      <td>0.000945</td>\n      <td>NaN</td>\n      <td>NaN</td>\n      <td>NaN</td>\n      <td>NaN</td>\n      <td>9.729647</td>\n    </tr>\n    <tr>\n      <th>boot</th>\n      <td>NaN</td>\n      <td>0.551712</td>\n      <td>1</td>\n      <td>0.29007</td>\n      <td>NaN</td>\n      <td>1051.879298</td>\n      <td>1</td>\n      <td>NaN</td>\n      <td>0.001466</td>\n      <td>NaN</td>\n      <td>NaN</td>\n      <td>10447.272984</td>\n    </tr>\n    <tr>\n      <th>deprecated uatom in bostrom</th>\n      <td>0.123303</td>\n      <td>NaN</td>\n      <td>NaN</td>\n      <td>NaN</td>\n      <td>NaN</td>\n      <td>NaN</td>\n      <td>NaN</td>\n      <td>1</td>\n      <td>NaN</td>\n      <td>NaN</td>\n      <td>NaN</td>\n      <td>NaN</td>\n    </tr>\n    <tr>\n      <th>pussy in bostrom</th>\n      <td>NaN</td>\n      <td>NaN</td>\n      <td>NaN</td>\n      <td>NaN</td>\n      <td>NaN</td>\n      <td>NaN</td>\n      <td>678.21667</td>\n      <td>NaN</td>\n      <td>1</td>\n      <td>NaN</td>\n      <td>NaN</td>\n      <td>NaN</td>\n    </tr>\n    <tr>\n      <th>uatom in osmosis</th>\n      <td>NaN</td>\n      <td>NaN</td>\n      <td>0.00154</td>\n      <td>NaN</td>\n      <td>1</td>\n      <td>NaN</td>\n      <td>NaN</td>\n      <td>NaN</td>\n      <td>NaN</td>\n      <td>1</td>\n      <td>0.100586</td>\n      <td>NaN</td>\n    </tr>\n    <tr>\n      <th>uosmo</th>\n      <td>1</td>\n      <td>NaN</td>\n      <td>0.01537</td>\n      <td>NaN</td>\n      <td>NaN</td>\n      <td>NaN</td>\n      <td>NaN</td>\n      <td>NaN</td>\n      <td>NaN</td>\n      <td>9.882144</td>\n      <td>1</td>\n      <td>NaN</td>\n    </tr>\n    <tr>\n      <th>millivolt</th>\n      <td>NaN</td>\n      <td>NaN</td>\n      <td>NaN</td>\n      <td>0.000027</td>\n      <td>NaN</td>\n      <td>0.102163</td>\n      <td>0.000095</td>\n      <td>NaN</td>\n      <td>NaN</td>\n      <td>NaN</td>\n      <td>NaN</td>\n      <td>1</td>\n    </tr>\n  </tbody>\n</table>\n</div>"
     },
     "metadata": {},
     "output_type": "display_data"
    }
   ],
   "source": [
    "price_df = get_prices(pools_df=pools_df, display_data=True)"
   ],
   "metadata": {
    "collapsed": false
   }
  },
  {
   "cell_type": "markdown",
   "source": [
    "#### Search the Best Arbitrage"
   ],
   "metadata": {
    "collapsed": false
   }
  },
  {
   "cell_type": "code",
   "execution_count": 4,
   "outputs": [
    {
     "data": {
      "text/plain": "<IPython.core.display.HTML object>",
      "text/html": "<div>\n<style scoped>\n    .dataframe tbody tr th:only-of-type {\n        vertical-align: middle;\n    }\n\n    .dataframe tbody tr th {\n        vertical-align: top;\n    }\n\n    .dataframe thead th {\n        text-align: right;\n    }\n</style>\n<table border=\"1\" class=\"dataframe\">\n  <thead>\n    <tr style=\"text-align: right;\">\n      <th>arbitrage</th>\n      <th>revenue</th>\n    </tr>\n  </thead>\n  <tbody>\n    <tr>\n      <td>boot -&gt; milliampere -&gt; hydrogen -&gt; boot</td>\n      <td>1.06</td>\n    </tr>\n    <tr>\n      <td>hydrogen -&gt; boot -&gt; milliampere -&gt; hydrogen</td>\n      <td>1.06</td>\n    </tr>\n    <tr>\n      <td>milliampere -&gt; hydrogen -&gt; boot -&gt; milliampere</td>\n      <td>1.06</td>\n    </tr>\n    <tr>\n      <td>tocyb -&gt; hydrogen -&gt; boot -&gt; tocyb</td>\n      <td>1.05</td>\n    </tr>\n    <tr>\n      <td>boot -&gt; tocyb -&gt; hydrogen -&gt; boot</td>\n      <td>1.05</td>\n    </tr>\n    <tr>\n      <td>hydrogen -&gt; boot -&gt; tocyb -&gt; hydrogen</td>\n      <td>1.05</td>\n    </tr>\n    <tr>\n      <td>hydrogen -&gt; boot -&gt; milliampere -&gt; millivolt -&gt; hydrogen</td>\n      <td>1.05</td>\n    </tr>\n    <tr>\n      <td>boot -&gt; milliampere -&gt; millivolt -&gt; hydrogen -&gt; boot</td>\n      <td>1.05</td>\n    </tr>\n    <tr>\n      <td>millivolt -&gt; hydrogen -&gt; boot -&gt; milliampere -&gt; millivolt</td>\n      <td>1.05</td>\n    </tr>\n    <tr>\n      <td>milliampere -&gt; millivolt -&gt; hydrogen -&gt; boot -&gt; milliampere</td>\n      <td>1.05</td>\n    </tr>\n    <tr>\n      <td>millivolt -&gt; milliampere -&gt; hydrogen -&gt; boot -&gt; millivolt</td>\n      <td>1.04</td>\n    </tr>\n    <tr>\n      <td>hydrogen -&gt; boot -&gt; millivolt -&gt; milliampere -&gt; hydrogen</td>\n      <td>1.04</td>\n    </tr>\n    <tr>\n      <td>boot -&gt; millivolt -&gt; milliampere -&gt; hydrogen -&gt; boot</td>\n      <td>1.04</td>\n    </tr>\n    <tr>\n      <td>milliampere -&gt; hydrogen -&gt; boot -&gt; millivolt -&gt; milliampere</td>\n      <td>1.04</td>\n    </tr>\n    <tr>\n      <td>boot -&gt; millivolt -&gt; hydrogen -&gt; boot</td>\n      <td>1.03</td>\n    </tr>\n    <tr>\n      <td>millivolt -&gt; hydrogen -&gt; boot -&gt; millivolt</td>\n      <td>1.03</td>\n    </tr>\n    <tr>\n      <td>hydrogen -&gt; boot -&gt; millivolt -&gt; hydrogen</td>\n      <td>1.03</td>\n    </tr>\n    <tr>\n      <td>milliampere -&gt; hydrogen -&gt; millivolt -&gt; boot -&gt; milliampere</td>\n      <td>1.01</td>\n    </tr>\n    <tr>\n      <td>hydrogen -&gt; millivolt -&gt; boot -&gt; milliampere -&gt; hydrogen</td>\n      <td>1.01</td>\n    </tr>\n    <tr>\n      <td>millivolt -&gt; boot -&gt; milliampere -&gt; hydrogen -&gt; millivolt</td>\n      <td>1.01</td>\n    </tr>\n    <tr>\n      <td>boot -&gt; milliampere -&gt; hydrogen -&gt; millivolt -&gt; boot</td>\n      <td>1.01</td>\n    </tr>\n  </tbody>\n</table>\n</div>"
     },
     "metadata": {},
     "output_type": "display_data"
    }
   ],
   "source": [
    "coins_unique_set = set(price_df.columns)\n",
    "result_list = []\n",
    "for coin_1 in coins_unique_set:\n",
    "    coin_1_amount = H_START_AMOUNT * price_df.loc[coin_1, 'hydrogen']\n",
    "    if coin_1_amount > 0:\n",
    "        for coin_2 in coins_unique_set.difference({coin_1}):\n",
    "            coin_2_amount = coin_1_amount * price_df.loc[coin_2, coin_1]\n",
    "            if coin_2_amount > 0:\n",
    "                for coin_3 in coins_unique_set.difference({coin_1, coin_2}):\n",
    "                    coin_3_amount = coin_2_amount * price_df.loc[coin_3, coin_2]\n",
    "                    result = coin_3_amount * price_df.loc[coin_1, coin_3]\n",
    "                    if result > coin_1_amount * (1 + MIN_ARBITRAGE_REVENUE):\n",
    "                        result_list.append(\n",
    "                                [[coin_1, coin_2, coin_3],\n",
    "                                 round(result/coin_1_amount, 3)])\n",
    "                    if coin_2_amount > 0:\n",
    "                        for coin_4 in coins_unique_set.difference({coin_1, coin_2, coin_3}):\n",
    "                            coin_4_amount = coin_3_amount * price_df.loc[coin_4, coin_3]\n",
    "                            result = coin_4_amount * price_df.loc[coin_1, coin_4]\n",
    "                            if result > coin_1_amount * (1 + MIN_ARBITRAGE_REVENUE):\n",
    "                                result_list.append(\n",
    "                                    [[coin_1, coin_2, coin_3, coin_4],\n",
    "                                     round(result/coin_1_amount, 3)])\n",
    "\n",
    "result_df =\\\n",
    "    pd.DataFrame(\n",
    "        data=[[' -> '.join(coin for coin in item[0] + [item[0][0]]), item[1]] for item in result_list],\n",
    "        columns=['arbitrage', 'revenue']).sort_values('revenue', ascending=False)\n",
    "pd.set_option('display.max_colwidth', None)\n",
    "pd.options.display.float_format = '{0:7,.2f}'.format\n",
    "display(HTML(result_df.to_html(index=False, notebook=True, show_dimensions=False)))\n"
   ],
   "metadata": {
    "collapsed": false
   }
  },
  {
   "cell_type": "code",
   "execution_count": 4,
   "outputs": [],
   "source": [],
   "metadata": {
    "collapsed": false
   }
  }
 ],
 "metadata": {
  "kernelspec": {
   "name": "python3",
   "language": "python",
   "display_name": "Python 3 (ipykernel)"
  },
  "language_info": {
   "codemirror_mode": {
    "name": "ipython",
    "version": 2
   },
   "file_extension": ".py",
   "mimetype": "text/x-python",
   "name": "python",
   "nbconvert_exporter": "python",
   "pygments_lexer": "ipython2",
   "version": "2.7.6"
  }
 },
 "nbformat": 4,
 "nbformat_minor": 0
}
