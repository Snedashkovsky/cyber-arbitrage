{
 "cells": [
  {
   "cell_type": "markdown",
   "metadata": {
    "collapsed": true,
    "pycharm": {
     "name": "#%% md\n"
    }
   },
   "source": [
    "## Search the Best Arbitrage in Bostrom Pools"
   ]
  },
  {
   "cell_type": "code",
   "execution_count": 1,
   "outputs": [],
   "source": [
    "import pandas as pd\n",
    "from IPython.core.display import display, HTML\n",
    "\n",
    "from src.data_extractors import get_pools, get_prices\n",
    "\n",
    "\n",
    "MIN_ARBITRAGE_REVENUE = 0.02\n",
    "H_START_AMOUNT = 1_000_000"
   ],
   "metadata": {
    "collapsed": false,
    "pycharm": {
     "name": "#%%\n"
    }
   }
  },
  {
   "cell_type": "markdown",
   "source": [
    "#### Get Bostrom and Osmosis Pools Data"
   ],
   "metadata": {
    "collapsed": false
   }
  },
  {
   "cell_type": "code",
   "execution_count": 2,
   "outputs": [
    {
     "data": {
      "text/plain": "<IPython.core.display.HTML object>",
      "text/html": "<div>\n<style scoped>\n    .dataframe tbody tr th:only-of-type {\n        vertical-align: middle;\n    }\n\n    .dataframe tbody tr th {\n        vertical-align: top;\n    }\n\n    .dataframe thead th {\n        text-align: right;\n    }\n</style>\n<table border=\"1\" class=\"dataframe\">\n  <thead>\n    <tr style=\"text-align: right;\">\n      <th>network</th>\n      <th>id</th>\n      <th>type_id</th>\n      <th>balances</th>\n      <th>reserve_coin_denoms</th>\n      <th>swap_fee</th>\n    </tr>\n  </thead>\n  <tbody>\n    <tr>\n      <td>bostrom</td>\n      <td>1</td>\n      <td>1</td>\n      <td>[{'denom': 'boot', 'amount': '66237084030'}, {'...</td>\n      <td>[boot, hydrogen]</td>\n      <td>0.003</td>\n    </tr>\n    <tr>\n      <td>bostrom</td>\n      <td>2</td>\n      <td>1</td>\n      <td>[{'denom': 'boot', 'amount': '16255814583'}, {'...</td>\n      <td>[boot, milliampere]</td>\n      <td>0.003</td>\n    </tr>\n    <tr>\n      <td>bostrom</td>\n      <td>3</td>\n      <td>1</td>\n      <td>[{'denom': 'boot', 'amount': '21645465844'}, {'...</td>\n      <td>[boot, tocyb]</td>\n      <td>0.003</td>\n    </tr>\n    <tr>\n      <td>bostrom</td>\n      <td>4</td>\n      <td>1</td>\n      <td>[{'denom': 'hydrogen', 'amount': '36376537278'}...</td>\n      <td>[hydrogen, tocyb]</td>\n      <td>0.003</td>\n    </tr>\n    <tr>\n      <td>bostrom</td>\n      <td>5</td>\n      <td>1</td>\n      <td>[{'denom': 'hydrogen', 'amount': '448607469898'...</td>\n      <td>[hydrogen, milliampere]</td>\n      <td>0.003</td>\n    </tr>\n    <tr>\n      <td>bostrom</td>\n      <td>6</td>\n      <td>1</td>\n      <td>[{'denom': 'hydrogen', 'amount': '493205757119'...</td>\n      <td>[hydrogen, millivolt]</td>\n      <td>0.003</td>\n    </tr>\n    <tr>\n      <td>bostrom</td>\n      <td>7</td>\n      <td>1</td>\n      <td>[{'denom': 'hydrogen', 'amount': '21530822969'}...</td>\n      <td>[hydrogen, uosmo in bostrom]</td>\n      <td>0.003</td>\n    </tr>\n    <tr>\n      <td>bostrom</td>\n      <td>8</td>\n      <td>1</td>\n      <td>[{'denom': 'hydrogen', 'amount': '35811572269'}...</td>\n      <td>[hydrogen, uatom in bostrom]</td>\n      <td>0.003</td>\n    </tr>\n    <tr>\n      <td>bostrom</td>\n      <td>9</td>\n      <td>1</td>\n      <td>[{'denom': 'uosmo in bostrom', 'amount': '46491...</td>\n      <td>[uosmo in bostrom, uatom in bostrom]</td>\n      <td>0.003</td>\n    </tr>\n    <tr>\n      <td>bostrom</td>\n      <td>10</td>\n      <td>1</td>\n      <td>[{'denom': 'milliampere', 'amount': '7216553'},...</td>\n      <td>[milliampere, millivolt]</td>\n      <td>0.003</td>\n    </tr>\n    <tr>\n      <td>osmosis</td>\n      <td>1</td>\n      <td>1</td>\n      <td>[{'denom': 'uatom in osmosis', 'amount': '73808...</td>\n      <td>[uatom in osmosis, uosmo]</td>\n      <td>0.003</td>\n    </tr>\n    <tr>\n      <td>osmosis</td>\n      <td>596</td>\n      <td>1</td>\n      <td>[{'denom': 'uatom in osmosis', 'amount': '71742...</td>\n      <td>[uatom in osmosis, boot in osmosis]</td>\n      <td>0.003</td>\n    </tr>\n    <tr>\n      <td>osmosis</td>\n      <td>597</td>\n      <td>1</td>\n      <td>[{'denom': 'boot in osmosis', 'amount': '851253...</td>\n      <td>[boot in osmosis, uosmo]</td>\n      <td>0.002</td>\n    </tr>\n  </tbody>\n</table>\n</div>"
     },
     "metadata": {},
     "output_type": "display_data"
    }
   ],
   "source": [
    "pools_df = get_pools(display_data=True)"
   ],
   "metadata": {
    "collapsed": false,
    "pycharm": {
     "name": "#%%\n"
    }
   }
  },
  {
   "cell_type": "markdown",
   "source": [
    "#### Calculate Prices"
   ],
   "metadata": {
    "collapsed": false
   }
  },
  {
   "cell_type": "code",
   "execution_count": 3,
   "outputs": [
    {
     "data": {
      "text/plain": "<IPython.core.display.HTML object>",
      "text/html": "<div>\n<style scoped>\n    .dataframe tbody tr th:only-of-type {\n        vertical-align: middle;\n    }\n\n    .dataframe tbody tr th {\n        vertical-align: top;\n    }\n\n    .dataframe thead th {\n        text-align: right;\n    }\n</style>\n<table border=\"1\" class=\"dataframe\">\n  <thead>\n    <tr style=\"text-align: right;\">\n      <th></th>\n      <th>boot</th>\n      <th>millivolt</th>\n      <th>tocyb</th>\n      <th>milliampere</th>\n      <th>uosmo in bostrom</th>\n      <th>uosmo</th>\n      <th>boot in osmosis</th>\n      <th>uatom in osmosis</th>\n      <th>hydrogen</th>\n      <th>uatom in bostrom</th>\n    </tr>\n  </thead>\n  <tbody>\n    <tr>\n      <th>boot</th>\n      <td>1</td>\n      <td>NaN</td>\n      <td>1.866515</td>\n      <td>7714.559345</td>\n      <td>NaN</td>\n      <td>NaN</td>\n      <td>1</td>\n      <td>NaN</td>\n      <td>0.447326</td>\n      <td>NaN</td>\n    </tr>\n    <tr>\n      <th>millivolt</th>\n      <td>NaN</td>\n      <td>1</td>\n      <td>NaN</td>\n      <td>0.132539</td>\n      <td>NaN</td>\n      <td>NaN</td>\n      <td>NaN</td>\n      <td>NaN</td>\n      <td>0.000008</td>\n      <td>NaN</td>\n    </tr>\n    <tr>\n      <th>tocyb</th>\n      <td>0.532548</td>\n      <td>NaN</td>\n      <td>1</td>\n      <td>NaN</td>\n      <td>NaN</td>\n      <td>NaN</td>\n      <td>NaN</td>\n      <td>NaN</td>\n      <td>0.236839</td>\n      <td>NaN</td>\n    </tr>\n    <tr>\n      <th>milliampere</th>\n      <td>0.000129</td>\n      <td>7.499745</td>\n      <td>NaN</td>\n      <td>1</td>\n      <td>NaN</td>\n      <td>NaN</td>\n      <td>NaN</td>\n      <td>NaN</td>\n      <td>0.000057</td>\n      <td>NaN</td>\n    </tr>\n    <tr>\n      <th>uosmo in bostrom</th>\n      <td>NaN</td>\n      <td>NaN</td>\n      <td>NaN</td>\n      <td>NaN</td>\n      <td>1</td>\n      <td>1</td>\n      <td>NaN</td>\n      <td>NaN</td>\n      <td>0.017659</td>\n      <td>3.905061</td>\n    </tr>\n    <tr>\n      <th>uosmo</th>\n      <td>NaN</td>\n      <td>NaN</td>\n      <td>NaN</td>\n      <td>NaN</td>\n      <td>1</td>\n      <td>1</td>\n      <td>0.035822</td>\n      <td>3.547396</td>\n      <td>NaN</td>\n      <td>NaN</td>\n    </tr>\n    <tr>\n      <th>boot in osmosis</th>\n      <td>1</td>\n      <td>NaN</td>\n      <td>NaN</td>\n      <td>NaN</td>\n      <td>NaN</td>\n      <td>27.748287</td>\n      <td>1</td>\n      <td>98.032168</td>\n      <td>NaN</td>\n      <td>NaN</td>\n    </tr>\n    <tr>\n      <th>uatom in osmosis</th>\n      <td>NaN</td>\n      <td>NaN</td>\n      <td>NaN</td>\n      <td>NaN</td>\n      <td>NaN</td>\n      <td>0.280208</td>\n      <td>0.01014</td>\n      <td>1</td>\n      <td>NaN</td>\n      <td>1</td>\n    </tr>\n    <tr>\n      <th>hydrogen</th>\n      <td>2.222114</td>\n      <td>129280.126452</td>\n      <td>4.196978</td>\n      <td>17401.570855</td>\n      <td>56.289095</td>\n      <td>NaN</td>\n      <td>NaN</td>\n      <td>NaN</td>\n      <td>1</td>\n      <td>218.090125</td>\n    </tr>\n    <tr>\n      <th>uatom in bostrom</th>\n      <td>NaN</td>\n      <td>NaN</td>\n      <td>NaN</td>\n      <td>NaN</td>\n      <td>0.254544</td>\n      <td>NaN</td>\n      <td>NaN</td>\n      <td>1</td>\n      <td>0.004558</td>\n      <td>1</td>\n    </tr>\n  </tbody>\n</table>\n</div>"
     },
     "metadata": {},
     "output_type": "display_data"
    }
   ],
   "source": [
    "price_df = get_prices(pools_df=pools_df, display_data=True)"
   ],
   "metadata": {
    "collapsed": false,
    "pycharm": {
     "name": "#%%\n"
    }
   }
  },
  {
   "cell_type": "markdown",
   "source": [],
   "metadata": {
    "collapsed": false,
    "pycharm": {
     "name": "#%% md\n"
    }
   }
  },
  {
   "cell_type": "code",
   "execution_count": 4,
   "outputs": [
    {
     "data": {
      "text/plain": "<IPython.core.display.HTML object>",
      "text/html": "<div>\n<style scoped>\n    .dataframe tbody tr th:only-of-type {\n        vertical-align: middle;\n    }\n\n    .dataframe tbody tr th {\n        vertical-align: top;\n    }\n\n    .dataframe thead th {\n        text-align: right;\n    }\n</style>\n<table border=\"1\" class=\"dataframe\">\n  <thead>\n    <tr style=\"text-align: right;\">\n      <th>arbitrage</th>\n      <th>revenue</th>\n    </tr>\n  </thead>\n  <tbody>\n    <tr>\n      <td>uosmo in bostrom -&gt; uosmo -&gt; uatom in osmosis -&gt; uatom in bostrom -&gt; uosmo in bostrom</td>\n      <td>1.09</td>\n    </tr>\n    <tr>\n      <td>uatom in bostrom -&gt; uosmo in bostrom -&gt; uosmo -&gt; uatom in osmosis -&gt; uatom in bostrom</td>\n      <td>1.09</td>\n    </tr>\n  </tbody>\n</table>\n</div>"
     },
     "metadata": {},
     "output_type": "display_data"
    }
   ],
   "source": [
    "coins_unique_set = set(price_df.columns)\n",
    "result_list = []\n",
    "for coin_1 in coins_unique_set:\n",
    "    coin_1_amount = H_START_AMOUNT * price_df.loc[coin_1, 'hydrogen']\n",
    "    if coin_1_amount > 0:\n",
    "        for coin_2 in coins_unique_set.difference({coin_1}):\n",
    "            coin_2_amount = coin_1_amount * price_df.loc[coin_2, coin_1]\n",
    "            if coin_2_amount > 0:\n",
    "                for coin_3 in coins_unique_set.difference({coin_1, coin_2}):\n",
    "                    coin_3_amount = coin_2_amount * price_df.loc[coin_3, coin_2]\n",
    "                    result = coin_3_amount * price_df.loc[coin_1, coin_3]\n",
    "                    if result > coin_1_amount * (1 + MIN_ARBITRAGE_REVENUE):\n",
    "                        result_list.append(\n",
    "                                [[coin_1, coin_2, coin_3],\n",
    "                                 round(result/coin_1_amount, 3)])\n",
    "                    if coin_2_amount > 0:\n",
    "                        for coin_4 in coins_unique_set.difference({coin_1, coin_2, coin_3}):\n",
    "                            coin_4_amount = coin_3_amount * price_df.loc[coin_4, coin_3]\n",
    "                            result = coin_4_amount * price_df.loc[coin_1, coin_4]\n",
    "                            if result > coin_1_amount * (1 + MIN_ARBITRAGE_REVENUE):\n",
    "                                result_list.append(\n",
    "                                    [[coin_1, coin_2, coin_3, coin_4],\n",
    "                                     round(result/coin_1_amount, 3)])\n",
    "\n",
    "result_df =\\\n",
    "    pd.DataFrame(\n",
    "        data=[[' -> '.join(coin for coin in item[0] + [item[0][0]]), item[1]] for item in result_list],\n",
    "        columns=['arbitrage', 'revenue']).sort_values('revenue', ascending=False)\n",
    "pd.set_option('display.max_colwidth', None)\n",
    "pd.options.display.float_format = '{0:7,.2f}'.format\n",
    "display(HTML(result_df.to_html(index=False, notebook=True, show_dimensions=False)))\n",
    "\n"
   ],
   "metadata": {
    "collapsed": false,
    "pycharm": {
     "name": "#%%\n"
    }
   }
  }
 ],
 "metadata": {
  "kernelspec": {
   "name": "python3",
   "language": "python",
   "display_name": "Python 3 (ipykernel)"
  },
  "language_info": {
   "codemirror_mode": {
    "name": "ipython",
    "version": 2
   },
   "file_extension": ".py",
   "mimetype": "text/x-python",
   "name": "python",
   "nbconvert_exporter": "python",
   "pygments_lexer": "ipython2",
   "version": "2.7.6"
  }
 },
 "nbformat": 4,
 "nbformat_minor": 0
}