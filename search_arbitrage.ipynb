{
 "cells": [
  {
   "cell_type": "markdown",
   "metadata": {
    "collapsed": true,
    "pycharm": {
     "name": "#%% md\n"
    }
   },
   "source": [
    "## Search the Best Arbitrage in Bostrom Pools"
   ]
  },
  {
   "cell_type": "code",
   "execution_count": 1,
   "outputs": [],
   "source": [
    "import pandas as pd\n",
    "from IPython.core.display import display, HTML\n",
    "\n",
    "from src.data_extractors import get_pools, get_prices\n",
    "\n",
    "\n",
    "MIN_ARBITRAGE_REVENUE = 0.01\n",
    "H_START_AMOUNT = 1_000_000"
   ],
   "metadata": {
    "collapsed": false,
    "pycharm": {
     "name": "#%%\n"
    }
   }
  },
  {
   "cell_type": "markdown",
   "source": [
    "#### Get Bostrom and Osmosis Pools Data"
   ],
   "metadata": {
    "collapsed": false
   }
  },
  {
   "cell_type": "code",
   "execution_count": 2,
   "outputs": [
    {
     "data": {
      "text/plain": "<IPython.core.display.HTML object>",
      "text/html": "<div>\n<style scoped>\n    .dataframe tbody tr th:only-of-type {\n        vertical-align: middle;\n    }\n\n    .dataframe tbody tr th {\n        vertical-align: top;\n    }\n\n    .dataframe thead th {\n        text-align: right;\n    }\n</style>\n<table border=\"1\" class=\"dataframe\">\n  <thead>\n    <tr style=\"text-align: right;\">\n      <th>network</th>\n      <th>id</th>\n      <th>type_id</th>\n      <th>balances</th>\n      <th>swap_fee</th>\n      <th>reserve_coin_denoms</th>\n    </tr>\n  </thead>\n  <tbody>\n    <tr>\n      <td>bostrom</td>\n      <td>1</td>\n      <td>1</td>\n      <td>[{'denom': 'boot', 'amount': '1111069709373'}, ...</td>\n      <td>0.003</td>\n      <td>[boot, hydrogen]</td>\n    </tr>\n    <tr>\n      <td>bostrom</td>\n      <td>2</td>\n      <td>1</td>\n      <td>[{'denom': 'boot', 'amount': '15277065615'}, {'...</td>\n      <td>0.003</td>\n      <td>[boot, milliampere]</td>\n    </tr>\n    <tr>\n      <td>bostrom</td>\n      <td>3</td>\n      <td>1</td>\n      <td>[{'denom': 'boot', 'amount': '1154939436349'}, ...</td>\n      <td>0.003</td>\n      <td>[boot, tocyb]</td>\n    </tr>\n    <tr>\n      <td>bostrom</td>\n      <td>4</td>\n      <td>1</td>\n      <td>[{'denom': 'hydrogen', 'amount': '2058311284513...</td>\n      <td>0.003</td>\n      <td>[hydrogen, tocyb]</td>\n    </tr>\n    <tr>\n      <td>bostrom</td>\n      <td>5</td>\n      <td>1</td>\n      <td>[{'denom': 'hydrogen', 'amount': '269044473027'...</td>\n      <td>0.003</td>\n      <td>[hydrogen, milliampere]</td>\n    </tr>\n    <tr>\n      <td>bostrom</td>\n      <td>6</td>\n      <td>1</td>\n      <td>[{'denom': 'hydrogen', 'amount': '404759832074'...</td>\n      <td>0.003</td>\n      <td>[hydrogen, millivolt]</td>\n    </tr>\n    <tr>\n      <td>bostrom</td>\n      <td>7</td>\n      <td>1</td>\n      <td>[{'denom': 'hydrogen', 'amount': '127883137913'...</td>\n      <td>0.003</td>\n      <td>[hydrogen, uosmo in bostrom]</td>\n    </tr>\n    <tr>\n      <td>bostrom</td>\n      <td>8</td>\n      <td>1</td>\n      <td>[{'denom': 'hydrogen', 'amount': '18287292928'}...</td>\n      <td>0.003</td>\n      <td>[hydrogen, deprecated uatom in bostrom]</td>\n    </tr>\n    <tr>\n      <td>bostrom</td>\n      <td>9</td>\n      <td>1</td>\n      <td>[{'denom': 'uosmo in bostrom', 'amount': '16048...</td>\n      <td>0.003</td>\n      <td>[uosmo in bostrom, deprecated uatom in bostrom]</td>\n    </tr>\n    <tr>\n      <td>bostrom</td>\n      <td>10</td>\n      <td>1</td>\n      <td>[{'denom': 'milliampere', 'amount': '25837094'}...</td>\n      <td>0.003</td>\n      <td>[milliampere, millivolt]</td>\n    </tr>\n    <tr>\n      <td>bostrom</td>\n      <td>11</td>\n      <td>1</td>\n      <td>[{'denom': 'boot', 'amount': '62755909303'}, {'...</td>\n      <td>0.003</td>\n      <td>[boot, millivolt]</td>\n    </tr>\n    <tr>\n      <td>bostrom</td>\n      <td>12</td>\n      <td>1</td>\n      <td>[{'denom': 'hydrogen', 'amount': '23435188197'}...</td>\n      <td>0.003</td>\n      <td>[hydrogen, uatom in bostrom]</td>\n    </tr>\n    <tr>\n      <td>osmosis</td>\n      <td>1</td>\n      <td>1</td>\n      <td>[{'denom': 'uatom in osmosis', 'amount': '41453...</td>\n      <td>0.002</td>\n      <td>[uatom in osmosis, uosmo]</td>\n    </tr>\n    <tr>\n      <td>osmosis</td>\n      <td>596</td>\n      <td>1</td>\n      <td>[{'denom': 'uatom in osmosis', 'amount': '42541...</td>\n      <td>0.003</td>\n      <td>[uatom in osmosis, boot in osmosis]</td>\n    </tr>\n    <tr>\n      <td>osmosis</td>\n      <td>597</td>\n      <td>1</td>\n      <td>[{'denom': 'boot in osmosis', 'amount': '386010...</td>\n      <td>0.002</td>\n      <td>[boot in osmosis, uosmo]</td>\n    </tr>\n  </tbody>\n</table>\n</div>"
     },
     "metadata": {},
     "output_type": "display_data"
    }
   ],
   "source": [
    "pools_df = get_pools(display_data=True)"
   ],
   "metadata": {
    "collapsed": false,
    "pycharm": {
     "name": "#%%\n"
    }
   }
  },
  {
   "cell_type": "markdown",
   "source": [
    "#### Calculate Prices"
   ],
   "metadata": {
    "collapsed": false
   }
  },
  {
   "cell_type": "code",
   "execution_count": 3,
   "outputs": [
    {
     "data": {
      "text/plain": "<IPython.core.display.HTML object>",
      "text/html": "<div>\n<style scoped>\n    .dataframe tbody tr th:only-of-type {\n        vertical-align: middle;\n    }\n\n    .dataframe tbody tr th {\n        vertical-align: top;\n    }\n\n    .dataframe thead th {\n        text-align: right;\n    }\n</style>\n<table border=\"1\" class=\"dataframe\">\n  <thead>\n    <tr style=\"text-align: right;\">\n      <th></th>\n      <th>uosmo</th>\n      <th>uatom in osmosis</th>\n      <th>milliampere</th>\n      <th>boot</th>\n      <th>boot in osmosis</th>\n      <th>hydrogen</th>\n      <th>tocyb</th>\n      <th>uosmo in bostrom</th>\n      <th>uatom in bostrom</th>\n      <th>deprecated uatom in bostrom</th>\n      <th>millivolt</th>\n    </tr>\n  </thead>\n  <tbody>\n    <tr>\n      <th>uosmo</th>\n      <td>1</td>\n      <td>10.435233</td>\n      <td>NaN</td>\n      <td>NaN</td>\n      <td>0.029938</td>\n      <td>NaN</td>\n      <td>NaN</td>\n      <td>1</td>\n      <td>NaN</td>\n      <td>NaN</td>\n      <td>NaN</td>\n    </tr>\n    <tr>\n      <th>uatom in osmosis</th>\n      <td>0.095255</td>\n      <td>1</td>\n      <td>NaN</td>\n      <td>NaN</td>\n      <td>0.002874</td>\n      <td>NaN</td>\n      <td>NaN</td>\n      <td>NaN</td>\n      <td>1</td>\n      <td>NaN</td>\n      <td>NaN</td>\n    </tr>\n    <tr>\n      <th>milliampere</th>\n      <td>NaN</td>\n      <td>NaN</td>\n      <td>1</td>\n      <td>0.000251</td>\n      <td>NaN</td>\n      <td>0.000166</td>\n      <td>NaN</td>\n      <td>NaN</td>\n      <td>NaN</td>\n      <td>NaN</td>\n      <td>11.244989</td>\n    </tr>\n    <tr>\n      <th>boot</th>\n      <td>NaN</td>\n      <td>NaN</td>\n      <td>3959.996209</td>\n      <td>1</td>\n      <td>1</td>\n      <td>0.555519</td>\n      <td>1.44934</td>\n      <td>NaN</td>\n      <td>NaN</td>\n      <td>NaN</td>\n      <td>40282.251368</td>\n    </tr>\n    <tr>\n      <th>boot in osmosis</th>\n      <td>33.202542</td>\n      <td>345.846125</td>\n      <td>NaN</td>\n      <td>1</td>\n      <td>1</td>\n      <td>NaN</td>\n      <td>NaN</td>\n      <td>NaN</td>\n      <td>NaN</td>\n      <td>NaN</td>\n      <td>NaN</td>\n    </tr>\n    <tr>\n      <th>hydrogen</th>\n      <td>NaN</td>\n      <td>NaN</td>\n      <td>5998.960093</td>\n      <td>1.789335</td>\n      <td>NaN</td>\n      <td>1</td>\n      <td>2.54723</td>\n      <td>64.83921</td>\n      <td>636.88338</td>\n      <td>603.426444</td>\n      <td>68300.633843</td>\n    </tr>\n    <tr>\n      <th>tocyb</th>\n      <td>NaN</td>\n      <td>NaN</td>\n      <td>NaN</td>\n      <td>0.685836</td>\n      <td>NaN</td>\n      <td>0.390231</td>\n      <td>1</td>\n      <td>NaN</td>\n      <td>NaN</td>\n      <td>NaN</td>\n      <td>NaN</td>\n    </tr>\n    <tr>\n      <th>uosmo in bostrom</th>\n      <td>1</td>\n      <td>NaN</td>\n      <td>NaN</td>\n      <td>NaN</td>\n      <td>NaN</td>\n      <td>0.01533</td>\n      <td>NaN</td>\n      <td>1</td>\n      <td>NaN</td>\n      <td>9.151705</td>\n      <td>NaN</td>\n    </tr>\n    <tr>\n      <th>uatom in bostrom</th>\n      <td>NaN</td>\n      <td>1</td>\n      <td>NaN</td>\n      <td>NaN</td>\n      <td>NaN</td>\n      <td>0.001561</td>\n      <td>NaN</td>\n      <td>NaN</td>\n      <td>1</td>\n      <td>NaN</td>\n      <td>NaN</td>\n    </tr>\n    <tr>\n      <th>deprecated uatom in bostrom</th>\n      <td>NaN</td>\n      <td>NaN</td>\n      <td>NaN</td>\n      <td>NaN</td>\n      <td>NaN</td>\n      <td>0.001647</td>\n      <td>NaN</td>\n      <td>0.108615</td>\n      <td>NaN</td>\n      <td>1</td>\n      <td>NaN</td>\n    </tr>\n    <tr>\n      <th>millivolt</th>\n      <td>NaN</td>\n      <td>NaN</td>\n      <td>0.088396</td>\n      <td>0.000025</td>\n      <td>NaN</td>\n      <td>0.000015</td>\n      <td>NaN</td>\n      <td>NaN</td>\n      <td>NaN</td>\n      <td>NaN</td>\n      <td>1</td>\n    </tr>\n  </tbody>\n</table>\n</div>"
     },
     "metadata": {},
     "output_type": "display_data"
    }
   ],
   "source": [
    "price_df = get_prices(pools_df=pools_df, display_data=True)"
   ],
   "metadata": {
    "collapsed": false,
    "pycharm": {
     "name": "#%%\n"
    }
   }
  },
  {
   "cell_type": "markdown",
   "source": [
    "#### Search the Best Arbitrage"
   ],
   "metadata": {
    "collapsed": false,
    "pycharm": {
     "name": "#%% md\n"
    }
   }
  },
  {
   "cell_type": "code",
   "execution_count": 4,
   "outputs": [
    {
     "data": {
      "text/plain": "<IPython.core.display.HTML object>",
      "text/html": "<div>\n<style scoped>\n    .dataframe tbody tr th:only-of-type {\n        vertical-align: middle;\n    }\n\n    .dataframe tbody tr th {\n        vertical-align: top;\n    }\n\n    .dataframe thead th {\n        text-align: right;\n    }\n</style>\n<table border=\"1\" class=\"dataframe\">\n  <thead>\n    <tr style=\"text-align: right;\">\n      <th>arbitrage</th>\n      <th>revenue</th>\n    </tr>\n  </thead>\n  <tbody>\n    <tr>\n      <td>milliampere -&gt; boot -&gt; hydrogen -&gt; milliampere</td>\n      <td>1.17</td>\n    </tr>\n    <tr>\n      <td>boot -&gt; hydrogen -&gt; milliampere -&gt; boot</td>\n      <td>1.17</td>\n    </tr>\n    <tr>\n      <td>hydrogen -&gt; milliampere -&gt; boot -&gt; hydrogen</td>\n      <td>1.17</td>\n    </tr>\n    <tr>\n      <td>boot -&gt; hydrogen -&gt; millivolt -&gt; milliampere -&gt; boot</td>\n      <td>1.16</td>\n    </tr>\n    <tr>\n      <td>millivolt -&gt; milliampere -&gt; boot -&gt; hydrogen -&gt; millivolt</td>\n      <td>1.16</td>\n    </tr>\n    <tr>\n      <td>hydrogen -&gt; millivolt -&gt; milliampere -&gt; boot -&gt; hydrogen</td>\n      <td>1.16</td>\n    </tr>\n    <tr>\n      <td>milliampere -&gt; boot -&gt; hydrogen -&gt; millivolt -&gt; milliampere</td>\n      <td>1.16</td>\n    </tr>\n    <tr>\n      <td>tocyb -&gt; hydrogen -&gt; milliampere -&gt; boot -&gt; tocyb</td>\n      <td>1.15</td>\n    </tr>\n    <tr>\n      <td>boot -&gt; tocyb -&gt; hydrogen -&gt; milliampere -&gt; boot</td>\n      <td>1.15</td>\n    </tr>\n    <tr>\n      <td>hydrogen -&gt; milliampere -&gt; boot -&gt; tocyb -&gt; hydrogen</td>\n      <td>1.15</td>\n    </tr>\n    <tr>\n      <td>milliampere -&gt; boot -&gt; tocyb -&gt; hydrogen -&gt; milliampere</td>\n      <td>1.15</td>\n    </tr>\n    <tr>\n      <td>millivolt -&gt; hydrogen -&gt; milliampere -&gt; boot -&gt; millivolt</td>\n      <td>1.11</td>\n    </tr>\n    <tr>\n      <td>boot -&gt; millivolt -&gt; hydrogen -&gt; milliampere -&gt; boot</td>\n      <td>1.11</td>\n    </tr>\n    <tr>\n      <td>hydrogen -&gt; milliampere -&gt; boot -&gt; millivolt -&gt; hydrogen</td>\n      <td>1.11</td>\n    </tr>\n    <tr>\n      <td>milliampere -&gt; boot -&gt; millivolt -&gt; hydrogen -&gt; milliampere</td>\n      <td>1.11</td>\n    </tr>\n    <tr>\n      <td>milliampere -&gt; boot -&gt; millivolt -&gt; milliampere</td>\n      <td>1.10</td>\n    </tr>\n    <tr>\n      <td>boot -&gt; millivolt -&gt; milliampere -&gt; boot</td>\n      <td>1.10</td>\n    </tr>\n    <tr>\n      <td>millivolt -&gt; milliampere -&gt; boot -&gt; millivolt</td>\n      <td>1.10</td>\n    </tr>\n    <tr>\n      <td>millivolt -&gt; boot -&gt; hydrogen -&gt; milliampere -&gt; millivolt</td>\n      <td>1.06</td>\n    </tr>\n    <tr>\n      <td>boot -&gt; hydrogen -&gt; milliampere -&gt; millivolt -&gt; boot</td>\n      <td>1.06</td>\n    </tr>\n    <tr>\n      <td>milliampere -&gt; millivolt -&gt; boot -&gt; hydrogen -&gt; milliampere</td>\n      <td>1.06</td>\n    </tr>\n    <tr>\n      <td>hydrogen -&gt; milliampere -&gt; millivolt -&gt; boot -&gt; hydrogen</td>\n      <td>1.06</td>\n    </tr>\n    <tr>\n      <td>millivolt -&gt; boot -&gt; hydrogen -&gt; millivolt</td>\n      <td>1.05</td>\n    </tr>\n    <tr>\n      <td>boot -&gt; hydrogen -&gt; millivolt -&gt; boot</td>\n      <td>1.05</td>\n    </tr>\n    <tr>\n      <td>hydrogen -&gt; millivolt -&gt; boot -&gt; hydrogen</td>\n      <td>1.05</td>\n    </tr>\n    <tr>\n      <td>tocyb -&gt; hydrogen -&gt; millivolt -&gt; boot -&gt; tocyb</td>\n      <td>1.02</td>\n    </tr>\n    <tr>\n      <td>hydrogen -&gt; millivolt -&gt; boot -&gt; tocyb -&gt; hydrogen</td>\n      <td>1.02</td>\n    </tr>\n    <tr>\n      <td>boot -&gt; tocyb -&gt; hydrogen -&gt; millivolt -&gt; boot</td>\n      <td>1.02</td>\n    </tr>\n    <tr>\n      <td>millivolt -&gt; boot -&gt; tocyb -&gt; hydrogen -&gt; millivolt</td>\n      <td>1.02</td>\n    </tr>\n    <tr>\n      <td>tocyb -&gt; boot -&gt; hydrogen -&gt; tocyb</td>\n      <td>1.01</td>\n    </tr>\n    <tr>\n      <td>boot -&gt; hydrogen -&gt; tocyb -&gt; boot</td>\n      <td>1.01</td>\n    </tr>\n    <tr>\n      <td>hydrogen -&gt; tocyb -&gt; boot -&gt; hydrogen</td>\n      <td>1.01</td>\n    </tr>\n  </tbody>\n</table>\n</div>"
     },
     "metadata": {},
     "output_type": "display_data"
    }
   ],
   "source": [
    "coins_unique_set = set(price_df.columns)\n",
    "result_list = []\n",
    "for coin_1 in coins_unique_set:\n",
    "    coin_1_amount = H_START_AMOUNT * price_df.loc[coin_1, 'hydrogen']\n",
    "    if coin_1_amount > 0:\n",
    "        for coin_2 in coins_unique_set.difference({coin_1}):\n",
    "            coin_2_amount = coin_1_amount * price_df.loc[coin_2, coin_1]\n",
    "            if coin_2_amount > 0:\n",
    "                for coin_3 in coins_unique_set.difference({coin_1, coin_2}):\n",
    "                    coin_3_amount = coin_2_amount * price_df.loc[coin_3, coin_2]\n",
    "                    result = coin_3_amount * price_df.loc[coin_1, coin_3]\n",
    "                    if result > coin_1_amount * (1 + MIN_ARBITRAGE_REVENUE):\n",
    "                        result_list.append(\n",
    "                                [[coin_1, coin_2, coin_3],\n",
    "                                 round(result/coin_1_amount, 3)])\n",
    "                    if coin_2_amount > 0:\n",
    "                        for coin_4 in coins_unique_set.difference({coin_1, coin_2, coin_3}):\n",
    "                            coin_4_amount = coin_3_amount * price_df.loc[coin_4, coin_3]\n",
    "                            result = coin_4_amount * price_df.loc[coin_1, coin_4]\n",
    "                            if result > coin_1_amount * (1 + MIN_ARBITRAGE_REVENUE):\n",
    "                                result_list.append(\n",
    "                                    [[coin_1, coin_2, coin_3, coin_4],\n",
    "                                     round(result/coin_1_amount, 3)])\n",
    "\n",
    "result_df =\\\n",
    "    pd.DataFrame(\n",
    "        data=[[' -> '.join(coin for coin in item[0] + [item[0][0]]), item[1]] for item in result_list],\n",
    "        columns=['arbitrage', 'revenue']).sort_values('revenue', ascending=False)\n",
    "pd.set_option('display.max_colwidth', None)\n",
    "pd.options.display.float_format = '{0:7,.2f}'.format\n",
    "display(HTML(result_df.to_html(index=False, notebook=True, show_dimensions=False)))\n"
   ],
   "metadata": {
    "collapsed": false,
    "pycharm": {
     "name": "#%%\n"
    }
   }
  },
  {
   "cell_type": "code",
   "execution_count": 4,
   "outputs": [],
   "source": [],
   "metadata": {
    "collapsed": false,
    "pycharm": {
     "name": "#%%\n"
    }
   }
  }
 ],
 "metadata": {
  "kernelspec": {
   "name": "python3",
   "language": "python",
   "display_name": "Python 3 (ipykernel)"
  },
  "language_info": {
   "codemirror_mode": {
    "name": "ipython",
    "version": 2
   },
   "file_extension": ".py",
   "mimetype": "text/x-python",
   "name": "python",
   "nbconvert_exporter": "python",
   "pygments_lexer": "ipython2",
   "version": "2.7.6"
  }
 },
 "nbformat": 4,
 "nbformat_minor": 0
}