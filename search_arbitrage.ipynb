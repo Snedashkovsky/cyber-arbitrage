{
 "cells": [
  {
   "cell_type": "markdown",
   "metadata": {
    "collapsed": true,
    "pycharm": {
     "name": "#%% md\n"
    }
   },
   "source": [
    "## Search the Best Arbitrage in Bostrom Network"
   ]
  },
  {
   "cell_type": "code",
   "execution_count": 1,
   "outputs": [],
   "source": [
    "from subprocess import Popen, PIPE\n",
    "import json\n",
    "import pandas as pd\n",
    "import numpy as np\n",
    "\n",
    "POOL_FEE = 0.0015\n",
    "MIN_ARBITRAGE_REVENUE = 0.02\n",
    "H_START_AMOUNT = 1_000_000"
   ],
   "metadata": {
    "collapsed": false,
    "pycharm": {
     "name": "#%%\n"
    }
   }
  },
  {
   "cell_type": "markdown",
   "source": [
    "#### Get Pools Balances"
   ],
   "metadata": {
    "collapsed": false
   }
  },
  {
   "cell_type": "code",
   "execution_count": 2,
   "outputs": [
    {
     "data": {
      "text/plain": "  id  type_id      reserve_coin_denoms  \\\n0  1        1         [boot, hydrogen]   \n1  2        1      [boot, milliampere]   \n2  3        1            [boot, tocyb]   \n3  4        1        [hydrogen, tocyb]   \n4  5        1  [hydrogen, milliampere]   \n5  6        1    [hydrogen, millivolt]   \n\n                          reserve_account_address  \\\n0  bostrom1wrtkzr96362ty7ad0qrwhkpx743xcjrtv7j2cw   \n1  bostrom1y7au5el59mf8mlak53gfvmr75gr2m2jz6lra0s   \n2  bostrom1tkpsxklqu74eqsmezcwnc5hmfswrjgn9elcneq   \n3  bostrom1kqkwg2eq9fc5r8f0n66fj6ekc5h3kkmqhthkqx   \n4  bostrom10xu73c3nkcdcf6j6u4j2kzq0cjftfj2nv7xz9y   \n5  bostrom1u3u628ue3c5hn7ya4x4cjlk5t2d0unnarrq34k   \n\n                                     pool_coin_denom  \\\n0  pool70D7610CBA8E94B27BAD7806EBD826F5626C486BBF...   \n1  pool27BBCA67F42ED27DFFB6A450966C7EA206ADAA42BA...   \n2  pool5D83035BE0E7AB904379161D3C52FB4C1C392265AC...   \n3  poolB02CE42B202A71419D2F9EB4996B36C52F1B5B60DA...   \n4  pool79B9E8E233B61B84EA5AE564AB080FC492B4C953A9...   \n5  poolE479A51F998E2979F89DA9AB897ED45A9AFE4E7DE3...   \n\n                                            balances  \n0  [{'denom': 'boot', 'amount': '73435432220'}, {...  \n1  [{'denom': 'boot', 'amount': '21167067005'}, {...  \n2  [{'denom': 'boot', 'amount': '13552468565'}, {...  \n3  [{'denom': 'hydrogen', 'amount': '39155141169'...  \n4  [{'denom': 'hydrogen', 'amount': '235669825323...  \n5  [{'denom': 'hydrogen', 'amount': '209861712699...  ",
      "text/html": "<div>\n<style scoped>\n    .dataframe tbody tr th:only-of-type {\n        vertical-align: middle;\n    }\n\n    .dataframe tbody tr th {\n        vertical-align: top;\n    }\n\n    .dataframe thead th {\n        text-align: right;\n    }\n</style>\n<table border=\"1\" class=\"dataframe\">\n  <thead>\n    <tr style=\"text-align: right;\">\n      <th></th>\n      <th>id</th>\n      <th>type_id</th>\n      <th>reserve_coin_denoms</th>\n      <th>reserve_account_address</th>\n      <th>pool_coin_denom</th>\n      <th>balances</th>\n    </tr>\n  </thead>\n  <tbody>\n    <tr>\n      <th>0</th>\n      <td>1</td>\n      <td>1</td>\n      <td>[boot, hydrogen]</td>\n      <td>bostrom1wrtkzr96362ty7ad0qrwhkpx743xcjrtv7j2cw</td>\n      <td>pool70D7610CBA8E94B27BAD7806EBD826F5626C486BBF...</td>\n      <td>[{'denom': 'boot', 'amount': '73435432220'}, {...</td>\n    </tr>\n    <tr>\n      <th>1</th>\n      <td>2</td>\n      <td>1</td>\n      <td>[boot, milliampere]</td>\n      <td>bostrom1y7au5el59mf8mlak53gfvmr75gr2m2jz6lra0s</td>\n      <td>pool27BBCA67F42ED27DFFB6A450966C7EA206ADAA42BA...</td>\n      <td>[{'denom': 'boot', 'amount': '21167067005'}, {...</td>\n    </tr>\n    <tr>\n      <th>2</th>\n      <td>3</td>\n      <td>1</td>\n      <td>[boot, tocyb]</td>\n      <td>bostrom1tkpsxklqu74eqsmezcwnc5hmfswrjgn9elcneq</td>\n      <td>pool5D83035BE0E7AB904379161D3C52FB4C1C392265AC...</td>\n      <td>[{'denom': 'boot', 'amount': '13552468565'}, {...</td>\n    </tr>\n    <tr>\n      <th>3</th>\n      <td>4</td>\n      <td>1</td>\n      <td>[hydrogen, tocyb]</td>\n      <td>bostrom1kqkwg2eq9fc5r8f0n66fj6ekc5h3kkmqhthkqx</td>\n      <td>poolB02CE42B202A71419D2F9EB4996B36C52F1B5B60DA...</td>\n      <td>[{'denom': 'hydrogen', 'amount': '39155141169'...</td>\n    </tr>\n    <tr>\n      <th>4</th>\n      <td>5</td>\n      <td>1</td>\n      <td>[hydrogen, milliampere]</td>\n      <td>bostrom10xu73c3nkcdcf6j6u4j2kzq0cjftfj2nv7xz9y</td>\n      <td>pool79B9E8E233B61B84EA5AE564AB080FC492B4C953A9...</td>\n      <td>[{'denom': 'hydrogen', 'amount': '235669825323...</td>\n    </tr>\n    <tr>\n      <th>5</th>\n      <td>6</td>\n      <td>1</td>\n      <td>[hydrogen, millivolt]</td>\n      <td>bostrom1u3u628ue3c5hn7ya4x4cjlk5t2d0unnarrq34k</td>\n      <td>poolE479A51F998E2979F89DA9AB897ED45A9AFE4E7DE3...</td>\n      <td>[{'denom': 'hydrogen', 'amount': '209861712699...</td>\n    </tr>\n  </tbody>\n</table>\n</div>"
     },
     "execution_count": 2,
     "metadata": {},
     "output_type": "execute_result"
    }
   ],
   "source": [
    "def execute_bash(bash_command: str):\n",
    "    if len(bash_command.split('\"')) == 1:\n",
    "        _bash_command_list = bash_command.split()\n",
    "    elif len(bash_command.split('\"')) == 2:\n",
    "        _bash_command_list = \\\n",
    "            bash_command.split('\"')[0].split() + \\\n",
    "            [bash_command.split('\"')[1]]\n",
    "    elif len(bash_command.split('\"')) > 2:\n",
    "        _bash_command_list = \\\n",
    "            bash_command.split('\"')[0].split() + \\\n",
    "            [bash_command.split('\"')[1]] + \\\n",
    "            [item for items in bash_command.split('\"')[2:] for item in items.split()]\n",
    "    else:\n",
    "        return None, f'Cannot split bash command {bash_command}'\n",
    "    popen_process = Popen(_bash_command_list, stdout=PIPE)\n",
    "    return popen_process.communicate(timeout=15)\n",
    "\n",
    "def get_json_from_bash_query(bash_command: str):\n",
    "    _res = execute_bash(bash_command)\n",
    "    if _res[0]:\n",
    "        return json.loads(_res[0].decode('utf8').replace(\"'\", '\"'))\n",
    "    return\n",
    "\n",
    "pools_json = get_json_from_bash_query('cyber query liquidity pools --node https://rpc.bostrom.cybernode.ai:443 -o json')\n",
    "pools_df = pd.DataFrame(pools_json['pools'])\n",
    "pools_df['balances'] = \\\n",
    "    pools_df['reserve_account_address'].map(\n",
    "        lambda address: get_json_from_bash_query(f'cyber query bank balances {address} --node https://rpc.bostrom.cybernode.ai:443 -o json')['balances'])\n",
    "pools_df"
   ],
   "metadata": {
    "collapsed": false,
    "pycharm": {
     "name": "#%%\n"
    }
   }
  },
  {
   "cell_type": "markdown",
   "source": [
    "#### Calculate Prices"
   ],
   "metadata": {
    "collapsed": false,
    "pycharm": {
     "name": "#%% md\n"
    }
   }
  },
  {
   "cell_type": "code",
   "execution_count": 3,
   "outputs": [
    {
     "data": {
      "text/plain": "                 boot      millivolt  hydrogen     tocyb   milliampere\nboot                1            NaN  0.585919  2.388729  13401.388502\nmillivolt         NaN              1  0.000009       NaN           NaN\nhydrogen     1.701604  116792.129321         1   4.32843  25133.750297\ntocyb        0.417378            NaN  0.230338         1           NaN\nmilliampere  0.000074            NaN   0.00004       NaN             1",
      "text/html": "<div>\n<style scoped>\n    .dataframe tbody tr th:only-of-type {\n        vertical-align: middle;\n    }\n\n    .dataframe tbody tr th {\n        vertical-align: top;\n    }\n\n    .dataframe thead th {\n        text-align: right;\n    }\n</style>\n<table border=\"1\" class=\"dataframe\">\n  <thead>\n    <tr style=\"text-align: right;\">\n      <th></th>\n      <th>boot</th>\n      <th>millivolt</th>\n      <th>hydrogen</th>\n      <th>tocyb</th>\n      <th>milliampere</th>\n    </tr>\n  </thead>\n  <tbody>\n    <tr>\n      <th>boot</th>\n      <td>1</td>\n      <td>NaN</td>\n      <td>0.585919</td>\n      <td>2.388729</td>\n      <td>13401.388502</td>\n    </tr>\n    <tr>\n      <th>millivolt</th>\n      <td>NaN</td>\n      <td>1</td>\n      <td>0.000009</td>\n      <td>NaN</td>\n      <td>NaN</td>\n    </tr>\n    <tr>\n      <th>hydrogen</th>\n      <td>1.701604</td>\n      <td>116792.129321</td>\n      <td>1</td>\n      <td>4.32843</td>\n      <td>25133.750297</td>\n    </tr>\n    <tr>\n      <th>tocyb</th>\n      <td>0.417378</td>\n      <td>NaN</td>\n      <td>0.230338</td>\n      <td>1</td>\n      <td>NaN</td>\n    </tr>\n    <tr>\n      <th>milliampere</th>\n      <td>0.000074</td>\n      <td>NaN</td>\n      <td>0.00004</td>\n      <td>NaN</td>\n      <td>1</td>\n    </tr>\n  </tbody>\n</table>\n</div>"
     },
     "execution_count": 3,
     "metadata": {},
     "output_type": "execute_result"
    }
   ],
   "source": [
    "POOL_FEE = 0.0015\n",
    "\n",
    "coins_list = list(pools_df['reserve_coin_denoms'])\n",
    "coins_unique_set = set(np.concatenate(coins_list).flat)\n",
    "coins_df = pd.DataFrame(columns=coins_unique_set, index=coins_unique_set)\n",
    "\n",
    "for index, pool_row in pools_df.iterrows():\n",
    "    coins_pair = pool_row.reserve_coin_denoms\n",
    "    balances = {item['denom']: int(item['amount']) for item in pool_row.balances}\n",
    "    coins_df.loc[coins_pair[0], coins_pair[1]] = balances[coins_pair[0]]/balances[coins_pair[1]] * (1 - POOL_FEE)\n",
    "    coins_df.loc[coins_pair[1], coins_pair[0]] = balances[coins_pair[1]]/balances[coins_pair[0]] * (1 - POOL_FEE)\n",
    "for coin in coins_unique_set:\n",
    "    coins_df.loc[coin, coin] = 1\n",
    "coins_df"
   ],
   "metadata": {
    "collapsed": false,
    "pycharm": {
     "name": "#%%\n"
    }
   }
  },
  {
   "cell_type": "markdown",
   "source": [
    "#### Search the Best Arbitrage"
   ],
   "metadata": {
    "collapsed": false,
    "pycharm": {
     "name": "#%% md\n"
    }
   }
  },
  {
   "cell_type": "code",
   "execution_count": 4,
   "outputs": [
    {
     "data": {
      "text/plain": "                                           arbitrage  revenue\n0            boot -> milliampere -> hydrogen -> boot    1.096\n3        hydrogen -> boot -> milliampere -> hydrogen    1.096\n8     milliampere -> hydrogen -> boot -> milliampere    1.096\n2                  boot -> tocyb -> hydrogen -> boot    1.059\n4              hydrogen -> boot -> tocyb -> hydrogen    1.059\n7                 tocyb -> hydrogen -> boot -> tocyb    1.059\n1   boot -> milliampere -> hydrogen -> tocyb -> boot    1.029\n5  hydrogen -> tocyb -> boot -> milliampere -> hy...    1.029\n6  tocyb -> boot -> milliampere -> hydrogen -> tocyb    1.029\n9  milliampere -> hydrogen -> tocyb -> boot -> mi...    1.029",
      "text/html": "<div>\n<style scoped>\n    .dataframe tbody tr th:only-of-type {\n        vertical-align: middle;\n    }\n\n    .dataframe tbody tr th {\n        vertical-align: top;\n    }\n\n    .dataframe thead th {\n        text-align: right;\n    }\n</style>\n<table border=\"1\" class=\"dataframe\">\n  <thead>\n    <tr style=\"text-align: right;\">\n      <th></th>\n      <th>arbitrage</th>\n      <th>revenue</th>\n    </tr>\n  </thead>\n  <tbody>\n    <tr>\n      <th>0</th>\n      <td>boot -&gt; milliampere -&gt; hydrogen -&gt; boot</td>\n      <td>1.096</td>\n    </tr>\n    <tr>\n      <th>3</th>\n      <td>hydrogen -&gt; boot -&gt; milliampere -&gt; hydrogen</td>\n      <td>1.096</td>\n    </tr>\n    <tr>\n      <th>8</th>\n      <td>milliampere -&gt; hydrogen -&gt; boot -&gt; milliampere</td>\n      <td>1.096</td>\n    </tr>\n    <tr>\n      <th>2</th>\n      <td>boot -&gt; tocyb -&gt; hydrogen -&gt; boot</td>\n      <td>1.059</td>\n    </tr>\n    <tr>\n      <th>4</th>\n      <td>hydrogen -&gt; boot -&gt; tocyb -&gt; hydrogen</td>\n      <td>1.059</td>\n    </tr>\n    <tr>\n      <th>7</th>\n      <td>tocyb -&gt; hydrogen -&gt; boot -&gt; tocyb</td>\n      <td>1.059</td>\n    </tr>\n    <tr>\n      <th>1</th>\n      <td>boot -&gt; milliampere -&gt; hydrogen -&gt; tocyb -&gt; boot</td>\n      <td>1.029</td>\n    </tr>\n    <tr>\n      <th>5</th>\n      <td>hydrogen -&gt; tocyb -&gt; boot -&gt; milliampere -&gt; hy...</td>\n      <td>1.029</td>\n    </tr>\n    <tr>\n      <th>6</th>\n      <td>tocyb -&gt; boot -&gt; milliampere -&gt; hydrogen -&gt; tocyb</td>\n      <td>1.029</td>\n    </tr>\n    <tr>\n      <th>9</th>\n      <td>milliampere -&gt; hydrogen -&gt; tocyb -&gt; boot -&gt; mi...</td>\n      <td>1.029</td>\n    </tr>\n  </tbody>\n</table>\n</div>"
     },
     "execution_count": 4,
     "metadata": {},
     "output_type": "execute_result"
    }
   ],
   "source": [
    "result_list = []\n",
    "for coin_1 in coins_unique_set:\n",
    "    coin_1_amount = H_START_AMOUNT * coins_df.loc[coin_1, 'hydrogen']\n",
    "    for coin_2 in coins_unique_set.difference({coin_1}):\n",
    "        coin_2_amount = coin_1_amount * coins_df.loc[coin_2, coin_1]\n",
    "        for coin_3 in coins_unique_set.difference({coin_1, coin_2}):\n",
    "            coin_3_amount = coin_2_amount * coins_df.loc[coin_3, coin_2]\n",
    "            result = coin_3_amount * coins_df.loc[coin_1, coin_3]\n",
    "            if result > coin_1_amount * (1 + MIN_ARBITRAGE_REVENUE):\n",
    "                result_list.append(\n",
    "                        [[coin_1, coin_2, coin_3],\n",
    "                         round(result/coin_1_amount, 3)])\n",
    "            for coin_4 in coins_unique_set.difference({coin_1, coin_2, coin_3}):\n",
    "                coin_4_amount = coin_3_amount * coins_df.loc[coin_4, coin_3]\n",
    "                result = coin_4_amount * coins_df.loc[coin_1, coin_4]\n",
    "                if result > coin_1_amount * (1 + MIN_ARBITRAGE_REVENUE):\n",
    "                    result_list.append(\n",
    "                        [[coin_1, coin_2, coin_3, coin_4],\n",
    "                         round(result/coin_1_amount, 3)])\n",
    "\n",
    "result_df =\\\n",
    "    pd.DataFrame(\n",
    "        data=[[' -> '.join(coin for coin in item[0] + [item[0][0]]), item[1]] for item in result_list],\n",
    "        columns=['arbitrage', 'revenue']).sort_values('revenue', ascending=False)\n",
    "result_df"
   ],
   "metadata": {
    "collapsed": false,
    "pycharm": {
     "name": "#%%\n"
    }
   }
  },
  {
   "cell_type": "code",
   "execution_count": 4,
   "outputs": [],
   "source": [],
   "metadata": {
    "collapsed": false,
    "pycharm": {
     "name": "#%%\n"
    }
   }
  }
 ],
 "metadata": {
  "kernelspec": {
   "display_name": "Python 3",
   "language": "python",
   "name": "python3"
  },
  "language_info": {
   "codemirror_mode": {
    "name": "ipython",
    "version": 2
   },
   "file_extension": ".py",
   "mimetype": "text/x-python",
   "name": "python",
   "nbconvert_exporter": "python",
   "pygments_lexer": "ipython2",
   "version": "2.7.6"
  }
 },
 "nbformat": 4,
 "nbformat_minor": 0
}