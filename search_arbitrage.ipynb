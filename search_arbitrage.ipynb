{
 "cells": [
  {
   "cell_type": "markdown",
   "metadata": {
    "collapsed": true,
    "pycharm": {
     "name": "#%% md\n"
    }
   },
   "source": [
    "## Search the Best Arbitrage in Bostrom Pools"
   ]
  },
  {
   "cell_type": "code",
   "execution_count": 1,
   "outputs": [],
   "source": [
    "from subprocess import Popen, PIPE\n",
    "import requests\n",
    "import json\n",
    "import pandas as pd\n",
    "import numpy as np\n",
    "from IPython.core.display import display, HTML\n",
    "\n",
    "POOL_FEE = 0.0015\n",
    "MIN_ARBITRAGE_REVENUE = 0.02\n",
    "H_START_AMOUNT = 1_000_000\n",
    "IBC_COIN_NAMES = \\\n",
    "    {\n",
    "        'ibc/BA313C4A19DFBF943586C0387E6B11286F9E416B4DD27574E6909CABE0E342FA': 'uatom in bostrom',\n",
    "        'ibc/13B2C536BB057AC79D5616B8EA1B9540EC1F2170718CAFF6F0083C966FFFED0B': 'uosmo in bostrom',\n",
    "        'ibc/27394FB092D2ECCD56123C74F36E4C1F926001CEADA9CA97EA622B25F41E5EB2': 'uatom in osmosis',\n",
    "        'ibc/FE2CD1E6828EC0FAB8AF39BAC45BC25B965BA67CCBC50C13A14BD610B0D1E2C4': 'boot in osmosis'\n",
    "     }\n",
    "IBC_COIN_NAMES_INVERT = {v: k for k, v in IBC_COIN_NAMES.items()}\n",
    "BOOT_RELATED_OSMO_POOLS = (1, 596, 597)\n",
    "OSMO_POOLS_API_URL = 'https://lcd-osmosis.keplr.app/osmosis/gamm/v1beta1/pools?pagination.limit=750'"
   ],
   "metadata": {
    "collapsed": false,
    "pycharm": {
     "name": "#%%\n"
    }
   }
  },
  {
   "cell_type": "markdown",
   "source": [
    "#### Get Pool Data from Bostrom"
   ],
   "metadata": {
    "collapsed": false
   }
  },
  {
   "cell_type": "code",
   "execution_count": 2,
   "outputs": [
    {
     "data": {
      "text/plain": "<IPython.core.display.HTML object>",
      "text/html": "<div>\n<style scoped>\n    .dataframe tbody tr th:only-of-type {\n        vertical-align: middle;\n    }\n\n    .dataframe tbody tr th {\n        vertical-align: top;\n    }\n\n    .dataframe thead th {\n        text-align: right;\n    }\n</style>\n<table border=\"1\" class=\"dataframe\">\n  <thead>\n    <tr style=\"text-align: right;\">\n      <th>id</th>\n      <th>type_id</th>\n      <th>reserve_coin_denoms</th>\n      <th>reserve_account_address</th>\n      <th>pool_coin_denom</th>\n      <th>balances</th>\n    </tr>\n  </thead>\n  <tbody>\n    <tr>\n      <td>1</td>\n      <td>1</td>\n      <td>[boot, hydrogen]</td>\n      <td>bostrom1wrtkzr96362ty7ad0qrwhkpx743xcjrtv7j2cw</td>\n      <td>pool70D7610CBA8E94B27BAD7806EBD826F5626C486BBF5...</td>\n      <td>[{'denom': 'boot', 'amount': '75999147646'}, {'...</td>\n    </tr>\n    <tr>\n      <td>2</td>\n      <td>1</td>\n      <td>[boot, milliampere]</td>\n      <td>bostrom1y7au5el59mf8mlak53gfvmr75gr2m2jz6lra0s</td>\n      <td>pool27BBCA67F42ED27DFFB6A450966C7EA206ADAA42BA0...</td>\n      <td>[{'denom': 'boot', 'amount': '22272977099'}, {'...</td>\n    </tr>\n    <tr>\n      <td>3</td>\n      <td>1</td>\n      <td>[boot, tocyb]</td>\n      <td>bostrom1tkpsxklqu74eqsmezcwnc5hmfswrjgn9elcneq</td>\n      <td>pool5D83035BE0E7AB904379161D3C52FB4C1C392265AC1...</td>\n      <td>[{'denom': 'boot', 'amount': '13898478242'}, {'...</td>\n    </tr>\n    <tr>\n      <td>4</td>\n      <td>1</td>\n      <td>[hydrogen, tocyb]</td>\n      <td>bostrom1kqkwg2eq9fc5r8f0n66fj6ekc5h3kkmqhthkqx</td>\n      <td>poolB02CE42B202A71419D2F9EB4996B36C52F1B5B60DAF...</td>\n      <td>[{'denom': 'hydrogen', 'amount': '33014030265'}...</td>\n    </tr>\n    <tr>\n      <td>5</td>\n      <td>1</td>\n      <td>[hydrogen, milliampere]</td>\n      <td>bostrom10xu73c3nkcdcf6j6u4j2kzq0cjftfj2nv7xz9y</td>\n      <td>pool79B9E8E233B61B84EA5AE564AB080FC492B4C953A9D...</td>\n      <td>[{'denom': 'hydrogen', 'amount': '230777393227'...</td>\n    </tr>\n    <tr>\n      <td>6</td>\n      <td>1</td>\n      <td>[hydrogen, millivolt]</td>\n      <td>bostrom1u3u628ue3c5hn7ya4x4cjlk5t2d0unnarrq34k</td>\n      <td>poolE479A51F998E2979F89DA9AB897ED45A9AFE4E7DE32...</td>\n      <td>[{'denom': 'hydrogen', 'amount': '206948089022'...</td>\n    </tr>\n    <tr>\n      <td>7</td>\n      <td>1</td>\n      <td>[hydrogen, ibc/13B2C536BB057AC79D5616B8EA1B9540...</td>\n      <td>bostrom1np5jg5xq8x7axptrgad8dxd8spg8tavjh5vnaz</td>\n      <td>pool98692450C039BDD30563475A7699A7805075F592A36...</td>\n      <td>[{'denom': 'hydrogen', 'amount': '10000000000'}...</td>\n    </tr>\n    <tr>\n      <td>8</td>\n      <td>1</td>\n      <td>[hydrogen, ibc/BA313C4A19DFBF943586C0387E6B1128...</td>\n      <td>bostrom1mgv368468aq8fsk2kynh0lpcsgtwa53zzlnhp0</td>\n      <td>poolDA191D1EBA3F4074C2CAB12777FC388216EED222F57...</td>\n      <td>[{'denom': 'hydrogen', 'amount': '19699999999'}...</td>\n    </tr>\n    <tr>\n      <td>9</td>\n      <td>1</td>\n      <td>[ibc/13B2C536BB057AC79D5616B8EA1B9540EC1F217071...</td>\n      <td>bostrom1tyx5u9mgwxzzj6rstsjxmfswpft75s0euh5ppu</td>\n      <td>pool590D4E176871842968705C246DA60E0A57EA41F9257...</td>\n      <td>[{'denom': 'ibc/13B2C536BB057AC79D5616B8EA1B954...</td>\n    </tr>\n  </tbody>\n</table>\n</div>"
     },
     "metadata": {},
     "output_type": "display_data"
    }
   ],
   "source": [
    "def execute_bash(bash_command: str):\n",
    "    if len(bash_command.split('\"')) == 1:\n",
    "        _bash_command_list = bash_command.split()\n",
    "    elif len(bash_command.split('\"')) == 2:\n",
    "        _bash_command_list = \\\n",
    "            bash_command.split('\"')[0].split() + \\\n",
    "            [bash_command.split('\"')[1]]\n",
    "    elif len(bash_command.split('\"')) > 2:\n",
    "        _bash_command_list = \\\n",
    "            bash_command.split('\"')[0].split() + \\\n",
    "            [bash_command.split('\"')[1]] + \\\n",
    "            [item for items in bash_command.split('\"')[2:] for item in items.split()]\n",
    "    else:\n",
    "        return None, f'Cannot split bash command {bash_command}'\n",
    "    popen_process = Popen(_bash_command_list, stdout=PIPE)\n",
    "    return popen_process.communicate(timeout=15)\n",
    "\n",
    "def get_json_from_bash_query(bash_command: str):\n",
    "    _res = execute_bash(bash_command)\n",
    "    if _res[0]:\n",
    "        return json.loads(_res[0].decode('utf8').replace(\"'\", '\"'))\n",
    "    return\n",
    "\n",
    "pools_bostrom_json = get_json_from_bash_query('cyber query liquidity pools --node https://rpc.bostrom.cybernode.ai:443 -o json')\n",
    "pools_bostrom_df = pd.DataFrame(pools_bostrom_json['pools'])\n",
    "pools_bostrom_df['balances'] = \\\n",
    "    pools_bostrom_df['reserve_account_address'].map(\n",
    "        lambda address: get_json_from_bash_query(f'cyber query bank balances {address} --node https://rpc.bostrom.cybernode.ai:443 -o json')['balances'])\n",
    "\n",
    "display(HTML(pools_bostrom_df.to_html(index=False, notebook=True, show_dimensions=False)))"
   ],
   "metadata": {
    "collapsed": false,
    "pycharm": {
     "name": "#%%\n"
    }
   }
  },
  {
   "cell_type": "markdown",
   "source": [
    "#### Get Pool Data from Osmosis"
   ],
   "metadata": {
    "collapsed": false
   }
  },
  {
   "cell_type": "code",
   "execution_count": 3,
   "outputs": [
    {
     "data": {
      "text/plain": "<IPython.core.display.HTML object>",
      "text/html": "<div>\n<style scoped>\n    .dataframe tbody tr th:only-of-type {\n        vertical-align: middle;\n    }\n\n    .dataframe tbody tr th {\n        vertical-align: top;\n    }\n\n    .dataframe thead th {\n        text-align: right;\n    }\n</style>\n<table border=\"1\" class=\"dataframe\">\n  <thead>\n    <tr style=\"text-align: right;\">\n      <th>@type</th>\n      <th>address</th>\n      <th>id</th>\n      <th>poolParams</th>\n      <th>future_pool_governor</th>\n      <th>totalShares</th>\n      <th>poolAssets</th>\n      <th>totalWeight</th>\n      <th>balances</th>\n      <th>denoms_count</th>\n      <th>swapfee</th>\n      <th>reserve_coin_denoms</th>\n    </tr>\n  </thead>\n  <tbody>\n    <tr>\n      <td>/osmosis.gamm.v1beta1.Pool</td>\n      <td>osmo1mw0ac6rwlp5r8wapwk3zs6g29h8fcscxqakdzw9emk...</td>\n      <td>1</td>\n      <td>{'swapFee': '0.003000000000000000', 'exitFee': ...</td>\n      <td>24h</td>\n      <td>{'denom': 'gamm/pool/1', 'amount': '25180488772...</td>\n      <td>[{'token': {'denom': 'ibc/27394FB092D2ECCD56123...</td>\n      <td>1073741824000000</td>\n      <td>[{'denom': 'ibc/27394FB092D2ECCD56123C74F36E4C1...</td>\n      <td>2</td>\n      <td>0.003</td>\n      <td>[ibc/27394FB092D2ECCD56123C74F36E4C1F926001CEAD...</td>\n    </tr>\n    <tr>\n      <td>/osmosis.gamm.v1beta1.Pool</td>\n      <td>osmo1jtzkz2383cegga8pzq7azm7tp3lcutep95urpvuqxz...</td>\n      <td>596</td>\n      <td>{'swapFee': '0.003000000000000000', 'exitFee': ...</td>\n      <td>24h</td>\n      <td>{'denom': 'gamm/pool/596', 'amount': '114707028...</td>\n      <td>[{'token': {'denom': 'ibc/27394FB092D2ECCD56123...</td>\n      <td>1073741824000000</td>\n      <td>[{'denom': 'ibc/27394FB092D2ECCD56123C74F36E4C1...</td>\n      <td>2</td>\n      <td>0.003</td>\n      <td>[ibc/27394FB092D2ECCD56123C74F36E4C1F926001CEAD...</td>\n    </tr>\n    <tr>\n      <td>/osmosis.gamm.v1beta1.Pool</td>\n      <td>osmo19zg3tz4q5t3x6d2hdmwfkud4d3l3x8r4szr6clvlss...</td>\n      <td>597</td>\n      <td>{'swapFee': '0.002000000000000000', 'exitFee': ...</td>\n      <td>24h</td>\n      <td>{'denom': 'gamm/pool/597', 'amount': '111212167...</td>\n      <td>[{'token': {'denom': 'ibc/FE2CD1E6828EC0FAB8AF3...</td>\n      <td>1073741824000000</td>\n      <td>[{'denom': 'ibc/FE2CD1E6828EC0FAB8AF39BAC45BC25...</td>\n      <td>2</td>\n      <td>0.002</td>\n      <td>[ibc/FE2CD1E6828EC0FAB8AF39BAC45BC25B965BA67CCB...</td>\n    </tr>\n  </tbody>\n</table>\n</div>"
     },
     "metadata": {},
     "output_type": "display_data"
    }
   ],
   "source": [
    "pools_osmosis_json = requests.get(OSMO_POOLS_API_URL).json()['pools']\n",
    "pools_osmosis_df = pd.DataFrame([item for item in pools_osmosis_json])\n",
    "pools_osmosis_df['id'] = pools_osmosis_df['id'].astype(int)\n",
    "pools_osmosis_df['totalWeight'] = pools_osmosis_df['totalWeight'].astype(int)\n",
    "pools_osmosis_df['balances'] = pools_osmosis_df['poolAssets'].map(lambda x: [item['token'] for item in x])\n",
    "pools_osmosis_df['denoms_count'] = pools_osmosis_df['poolAssets'].map(lambda x: len(x))\n",
    "pools_osmosis_df['swapfee'] = pools_osmosis_df['poolParams'].map(lambda x: float(x['swapFee']))\n",
    "pools_osmosis_df['reserve_coin_denoms'] = pools_osmosis_df['poolAssets'].map(lambda x: [item['token']['denom'] for item in x])\n",
    "display(HTML(\n",
    "    pools_osmosis_df[pools_osmosis_df.id.isin(BOOT_RELATED_OSMO_POOLS)]\n",
    "        .sort_values('totalWeight', ascending=False).to_html(index=False, notebook=True, show_dimensions=False)))"
   ],
   "metadata": {
    "collapsed": false,
    "pycharm": {
     "name": "#%%\n"
    }
   }
  },
  {
   "cell_type": "markdown",
   "source": [
    "#### Calculate Prices"
   ],
   "metadata": {
    "collapsed": false,
    "pycharm": {
     "name": "#%% md\n"
    }
   }
  },
  {
   "cell_type": "code",
   "execution_count": 4,
   "outputs": [
    {
     "data": {
      "text/plain": "<IPython.core.display.HTML object>",
      "text/html": "<div>\n<style scoped>\n    .dataframe tbody tr th:only-of-type {\n        vertical-align: middle;\n    }\n\n    .dataframe tbody tr th {\n        vertical-align: top;\n    }\n\n    .dataframe thead th {\n        text-align: right;\n    }\n</style>\n<table border=\"1\" class=\"dataframe\">\n  <thead>\n    <tr style=\"text-align: right;\">\n      <th></th>\n      <th>uosmo</th>\n      <th>milliampere</th>\n      <th>millivolt</th>\n      <th>tocyb</th>\n      <th>uatom in bostrom</th>\n      <th>uatom in osmosis</th>\n      <th>boot</th>\n      <th>boot in osmosis</th>\n      <th>hydrogen</th>\n      <th>uosmo in bostrom</th>\n    </tr>\n  </thead>\n  <tbody>\n    <tr>\n      <th>uosmo</th>\n      <td>1</td>\n      <td>NaN</td>\n      <td>NaN</td>\n      <td>NaN</td>\n      <td>NaN</td>\n      <td>5.255613</td>\n      <td>NaN</td>\n      <td>0.08297</td>\n      <td>NaN</td>\n      <td>1</td>\n    </tr>\n    <tr>\n      <th>milliampere</th>\n      <td>NaN</td>\n      <td>1</td>\n      <td>NaN</td>\n      <td>NaN</td>\n      <td>NaN</td>\n      <td>NaN</td>\n      <td>0.000067</td>\n      <td>NaN</td>\n      <td>0.000041</td>\n      <td>NaN</td>\n    </tr>\n    <tr>\n      <th>millivolt</th>\n      <td>NaN</td>\n      <td>NaN</td>\n      <td>1</td>\n      <td>NaN</td>\n      <td>NaN</td>\n      <td>NaN</td>\n      <td>NaN</td>\n      <td>NaN</td>\n      <td>0.000009</td>\n      <td>NaN</td>\n    </tr>\n    <tr>\n      <th>tocyb</th>\n      <td>NaN</td>\n      <td>NaN</td>\n      <td>NaN</td>\n      <td>1</td>\n      <td>NaN</td>\n      <td>NaN</td>\n      <td>0.398259</td>\n      <td>NaN</td>\n      <td>0.241098</td>\n      <td>NaN</td>\n    </tr>\n    <tr>\n      <th>uatom in bostrom</th>\n      <td>NaN</td>\n      <td>NaN</td>\n      <td>NaN</td>\n      <td>NaN</td>\n      <td>1</td>\n      <td>1</td>\n      <td>NaN</td>\n      <td>NaN</td>\n      <td>0.014977</td>\n      <td>0.1997</td>\n    </tr>\n    <tr>\n      <th>uatom in osmosis</th>\n      <td>0.189702</td>\n      <td>NaN</td>\n      <td>NaN</td>\n      <td>NaN</td>\n      <td>1</td>\n      <td>1</td>\n      <td>NaN</td>\n      <td>0.015682</td>\n      <td>NaN</td>\n      <td>NaN</td>\n    </tr>\n    <tr>\n      <th>boot</th>\n      <td>NaN</td>\n      <td>14827.39657</td>\n      <td>NaN</td>\n      <td>2.503401</td>\n      <td>NaN</td>\n      <td>NaN</td>\n      <td>1</td>\n      <td>1</td>\n      <td>0.623142</td>\n      <td>NaN</td>\n    </tr>\n    <tr>\n      <th>boot in osmosis</th>\n      <td>12.016464</td>\n      <td>NaN</td>\n      <td>NaN</td>\n      <td>NaN</td>\n      <td>NaN</td>\n      <td>63.577562</td>\n      <td>1</td>\n      <td>1</td>\n      <td>NaN</td>\n      <td>NaN</td>\n    </tr>\n    <tr>\n      <th>hydrogen</th>\n      <td>NaN</td>\n      <td>24093.853244</td>\n      <td>113562.887252</td>\n      <td>4.135257</td>\n      <td>66.566667</td>\n      <td>NaN</td>\n      <td>1.599961</td>\n      <td>NaN</td>\n      <td>1</td>\n      <td>12.48125</td>\n    </tr>\n    <tr>\n      <th>uosmo in bostrom</th>\n      <td>1</td>\n      <td>NaN</td>\n      <td>NaN</td>\n      <td>NaN</td>\n      <td>4.9925</td>\n      <td>NaN</td>\n      <td>NaN</td>\n      <td>NaN</td>\n      <td>0.07988</td>\n      <td>1</td>\n    </tr>\n  </tbody>\n</table>\n</div>"
     },
     "metadata": {},
     "output_type": "display_data"
    }
   ],
   "source": [
    "pools_df = pools_bostrom_df[['id', 'balances', 'reserve_coin_denoms']].append(\n",
    "    pools_osmosis_df[(pools_osmosis_df.denoms_count == 2)\n",
    "    & (pools_osmosis_df.id.isin(BOOT_RELATED_OSMO_POOLS))][['id', 'balances', 'swapfee', 'reserve_coin_denoms']])\n",
    "coins_list = list(pools_df['reserve_coin_denoms'])\n",
    "coins_unique_set = set(np.concatenate(coins_list).flat)\n",
    "price_df = pd.DataFrame(columns=coins_unique_set, index=coins_unique_set)\n",
    "\n",
    "for index, pool_row in pools_df.iterrows():\n",
    "    coins_pair = pool_row.reserve_coin_denoms\n",
    "    balances = {item['denom']: int(item['amount']) for item in pool_row.balances}\n",
    "    price_df.loc[coins_pair[0], coins_pair[1]] = balances[coins_pair[0]]/balances[coins_pair[1]] * (1 - POOL_FEE)\n",
    "    price_df.loc[coins_pair[1], coins_pair[0]] = balances[coins_pair[1]]/balances[coins_pair[0]] * (1 - POOL_FEE)\n",
    "for coin in coins_unique_set:\n",
    "    price_df.loc[coin, coin] = 1\n",
    "price_df.rename(columns=IBC_COIN_NAMES, index=IBC_COIN_NAMES, inplace=True)\n",
    "\n",
    "price_df.loc['uatom in bostrom', 'uatom in osmosis'] = 1\n",
    "price_df.loc['uatom in osmosis', 'uatom in bostrom'] = 1\n",
    "price_df.loc['uosmo', 'uosmo in bostrom'] = 1\n",
    "price_df.loc['uosmo in bostrom', 'uosmo'] = 1\n",
    "price_df.loc['boot', 'boot in osmosis'] = 1\n",
    "price_df.loc['boot in osmosis', 'boot'] = 1\n",
    "\n",
    "\n",
    "coins_unique_set = set(price_df.columns)\n",
    "display(HTML(price_df.to_html(notebook=True, show_dimensions=False)))"
   ],
   "metadata": {
    "collapsed": false,
    "pycharm": {
     "name": "#%%\n"
    }
   }
  },
  {
   "cell_type": "markdown",
   "source": [
    "#### Search the Best Arbitrage"
   ],
   "metadata": {
    "collapsed": false,
    "pycharm": {
     "name": "#%% md\n"
    }
   }
  },
  {
   "cell_type": "code",
   "execution_count": 5,
   "outputs": [
    {
     "data": {
      "text/plain": "<IPython.core.display.HTML object>",
      "text/html": "<div>\n<style scoped>\n    .dataframe tbody tr th:only-of-type {\n        vertical-align: middle;\n    }\n\n    .dataframe tbody tr th {\n        vertical-align: top;\n    }\n\n    .dataframe thead th {\n        text-align: right;\n    }\n</style>\n<table border=\"1\" class=\"dataframe\">\n  <thead>\n    <tr style=\"text-align: right;\">\n      <th>arbitrage</th>\n      <th>revenue</th>\n    </tr>\n  </thead>\n  <tbody>\n    <tr>\n      <td>uatom in bostrom -&gt; hydrogen -&gt; uosmo in bostrom -&gt; uatom in bostrom</td>\n      <td>1.062</td>\n    </tr>\n    <tr>\n      <td>uosmo in bostrom -&gt; uatom in bostrom -&gt; hydrogen -&gt; uosmo in bostrom</td>\n      <td>1.062</td>\n    </tr>\n    <tr>\n      <td>hydrogen -&gt; uosmo in bostrom -&gt; uatom in bostrom -&gt; hydrogen</td>\n      <td>1.062</td>\n    </tr>\n    <tr>\n      <td>uatom in bostrom -&gt; uatom in osmosis -&gt; uosmo -&gt; uosmo in bostrom -&gt; uatom in bostrom</td>\n      <td>1.050</td>\n    </tr>\n    <tr>\n      <td>uosmo in bostrom -&gt; uatom in bostrom -&gt; uatom in osmosis -&gt; uosmo -&gt; uosmo in bostrom</td>\n      <td>1.050</td>\n    </tr>\n    <tr>\n      <td>tocyb -&gt; hydrogen -&gt; boot -&gt; tocyb</td>\n      <td>1.026</td>\n    </tr>\n    <tr>\n      <td>boot -&gt; tocyb -&gt; hydrogen -&gt; boot</td>\n      <td>1.026</td>\n    </tr>\n    <tr>\n      <td>hydrogen -&gt; boot -&gt; tocyb -&gt; hydrogen</td>\n      <td>1.026</td>\n    </tr>\n  </tbody>\n</table>\n</div>"
     },
     "metadata": {},
     "output_type": "display_data"
    }
   ],
   "source": [
    "result_list = []\n",
    "for coin_1 in coins_unique_set:\n",
    "    coin_1_amount = H_START_AMOUNT * price_df.loc[coin_1, 'hydrogen']\n",
    "    for coin_2 in coins_unique_set.difference({coin_1}):\n",
    "        coin_2_amount = coin_1_amount * price_df.loc[coin_2, coin_1]\n",
    "        for coin_3 in coins_unique_set.difference({coin_1, coin_2}):\n",
    "            coin_3_amount = coin_2_amount * price_df.loc[coin_3, coin_2]\n",
    "            result = coin_3_amount * price_df.loc[coin_1, coin_3]\n",
    "            if result > coin_1_amount * (1 + MIN_ARBITRAGE_REVENUE):\n",
    "                result_list.append(\n",
    "                        [[coin_1, coin_2, coin_3],\n",
    "                         round(result/coin_1_amount, 3)])\n",
    "            for coin_4 in coins_unique_set.difference({coin_1, coin_2, coin_3}):\n",
    "                coin_4_amount = coin_3_amount * price_df.loc[coin_4, coin_3]\n",
    "                result = coin_4_amount * price_df.loc[coin_1, coin_4]\n",
    "                if result > coin_1_amount * (1 + MIN_ARBITRAGE_REVENUE):\n",
    "                    result_list.append(\n",
    "                        [[coin_1, coin_2, coin_3, coin_4],\n",
    "                         round(result/coin_1_amount, 3)])\n",
    "\n",
    "result_df =\\\n",
    "    pd.DataFrame(\n",
    "        data=[[' -> '.join(coin for coin in item[0] + [item[0][0]]), item[1]] for item in result_list],\n",
    "        columns=['arbitrage', 'revenue']).sort_values('revenue', ascending=False)\n",
    "pd.set_option('display.max_colwidth', None)\n",
    "display(HTML(result_df.to_html(index=False, notebook=True, show_dimensions=False)))\n"
   ],
   "metadata": {
    "collapsed": false,
    "pycharm": {
     "name": "#%%\n"
    }
   }
  },
  {
   "cell_type": "code",
   "execution_count": 5,
   "outputs": [],
   "source": [],
   "metadata": {
    "collapsed": false,
    "pycharm": {
     "name": "#%%\n"
    }
   }
  }
 ],
 "metadata": {
  "kernelspec": {
   "display_name": "Python 3",
   "language": "python",
   "name": "python3"
  },
  "language_info": {
   "codemirror_mode": {
    "name": "ipython",
    "version": 2
   },
   "file_extension": ".py",
   "mimetype": "text/x-python",
   "name": "python",
   "nbconvert_exporter": "python",
   "pygments_lexer": "ipython2",
   "version": "2.7.6"
  }
 },
 "nbformat": 4,
 "nbformat_minor": 0
}