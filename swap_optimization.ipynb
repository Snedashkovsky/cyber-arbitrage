{
 "cells": [
  {
   "cell_type": "markdown",
   "source": [
    "## Finding the Best Way to Swap Coins"
   ],
   "metadata": {
    "collapsed": false,
    "pycharm": {
     "name": "#%% md\n"
    }
   }
  },
  {
   "cell_type": "code",
   "execution_count": 1,
   "outputs": [],
   "source": [
    "import pandas as pd\n",
    "from IPython.core.display import display, HTML\n",
    "\n",
    "from src.data_extractors import get_pools, get_prices\n",
    "from config import BOSTROM_NODE_URL, POOL_FEE\n",
    "\n",
    "source_coin = 'boot'\n",
    "target_coin = 'hydrogen'\n",
    "source_amount = 1_000_000_000\n",
    "max_slippage = 0.15"
   ],
   "metadata": {
    "collapsed": false,
    "pycharm": {
     "name": "#%%\n"
    }
   }
  },
  {
   "cell_type": "markdown",
   "source": [
    "#### Get Bostrom and Osmosis Pools Data"
   ],
   "metadata": {
    "collapsed": false
   }
  },
  {
   "cell_type": "code",
   "execution_count": 2,
   "outputs": [
    {
     "data": {
      "text/plain": "<IPython.core.display.HTML object>",
      "text/html": "<div>\n<style scoped>\n    .dataframe tbody tr th:only-of-type {\n        vertical-align: middle;\n    }\n\n    .dataframe tbody tr th {\n        vertical-align: top;\n    }\n\n    .dataframe thead th {\n        text-align: right;\n    }\n</style>\n<table border=\"1\" class=\"dataframe\">\n  <thead>\n    <tr style=\"text-align: right;\">\n      <th>network</th>\n      <th>id</th>\n      <th>type_id</th>\n      <th>balances</th>\n      <th>reserve_coin_denoms</th>\n      <th>swap_fee</th>\n    </tr>\n  </thead>\n  <tbody>\n    <tr>\n      <td>bostrom</td>\n      <td>1</td>\n      <td>1</td>\n      <td>[{'denom': 'boot', 'amount': '72029970248'}, {'...</td>\n      <td>[boot, hydrogen]</td>\n      <td>0.003</td>\n    </tr>\n    <tr>\n      <td>bostrom</td>\n      <td>2</td>\n      <td>1</td>\n      <td>[{'denom': 'boot', 'amount': '17622345734'}, {'...</td>\n      <td>[boot, milliampere]</td>\n      <td>0.003</td>\n    </tr>\n    <tr>\n      <td>bostrom</td>\n      <td>3</td>\n      <td>1</td>\n      <td>[{'denom': 'boot', 'amount': '22031676253'}, {'...</td>\n      <td>[boot, tocyb]</td>\n      <td>0.003</td>\n    </tr>\n    <tr>\n      <td>bostrom</td>\n      <td>4</td>\n      <td>1</td>\n      <td>[{'denom': 'hydrogen', 'amount': '65774354748'}...</td>\n      <td>[hydrogen, tocyb]</td>\n      <td>0.003</td>\n    </tr>\n    <tr>\n      <td>bostrom</td>\n      <td>5</td>\n      <td>1</td>\n      <td>[{'denom': 'hydrogen', 'amount': '446376650534'...</td>\n      <td>[hydrogen, milliampere]</td>\n      <td>0.003</td>\n    </tr>\n    <tr>\n      <td>bostrom</td>\n      <td>6</td>\n      <td>1</td>\n      <td>[{'denom': 'hydrogen', 'amount': '492267497973'...</td>\n      <td>[hydrogen, millivolt]</td>\n      <td>0.003</td>\n    </tr>\n    <tr>\n      <td>bostrom</td>\n      <td>7</td>\n      <td>1</td>\n      <td>[{'denom': 'hydrogen', 'amount': '21173918789'}...</td>\n      <td>[hydrogen, uosmo in bostrom]</td>\n      <td>0.003</td>\n    </tr>\n    <tr>\n      <td>bostrom</td>\n      <td>8</td>\n      <td>1</td>\n      <td>[{'denom': 'hydrogen', 'amount': '35730395079'}...</td>\n      <td>[hydrogen, uatom in bostrom]</td>\n      <td>0.003</td>\n    </tr>\n    <tr>\n      <td>bostrom</td>\n      <td>9</td>\n      <td>1</td>\n      <td>[{'denom': 'uosmo in bostrom', 'amount': '46638...</td>\n      <td>[uosmo in bostrom, uatom in bostrom]</td>\n      <td>0.003</td>\n    </tr>\n    <tr>\n      <td>bostrom</td>\n      <td>10</td>\n      <td>1</td>\n      <td>[{'denom': 'milliampere', 'amount': '8835650'},...</td>\n      <td>[milliampere, millivolt]</td>\n      <td>0.003</td>\n    </tr>\n    <tr>\n      <td>osmosis</td>\n      <td>1</td>\n      <td>1</td>\n      <td>[{'denom': 'uatom in osmosis', 'amount': '74835...</td>\n      <td>[uatom in osmosis, uosmo]</td>\n      <td>0.003</td>\n    </tr>\n    <tr>\n      <td>osmosis</td>\n      <td>596</td>\n      <td>1</td>\n      <td>[{'denom': 'uatom in osmosis', 'amount': '71683...</td>\n      <td>[uatom in osmosis, boot in osmosis]</td>\n      <td>0.003</td>\n    </tr>\n    <tr>\n      <td>osmosis</td>\n      <td>597</td>\n      <td>1</td>\n      <td>[{'denom': 'boot in osmosis', 'amount': '855276...</td>\n      <td>[boot in osmosis, uosmo]</td>\n      <td>0.002</td>\n    </tr>\n  </tbody>\n</table>\n</div>"
     },
     "metadata": {},
     "output_type": "display_data"
    }
   ],
   "source": [
    "pools_df = get_pools(display_data=True)"
   ],
   "metadata": {
    "collapsed": false,
    "pycharm": {
     "name": "#%%\n"
    }
   }
  },
  {
   "cell_type": "markdown",
   "source": [
    "#### Calculate Prices"
   ],
   "metadata": {
    "collapsed": false
   }
  },
  {
   "cell_type": "code",
   "execution_count": 3,
   "outputs": [
    {
     "data": {
      "text/plain": "<IPython.core.display.HTML object>",
      "text/html": "<div>\n<style scoped>\n    .dataframe tbody tr th:only-of-type {\n        vertical-align: middle;\n    }\n\n    .dataframe tbody tr th {\n        vertical-align: top;\n    }\n\n    .dataframe thead th {\n        text-align: right;\n    }\n</style>\n<table border=\"1\" class=\"dataframe\">\n  <thead>\n    <tr style=\"text-align: right;\">\n      <th></th>\n      <th>uatom in osmosis</th>\n      <th>tocyb</th>\n      <th>hydrogen</th>\n      <th>millivolt</th>\n      <th>uatom in bostrom</th>\n      <th>boot in osmosis</th>\n      <th>boot</th>\n      <th>uosmo</th>\n      <th>milliampere</th>\n      <th>uosmo in bostrom</th>\n    </tr>\n  </thead>\n  <tbody>\n    <tr>\n      <th>uatom in osmosis</th>\n      <td>1</td>\n      <td>NaN</td>\n      <td>NaN</td>\n      <td>NaN</td>\n      <td>1</td>\n      <td>0.010123</td>\n      <td>NaN</td>\n      <td>0.285648</td>\n      <td>NaN</td>\n      <td>NaN</td>\n    </tr>\n    <tr>\n      <th>tocyb</th>\n      <td>NaN</td>\n      <td>1</td>\n      <td>0.269553</td>\n      <td>NaN</td>\n      <td>NaN</td>\n      <td>NaN</td>\n      <td>0.515195</td>\n      <td>NaN</td>\n      <td>NaN</td>\n      <td>NaN</td>\n    </tr>\n    <tr>\n      <th>hydrogen</th>\n      <td>NaN</td>\n      <td>3.687613</td>\n      <td>1</td>\n      <td>128780.897106</td>\n      <td>217.100749</td>\n      <td>NaN</td>\n      <td>1.881198</td>\n      <td>NaN</td>\n      <td>17228.260101</td>\n      <td>54.423715</td>\n    </tr>\n    <tr>\n      <th>millivolt</th>\n      <td>NaN</td>\n      <td>NaN</td>\n      <td>0.000008</td>\n      <td>1</td>\n      <td>NaN</td>\n      <td>NaN</td>\n      <td>NaN</td>\n      <td>NaN</td>\n      <td>0.131626</td>\n      <td>NaN</td>\n    </tr>\n    <tr>\n      <th>uatom in bostrom</th>\n      <td>1</td>\n      <td>NaN</td>\n      <td>0.004579</td>\n      <td>NaN</td>\n      <td>1</td>\n      <td>NaN</td>\n      <td>NaN</td>\n      <td>NaN</td>\n      <td>NaN</td>\n      <td>0.252945</td>\n    </tr>\n    <tr>\n      <th>boot in osmosis</th>\n      <td>98.197007</td>\n      <td>NaN</td>\n      <td>NaN</td>\n      <td>NaN</td>\n      <td>NaN</td>\n      <td>1</td>\n      <td>1</td>\n      <td>27.982193</td>\n      <td>NaN</td>\n      <td>NaN</td>\n    </tr>\n    <tr>\n      <th>boot</th>\n      <td>NaN</td>\n      <td>1.929385</td>\n      <td>0.528391</td>\n      <td>NaN</td>\n      <td>NaN</td>\n      <td>1</td>\n      <td>1</td>\n      <td>NaN</td>\n      <td>9060.369375</td>\n      <td>NaN</td>\n    </tr>\n    <tr>\n      <th>uosmo</th>\n      <td>3.47984</td>\n      <td>NaN</td>\n      <td>NaN</td>\n      <td>NaN</td>\n      <td>NaN</td>\n      <td>0.035523</td>\n      <td>NaN</td>\n      <td>1</td>\n      <td>NaN</td>\n      <td>1</td>\n    </tr>\n    <tr>\n      <th>milliampere</th>\n      <td>NaN</td>\n      <td>NaN</td>\n      <td>0.000058</td>\n      <td>7.551792</td>\n      <td>NaN</td>\n      <td>NaN</td>\n      <td>0.00011</td>\n      <td>NaN</td>\n      <td>1</td>\n      <td>NaN</td>\n    </tr>\n    <tr>\n      <th>uosmo in bostrom</th>\n      <td>NaN</td>\n      <td>NaN</td>\n      <td>0.018264</td>\n      <td>NaN</td>\n      <td>3.929746</td>\n      <td>NaN</td>\n      <td>NaN</td>\n      <td>1</td>\n      <td>NaN</td>\n      <td>1</td>\n    </tr>\n  </tbody>\n</table>\n</div>"
     },
     "metadata": {},
     "output_type": "display_data"
    }
   ],
   "source": [
    "price_df = get_prices(pools_df=pools_df, display_data=True)"
   ],
   "metadata": {
    "collapsed": false,
    "pycharm": {
     "name": "#%%\n"
    }
   }
  },
  {
   "cell_type": "markdown",
   "metadata": {
    "collapsed": true,
    "pycharm": {
     "name": "#%% md\n"
    }
   },
   "source": [
    "#### Search the best way to swap coins"
   ]
  },
  {
   "cell_type": "code",
   "execution_count": 4,
   "outputs": [
    {
     "name": "stdout",
     "output_type": "stream",
     "text": [
      "ways count 3\n",
      "1. boot -> hydrogen\n",
      "2. boot -> tocyb, tocyb -> hydrogen\n",
      "3. boot -> milliampere, milliampere -> hydrogen\n",
      "\n"
     ]
    }
   ],
   "source": [
    "# main: coin_source -> coin_target\n",
    "ways = []\n",
    "pool_main_df = pools_df[(pools_df.reserve_coin_denoms.isin([[source_coin, target_coin]])) | (pools_df.reserve_coin_denoms.isin([[target_coin, source_coin]]))]\n",
    "if len(pool_main_df) > 0:\n",
    "    ways = [[[source_coin, target_coin]]]\n",
    "\n",
    "# alternative: coin_source -> coin3 -> coin_target\n",
    "coin3_list = list(price_df[(~price_df[source_coin].isna()) & (~price_df[target_coin].isna()) & (~price_df.index.isin([source_coin, target_coin]))].index)\n",
    "for coin3 in coin3_list:\n",
    "    ways.append([[source_coin, coin3], [coin3, target_coin]])\n",
    "\n",
    "def way_to_str(way: list):\n",
    "    return \", \".join(f\"{way_item[0]} -> {way_item[1]}\" for way_item in way)\n",
    "\n",
    "print(f'ways count {len(ways)}')\n",
    "print(''.join(f'{str(i + 1)}. {way_to_str(way)}\\n' for i, way in enumerate(ways)))"
   ],
   "metadata": {
    "collapsed": false,
    "pycharm": {
     "name": "#%%\n"
    }
   }
  },
  {
   "cell_type": "code",
   "execution_count": 5,
   "outputs": [
    {
     "data": {
      "text/plain": "<IPython.core.display.HTML object>",
      "text/html": "<div>\n<style scoped>\n    .dataframe tbody tr th:only-of-type {\n        vertical-align: middle;\n    }\n\n    .dataframe tbody tr th {\n        vertical-align: top;\n    }\n\n    .dataframe thead th {\n        text-align: right;\n    }\n</style>\n<table border=\"1\" class=\"dataframe\">\n  <thead>\n    <tr style=\"text-align: right;\">\n      <th>way</th>\n      <th>amount</th>\n      <th>swap_queries</th>\n    </tr>\n  </thead>\n  <tbody>\n    <tr>\n      <td>[[boot, hydrogen]]</td>\n      <td>670000000.0</td>\n      <td>[cyber tx liquidity swap 1 1 670000000boot hydr...</td>\n    </tr>\n    <tr>\n      <td>[[boot, tocyb], [tocyb, hydrogen]]</td>\n      <td>160000000.0</td>\n      <td>[cyber tx liquidity swap 3 1 160000000boot tocy...</td>\n    </tr>\n    <tr>\n      <td>[[boot, milliampere], [milliampere, hydrogen]]</td>\n      <td>170000000.0</td>\n      <td>[cyber tx liquidity swap 2 1 170000000boot mill...</td>\n    </tr>\n  </tbody>\n</table>\n</div>"
     },
     "metadata": {},
     "output_type": "display_data"
    },
    {
     "name": "stdout",
     "output_type": "stream",
     "text": [
      "Source amount 1,000,000,000 boot\n",
      "Max target amount 1,849,082,240 hydrogen\n",
      "\n",
      "boot -> hydrogen\n",
      "Amount 670,000,000 boot\n",
      "cyber tx liquidity swap 1 1 670000000boot hydrogen 2.163378 0.003 --from $WALLET --chain-id bostrom --gas 200000 --gas-prices 0.01boot --yes --node https://rpc.bostrom.cybernode.ai:443 --broadcast-mode block \n",
      "\n",
      "boot -> tocyb, tocyb -> hydrogen\n",
      "Amount 160,000,000 boot\n",
      "cyber tx liquidity swap 3 1 160000000boot tocyb 0.592474 0.003 --from $WALLET --chain-id bostrom --gas 200000 --gas-prices 0.01boot --yes --node https://rpc.bostrom.cybernode.ai:443 --broadcast-mode block\n",
      "cyber tx liquidity swap 4 1 81251043tocyb hydrogen 4.240755 0.003 --from $WALLET --chain-id bostrom --gas 200000 --gas-prices 0.01boot --yes --node https://rpc.bostrom.cybernode.ai:443 --broadcast-mode block \n",
      "\n",
      "boot -> milliampere, milliampere -> hydrogen\n",
      "Amount 170,000,000 boot\n",
      "cyber tx liquidity swap 2 1 170000000boot milliampere 0.000126 0.003 --from $WALLET --chain-id bostrom --gas 200000 --gas-prices 0.01boot --yes --node https://rpc.bostrom.cybernode.ai:443 --broadcast-mode block\n",
      "cyber tx liquidity swap 5 1 18297milliampere hydrogen 19812.499116 0.003 --from $WALLET --chain-id bostrom --gas 200000 --gas-prices 0.01boot --yes --node https://rpc.bostrom.cybernode.ai:443 --broadcast-mode block \n",
      "\n"
     ]
    }
   ],
   "source": [
    "def get_balance_by_coin(pool_balances: list, coin: str) -> int:\n",
    "    try:\n",
    "        return [float(item['amount']) for item in pool_balances if item['denom'] == coin][0]\n",
    "    except Exception as e:\n",
    "        print(pool_balances, coin, e)\n",
    "\n",
    "def generate_swap_query(coin_from_amount: float,\n",
    "                        coin_from: str,\n",
    "                        coin_to: str,\n",
    "                        coins_pool_df: pd.DataFrame,\n",
    "                        price_df: pd.DataFrame = price_df,\n",
    "                        max_slippage: float = max_slippage,\n",
    "                        wallet: str = '$WALLET',\n",
    "                        chain_id: str = 'bostrom',\n",
    "                        node = BOSTROM_NODE_URL) -> str:\n",
    "\n",
    "    _pool_id = coins_pool_df.loc[:, 'id'].to_list()[0]\n",
    "    _pool_type = coins_pool_df.loc[:, 'type_id'].to_list()[0]\n",
    "    _price = price_df.loc[coin_to, coin_from] * (1 + max_slippage)\n",
    "    return f'cyber tx liquidity swap {_pool_id} {_pool_type} {int(coin_from_amount)}{coin_from} {coin_to} {_price:.6f} 0.003 --from {wallet} ' \\\n",
    "           f'--chain-id {chain_id} --gas 200000 --gas-prices 0.01boot --yes --node {node} --broadcast-mode block'\n",
    "\n",
    "\n",
    "def calculate_swap(way: list,\n",
    "                   coin1_amount: float,\n",
    "                   pools_df: pd.DataFrame = pools_df) -> [float, list]:\n",
    "    _coin_from_amount = coin1_amount\n",
    "    coin2_way_queries = []\n",
    "    for way_item in way:\n",
    "        _coin_from = way_item[0]\n",
    "        _coin_to = way_item[1]\n",
    "        _coins_pool_df = pools_df[(pools_df.reserve_coin_denoms.isin([[_coin_from, _coin_to]])) | (pools_df.reserve_coin_denoms.isin([[_coin_to, _coin_from]]))]\n",
    "        _coin_from_pool_amount = get_balance_by_coin(_coins_pool_df.balances.values[0], _coin_from)\n",
    "        _coin_to_pool_amount = get_balance_by_coin(_coins_pool_df.balances.values[0], _coin_to)\n",
    "        _coin_to_amount = _coin_from_amount * _coin_to_pool_amount / (_coin_from_pool_amount + 2 * _coin_from_amount) * (1 - POOL_FEE)\n",
    "        coin2_way_queries.append(generate_swap_query(coin_from_amount=_coin_from_amount, coin_from=_coin_from, coin_to=_coin_to, coins_pool_df=_coins_pool_df))\n",
    "        _coin_from_amount = _coin_to_amount\n",
    "    coin2_way_amount = _coin_from_amount\n",
    "    return coin2_way_amount, coin2_way_queries\n",
    "\n",
    "\n",
    "def calculate_all_swap(amount_ways_list: list, print_message: bool = False) -> [float, list]:\n",
    "    swap_amount = 0\n",
    "    swap_queries = []\n",
    "    for _way, _amount in amount_ways_list:\n",
    "        _swap_amount_way, _swap_queries_way = calculate_swap(_way, coin1_amount=_amount)\n",
    "        swap_amount += _swap_amount_way\n",
    "        swap_queries.append(_swap_queries_way)\n",
    "        if print_message:\n",
    "            print(f'{_way}\\n{calculate_swap(_way, coin1_amount=_amount):>,.1f}\\n')\n",
    "    return swap_amount, swap_queries\n",
    "\n",
    "\n",
    "def get_best_swap(ways: list = ways, amount = source_amount,  number_points: int = 10, print_message: bool = False) -> [pd.DataFrame, float]:\n",
    "    _amount_list = [[coef_1 / number_points * amount, coef_2 / number_points * amount, (number_points - coef_1 - coef_2) / number_points * amount]\n",
    "                   for coef_1 in range(number_points + 1)\n",
    "                   for coef_2 in range(number_points - coef_1 + 1)]\n",
    "    _swap_amount_list = []\n",
    "    for _amount_list_item in _amount_list:\n",
    "        _amount_ways_list = [[_way, _amount] for _way, _amount in zip(ways, _amount_list_item)]\n",
    "        _swap_result, _swap_queries = calculate_all_swap(_amount_ways_list, print_message=print_message)\n",
    "        _swap_amount_list.append([_amount_list_item, _swap_result, _swap_queries])\n",
    "\n",
    "    _swap_amount_df = pd.DataFrame(_swap_amount_list,\n",
    "                                  columns = ['amount_by_way_item', 'swap_result', 'swap_queries'])\\\n",
    "                                  .sort_values('swap_result', ascending=False)\n",
    "    if print_message:\n",
    "        print(_swap_amount_df)\n",
    "    _swap_max_amount_list = list(_swap_amount_df.loc[_swap_amount_df['swap_result'].idxmax()][['amount_by_way_item', 'swap_queries']])\n",
    "    return pd.DataFrame(zip(ways, _swap_max_amount_list[0], _swap_max_amount_list[1]), columns=['way', 'amount', 'swap_queries']), \\\n",
    "        _swap_amount_df['swap_result'].max()\n",
    "\n",
    "best_swap_df, max_result = get_best_swap(number_points=100)\n",
    "display(HTML(best_swap_df.to_html(index=False, notebook=True, show_dimensions=False)))\n",
    "print(f'Source amount {source_amount:>,} {source_coin}\\nMax target amount {int(max_result):>,} {target_coin}\\n')\n",
    "for index, row in best_swap_df.iterrows():\n",
    "    print(f'{way_to_str(row.way)}')\n",
    "    print(f'Amount {int(row.amount):>,} {source_coin}')\n",
    "    print('\\n'.join(row.swap_queries), '\\n')"
   ],
   "metadata": {
    "collapsed": false,
    "pycharm": {
     "name": "#%%\n"
    }
   }
  },
  {
   "cell_type": "code",
   "execution_count": 5,
   "outputs": [],
   "source": [],
   "metadata": {
    "collapsed": false,
    "pycharm": {
     "name": "#%%\n"
    }
   }
  }
 ],
 "metadata": {
  "kernelspec": {
   "display_name": "Python 3",
   "language": "python",
   "name": "python3"
  },
  "language_info": {
   "codemirror_mode": {
    "name": "ipython",
    "version": 2
   },
   "file_extension": ".py",
   "mimetype": "text/x-python",
   "name": "python",
   "nbconvert_exporter": "python",
   "pygments_lexer": "ipython2",
   "version": "2.7.6"
  }
 },
 "nbformat": 4,
 "nbformat_minor": 0
}