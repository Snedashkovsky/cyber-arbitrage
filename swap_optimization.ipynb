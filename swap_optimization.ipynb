{
 "cells": [
  {
   "cell_type": "markdown",
   "source": [
    "## Finding the Best Way to Swap Coins"
   ],
   "metadata": {
    "collapsed": false
   }
  },
  {
   "cell_type": "code",
   "execution_count": 1,
   "outputs": [],
   "source": [
    "import pandas as pd\n",
    "from IPython.display import display, HTML\n",
    "\n",
    "from src.data_extractors import get_pools, get_prices\n",
    "from src.denom_utils import rename_denom\n",
    "from src.swap_utils import generate_swap_bash_queries\n",
    "\n",
    "source_coin = 'hydrogen'\n",
    "target_coin = 'boot'\n",
    "source_amount = 30_000_000_000\n",
    "max_slippage = 0.15\n",
    "min_path_decrease_premium = 0.005\n",
    "\n",
    "source_coin = rename_denom(source_coin)\n",
    "target_coin = rename_denom(target_coin)"
   ],
   "metadata": {
    "collapsed": false
   }
  },
  {
   "cell_type": "markdown",
   "source": [
    "#### Get Bostrom and Osmosis Pools Data"
   ],
   "metadata": {
    "collapsed": false
   }
  },
  {
   "cell_type": "code",
   "execution_count": 2,
   "outputs": [
    {
     "name": "stdout",
     "output_type": "stream",
     "text": [
      "Bostrom Pools\n"
     ]
    },
    {
     "data": {
      "text/plain": "<IPython.core.display.HTML object>",
      "text/html": "<div>\n<style scoped>\n    .dataframe tbody tr th:only-of-type {\n        vertical-align: middle;\n    }\n\n    .dataframe tbody tr th {\n        vertical-align: top;\n    }\n\n    .dataframe thead th {\n        text-align: right;\n    }\n</style>\n<table border=\"1\" class=\"dataframe\">\n  <thead>\n    <tr style=\"text-align: right;\">\n      <th>id</th>\n      <th>type_id</th>\n      <th>reserve_coin_denoms</th>\n      <th>reserve_account_address</th>\n      <th>pool_coin_denom</th>\n      <th>balances</th>\n      <th>swap_fee</th>\n      <th>network</th>\n    </tr>\n  </thead>\n  <tbody>\n    <tr>\n      <td>1</td>\n      <td>1</td>\n      <td>[boot, hydrogen]</td>\n      <td>bostrom1wrtkzr96362ty7ad0qrwhkpx743xcjrtv7j2cw</td>\n      <td>pool70D7610CBA8E94B27BAD7806EBD826F5626C486BBF5...</td>\n      <td>[{'denom': 'boot', 'amount': '2356376420675'}, ...</td>\n      <td>0.003</td>\n      <td>bostrom</td>\n    </tr>\n    <tr>\n      <td>2</td>\n      <td>1</td>\n      <td>[boot, milliampere]</td>\n      <td>bostrom1y7au5el59mf8mlak53gfvmr75gr2m2jz6lra0s</td>\n      <td>pool27BBCA67F42ED27DFFB6A450966C7EA206ADAA42BA0...</td>\n      <td>[{'denom': 'boot', 'amount': '10386885645'}, {'...</td>\n      <td>0.003</td>\n      <td>bostrom</td>\n    </tr>\n    <tr>\n      <td>3</td>\n      <td>1</td>\n      <td>[boot, tocyb]</td>\n      <td>bostrom1tkpsxklqu74eqsmezcwnc5hmfswrjgn9elcneq</td>\n      <td>pool5D83035BE0E7AB904379161D3C52FB4C1C392265AC1...</td>\n      <td>[{'denom': 'boot', 'amount': '36944670050'}, {'...</td>\n      <td>0.003</td>\n      <td>bostrom</td>\n    </tr>\n    <tr>\n      <td>4</td>\n      <td>1</td>\n      <td>[hydrogen, tocyb]</td>\n      <td>bostrom1kqkwg2eq9fc5r8f0n66fj6ekc5h3kkmqhthkqx</td>\n      <td>poolB02CE42B202A71419D2F9EB4996B36C52F1B5B60DAF...</td>\n      <td>[{'denom': 'hydrogen', 'amount': '191501269101'...</td>\n      <td>0.003</td>\n      <td>bostrom</td>\n    </tr>\n    <tr>\n      <td>5</td>\n      <td>1</td>\n      <td>[hydrogen, milliampere]</td>\n      <td>bostrom10xu73c3nkcdcf6j6u4j2kzq0cjftfj2nv7xz9y</td>\n      <td>pool79B9E8E233B61B84EA5AE564AB080FC492B4C953A9D...</td>\n      <td>[{'denom': 'hydrogen', 'amount': '923050278388'...</td>\n      <td>0.003</td>\n      <td>bostrom</td>\n    </tr>\n    <tr>\n      <td>6</td>\n      <td>1</td>\n      <td>[hydrogen, millivolt]</td>\n      <td>bostrom1u3u628ue3c5hn7ya4x4cjlk5t2d0unnarrq34k</td>\n      <td>poolE479A51F998E2979F89DA9AB897ED45A9AFE4E7DE32...</td>\n      <td>[{'denom': 'hydrogen', 'amount': '536801646648'...</td>\n      <td>0.003</td>\n      <td>bostrom</td>\n    </tr>\n    <tr>\n      <td>7</td>\n      <td>1</td>\n      <td>[hydrogen, uosmo in bostrom]</td>\n      <td>bostrom1np5jg5xq8x7axptrgad8dxd8spg8tavjh5vnaz</td>\n      <td>pool98692450C039BDD30563475A7699A7805075F592A36...</td>\n      <td>[{'denom': 'hydrogen', 'amount': '1777283640214...</td>\n      <td>0.003</td>\n      <td>bostrom</td>\n    </tr>\n    <tr>\n      <td>8</td>\n      <td>1</td>\n      <td>[hydrogen, deprecated uatom in bostrom]</td>\n      <td>bostrom1mgv368468aq8fsk2kynh0lpcsgtwa53zzlnhp0</td>\n      <td>poolDA191D1EBA3F4074C2CAB12777FC388216EED222F57...</td>\n      <td>[]</td>\n      <td>0.003</td>\n      <td>bostrom</td>\n    </tr>\n    <tr>\n      <td>9</td>\n      <td>1</td>\n      <td>[uosmo in bostrom, deprecated uatom in bostrom]</td>\n      <td>bostrom1tyx5u9mgwxzzj6rstsjxmfswpft75s0euh5ppu</td>\n      <td>pool590D4E176871842968705C246DA60E0A57EA41F9257...</td>\n      <td>[]</td>\n      <td>0.003</td>\n      <td>bostrom</td>\n    </tr>\n    <tr>\n      <td>10</td>\n      <td>1</td>\n      <td>[milliampere, millivolt]</td>\n      <td>bostrom1jphne3xq7335qvvepkupwcda8yyfp79ggfx7hy</td>\n      <td>pool906F3CC4C0F4634031990DB81761BD390890F8A8A80...</td>\n      <td>[{'denom': 'milliampere', 'amount': '139518330'...</td>\n      <td>0.003</td>\n      <td>bostrom</td>\n    </tr>\n    <tr>\n      <td>11</td>\n      <td>1</td>\n      <td>[boot, millivolt]</td>\n      <td>bostrom1rfyjzaqpt2aywpnvs456la6c9323nqyysaf7zg</td>\n      <td>pool1A492174015ABA47066C8569AFF7582C551980840AA...</td>\n      <td>[{'denom': 'boot', 'amount': '25844972098'}, {'...</td>\n      <td>0.003</td>\n      <td>bostrom</td>\n    </tr>\n    <tr>\n      <td>12</td>\n      <td>1</td>\n      <td>[hydrogen, uatom in bostrom]</td>\n      <td>bostrom1t4tnfe20fp0m4usalzrwcwt09j78ygpm43jrkq</td>\n      <td>pool5D5734E54F485FBAF21DF886EC396F2CBC72203BF05...</td>\n      <td>[{'denom': 'hydrogen', 'amount': '5606721653144...</td>\n      <td>0.003</td>\n      <td>bostrom</td>\n    </tr>\n    <tr>\n      <td>13</td>\n      <td>1</td>\n      <td>[boot, pussy in bostrom]</td>\n      <td>bostrom1mrwwj4zm2yx7vzr2gk5td9e9pdfkh9a0uqrq60</td>\n      <td>poolD8DCE9545B510DE6086A45A8B697250B536B97AF2F6...</td>\n      <td>[{'denom': 'boot', 'amount': '17424520743'}, {'...</td>\n      <td>0.003</td>\n      <td>bostrom</td>\n    </tr>\n    <tr>\n      <td>14</td>\n      <td>1</td>\n      <td>[hydrogen, ugraviton in bostrom]</td>\n      <td>bostrom1hc8368rlu0nj6xxlrxt2hrnkva599g6rmmr53k</td>\n      <td>poolBE0F1D1C7FE3E72D18DF1996AB8E76676852A34313D...</td>\n      <td>[{'denom': 'hydrogen', 'amount': '13093574288'}...</td>\n      <td>0.003</td>\n      <td>bostrom</td>\n    </tr>\n    <tr>\n      <td>15</td>\n      <td>1</td>\n      <td>[hydrogen, pussy in bostrom]</td>\n      <td>bostrom1flfejxuef3rq9zpw3t4vm2fhta9mu5gkykzlwe</td>\n      <td>pool4FD3991B994C4602882E8AEACDA9375F4BBE5116E06...</td>\n      <td>[{'denom': 'hydrogen', 'amount': '126206094309'...</td>\n      <td>0.003</td>\n      <td>bostrom</td>\n    </tr>\n    <tr>\n      <td>16</td>\n      <td>1</td>\n      <td>[hydrogen, ujuno in bostrom]</td>\n      <td>bostrom1pd7cpn44a7r9k4kdrzduyvsrlx0vgqy6ne3jjz</td>\n      <td>pool0B7D80CEB5EF865B56CD189BC23203F99EC4009A15A...</td>\n      <td>[{'denom': 'hydrogen', 'amount': '524610420454'...</td>\n      <td>0.003</td>\n      <td>bostrom</td>\n    </tr>\n    <tr>\n      <td>17</td>\n      <td>1</td>\n      <td>[hydrogen, udsm in bostrom]</td>\n      <td>bostrom1kzegfr77yjw5xx6sefv7gtph7sw95ts36glwqf</td>\n      <td>poolB0B2848FDE249D431B50CA59E42C37F41C5A2E11D04...</td>\n      <td>[{'denom': 'hydrogen', 'amount': '193174598790'...</td>\n      <td>0.003</td>\n      <td>bostrom</td>\n    </tr>\n    <tr>\n      <td>18</td>\n      <td>1</td>\n      <td>[uosmo in bostrom, uatom in bostrom]</td>\n      <td>bostrom17pj98ra6f3n0yfd6tjvwvz9mk8a0u9nr3penzn</td>\n      <td>poolF064538FBA4C66F225BA5C98E608BBB1FAFE16636DE...</td>\n      <td>[{'denom': 'uosmo in bostrom', 'amount': '17699...</td>\n      <td>0.003</td>\n      <td>bostrom</td>\n    </tr>\n    <tr>\n      <td>19</td>\n      <td>1</td>\n      <td>[hydrogen, wei gravETH in bostrom]</td>\n      <td>bostrom1xg2mcxjz0kj99lxr46tyrtzazltndvu5zrefp0</td>\n      <td>pool3215BC1A427DA452FCC3AE9641AC5D17D736B3943A0...</td>\n      <td>[]</td>\n      <td>0.003</td>\n      <td>bostrom</td>\n    </tr>\n    <tr>\n      <td>20</td>\n      <td>1</td>\n      <td>[hydrogen, aevmos in bostrom]</td>\n      <td>bostrom1wtmjmpjxuhl442wgcm95lp0wz0rre44pncj5h2</td>\n      <td>pool72F72D8646E5FF5AA9C8C6CB4F85EE13C63CD6A15A7...</td>\n      <td>[{'denom': 'hydrogen', 'amount': '10776587449'}...</td>\n      <td>0.003</td>\n      <td>bostrom</td>\n    </tr>\n    <tr>\n      <td>21</td>\n      <td>1</td>\n      <td>[hydrogen, liquidpussy in bostrom]</td>\n      <td>bostrom1uvngsyyhqfmfkj0kgutcn38da9sfdkdl6rhh0g</td>\n      <td>poolE32688109702769B49F6471789C4EDE96096D9BFBE2...</td>\n      <td>[{'denom': 'hydrogen', 'amount': '53020211219'}...</td>\n      <td>0.003</td>\n      <td>bostrom</td>\n    </tr>\n    <tr>\n      <td>22</td>\n      <td>1</td>\n      <td>[uatom in bostrom, pussy in bostrom]</td>\n      <td>bostrom1uu68q6cj69njltr38jn90r6nqwkrt8jvng5pja</td>\n      <td>poolE734706B12D1672FAC713CA6578F5303AC359E4CE08...</td>\n      <td>[{'denom': 'uatom in bostrom', 'amount': '69400...</td>\n      <td>0.003</td>\n      <td>bostrom</td>\n    </tr>\n    <tr>\n      <td>23</td>\n      <td>1</td>\n      <td>[uatom in bostrom, wei gravETH in bostrom]</td>\n      <td>bostrom1ugw92m35dy3xx48v0trtapzjjphk0rf9h4v0yx</td>\n      <td>poolE21C556E3469226354EC7AC6BE8452906F678D25F91...</td>\n      <td>[{'denom': 'uatom in bostrom', 'amount': '36701...</td>\n      <td>0.003</td>\n      <td>bostrom</td>\n    </tr>\n  </tbody>\n</table>\n</div>"
     },
     "metadata": {},
     "output_type": "display_data"
    }
   ],
   "source": [
    "pools_df = get_pools(networks=['bostrom'], display_data=True)"
   ],
   "metadata": {
    "collapsed": false
   }
  },
  {
   "cell_type": "markdown",
   "source": [
    "#### Calculate Prices"
   ],
   "metadata": {
    "collapsed": false
   }
  },
  {
   "cell_type": "code",
   "execution_count": 3,
   "outputs": [
    {
     "data": {
      "text/plain": "<IPython.core.display.HTML object>",
      "text/html": "<div>\n<style scoped>\n    .dataframe tbody tr th:only-of-type {\n        vertical-align: middle;\n    }\n\n    .dataframe tbody tr th {\n        vertical-align: top;\n    }\n\n    .dataframe thead th {\n        text-align: right;\n    }\n</style>\n<table border=\"1\" class=\"dataframe\">\n  <thead>\n    <tr style=\"text-align: right;\">\n      <th></th>\n      <th>udsm in bostrom</th>\n      <th>milliampere</th>\n      <th>liquidpussy in bostrom</th>\n      <th>tocyb</th>\n      <th>pussy in bostrom</th>\n      <th>ujuno in bostrom</th>\n      <th>millivolt</th>\n      <th>uatom in bostrom</th>\n      <th>wei gravETH in bostrom</th>\n      <th>hydrogen</th>\n      <th>boot</th>\n      <th>deprecated uatom in bostrom</th>\n      <th>uosmo in bostrom</th>\n      <th>ugraviton in bostrom</th>\n      <th>aevmos in bostrom</th>\n    </tr>\n  </thead>\n  <tbody>\n    <tr>\n      <th>udsm in bostrom</th>\n      <td>1</td>\n      <td>NaN</td>\n      <td>NaN</td>\n      <td>NaN</td>\n      <td>NaN</td>\n      <td>NaN</td>\n      <td>NaN</td>\n      <td>NaN</td>\n      <td>NaN</td>\n      <td>0.133754</td>\n      <td>NaN</td>\n      <td>NaN</td>\n      <td>NaN</td>\n      <td>NaN</td>\n      <td>NaN</td>\n    </tr>\n    <tr>\n      <th>milliampere</th>\n      <td>NaN</td>\n      <td>1</td>\n      <td>NaN</td>\n      <td>NaN</td>\n      <td>NaN</td>\n      <td>NaN</td>\n      <td>9.078076</td>\n      <td>NaN</td>\n      <td>NaN</td>\n      <td>0.000256</td>\n      <td>0.000714</td>\n      <td>NaN</td>\n      <td>NaN</td>\n      <td>NaN</td>\n      <td>NaN</td>\n    </tr>\n    <tr>\n      <th>liquidpussy in bostrom</th>\n      <td>NaN</td>\n      <td>NaN</td>\n      <td>1</td>\n      <td>NaN</td>\n      <td>NaN</td>\n      <td>NaN</td>\n      <td>NaN</td>\n      <td>NaN</td>\n      <td>NaN</td>\n      <td>4482.373271</td>\n      <td>NaN</td>\n      <td>NaN</td>\n      <td>NaN</td>\n      <td>NaN</td>\n      <td>NaN</td>\n    </tr>\n    <tr>\n      <th>tocyb</th>\n      <td>NaN</td>\n      <td>NaN</td>\n      <td>NaN</td>\n      <td>1</td>\n      <td>NaN</td>\n      <td>NaN</td>\n      <td>NaN</td>\n      <td>NaN</td>\n      <td>NaN</td>\n      <td>0.161535</td>\n      <td>0.45032</td>\n      <td>NaN</td>\n      <td>NaN</td>\n      <td>NaN</td>\n      <td>NaN</td>\n    </tr>\n    <tr>\n      <th>pussy in bostrom</th>\n      <td>NaN</td>\n      <td>NaN</td>\n      <td>NaN</td>\n      <td>NaN</td>\n      <td>1</td>\n      <td>NaN</td>\n      <td>NaN</td>\n      <td>5182780.089552</td>\n      <td>NaN</td>\n      <td>1595.532729</td>\n      <td>4446.353008</td>\n      <td>NaN</td>\n      <td>NaN</td>\n      <td>NaN</td>\n      <td>NaN</td>\n    </tr>\n    <tr>\n      <th>ujuno in bostrom</th>\n      <td>NaN</td>\n      <td>NaN</td>\n      <td>NaN</td>\n      <td>NaN</td>\n      <td>NaN</td>\n      <td>1</td>\n      <td>NaN</td>\n      <td>NaN</td>\n      <td>NaN</td>\n      <td>0.002848</td>\n      <td>NaN</td>\n      <td>NaN</td>\n      <td>NaN</td>\n      <td>NaN</td>\n      <td>NaN</td>\n    </tr>\n    <tr>\n      <th>millivolt</th>\n      <td>NaN</td>\n      <td>0.109496</td>\n      <td>NaN</td>\n      <td>NaN</td>\n      <td>NaN</td>\n      <td>NaN</td>\n      <td>1</td>\n      <td>NaN</td>\n      <td>NaN</td>\n      <td>0.000028</td>\n      <td>0.000078</td>\n      <td>NaN</td>\n      <td>NaN</td>\n      <td>NaN</td>\n      <td>NaN</td>\n    </tr>\n    <tr>\n      <th>uatom in bostrom</th>\n      <td>NaN</td>\n      <td>NaN</td>\n      <td>NaN</td>\n      <td>NaN</td>\n      <td>0.0</td>\n      <td>NaN</td>\n      <td>NaN</td>\n      <td>1</td>\n      <td>0.0</td>\n      <td>0.000307</td>\n      <td>NaN</td>\n      <td>NaN</td>\n      <td>0.071855</td>\n      <td>NaN</td>\n      <td>NaN</td>\n    </tr>\n    <tr>\n      <th>wei gravETH in bostrom</th>\n      <td>NaN</td>\n      <td>NaN</td>\n      <td>NaN</td>\n      <td>NaN</td>\n      <td>NaN</td>\n      <td>NaN</td>\n      <td>NaN</td>\n      <td>8634088981.58478</td>\n      <td>1</td>\n      <td>NaN</td>\n      <td>NaN</td>\n      <td>NaN</td>\n      <td>NaN</td>\n      <td>NaN</td>\n      <td>NaN</td>\n    </tr>\n    <tr>\n      <th>hydrogen</th>\n      <td>7.431619</td>\n      <td>3884.53864</td>\n      <td>0.000222</td>\n      <td>6.153506</td>\n      <td>0.000623</td>\n      <td>349.078411</td>\n      <td>35382.497985</td>\n      <td>3237.902326</td>\n      <td>NaN</td>\n      <td>1</td>\n      <td>2.806342</td>\n      <td>NaN</td>\n      <td>232.821696</td>\n      <td>3.487629</td>\n      <td>0.0</td>\n    </tr>\n    <tr>\n      <th>boot</th>\n      <td>NaN</td>\n      <td>1393.141112</td>\n      <td>NaN</td>\n      <td>2.20734</td>\n      <td>0.000224</td>\n      <td>NaN</td>\n      <td>12699.042761</td>\n      <td>NaN</td>\n      <td>NaN</td>\n      <td>0.354201</td>\n      <td>1</td>\n      <td>NaN</td>\n      <td>NaN</td>\n      <td>NaN</td>\n      <td>NaN</td>\n    </tr>\n    <tr>\n      <th>deprecated uatom in bostrom</th>\n      <td>NaN</td>\n      <td>NaN</td>\n      <td>NaN</td>\n      <td>NaN</td>\n      <td>NaN</td>\n      <td>NaN</td>\n      <td>NaN</td>\n      <td>NaN</td>\n      <td>NaN</td>\n      <td>NaN</td>\n      <td>NaN</td>\n      <td>1</td>\n      <td>NaN</td>\n      <td>NaN</td>\n      <td>NaN</td>\n    </tr>\n    <tr>\n      <th>uosmo in bostrom</th>\n      <td>NaN</td>\n      <td>NaN</td>\n      <td>NaN</td>\n      <td>NaN</td>\n      <td>NaN</td>\n      <td>NaN</td>\n      <td>NaN</td>\n      <td>13.83348</td>\n      <td>NaN</td>\n      <td>0.004269</td>\n      <td>NaN</td>\n      <td>NaN</td>\n      <td>1</td>\n      <td>NaN</td>\n      <td>NaN</td>\n    </tr>\n    <tr>\n      <th>ugraviton in bostrom</th>\n      <td>NaN</td>\n      <td>NaN</td>\n      <td>NaN</td>\n      <td>NaN</td>\n      <td>NaN</td>\n      <td>NaN</td>\n      <td>NaN</td>\n      <td>NaN</td>\n      <td>NaN</td>\n      <td>0.28501</td>\n      <td>NaN</td>\n      <td>NaN</td>\n      <td>NaN</td>\n      <td>1</td>\n      <td>NaN</td>\n    </tr>\n    <tr>\n      <th>aevmos in bostrom</th>\n      <td>NaN</td>\n      <td>NaN</td>\n      <td>NaN</td>\n      <td>NaN</td>\n      <td>NaN</td>\n      <td>NaN</td>\n      <td>NaN</td>\n      <td>NaN</td>\n      <td>NaN</td>\n      <td>9563118817.404087</td>\n      <td>NaN</td>\n      <td>NaN</td>\n      <td>NaN</td>\n      <td>NaN</td>\n      <td>1</td>\n    </tr>\n  </tbody>\n</table>\n</div>"
     },
     "metadata": {},
     "output_type": "display_data"
    }
   ],
   "source": [
    "price_df = get_prices(pools_df=pools_df, display_data=True)"
   ],
   "metadata": {
    "collapsed": false
   }
  },
  {
   "cell_type": "markdown",
   "source": [
    "#### Search the best way to swap coins"
   ],
   "metadata": {
    "collapsed": false
   }
  },
  {
   "cell_type": "code",
   "execution_count": 4,
   "outputs": [
    {
     "name": "stdout",
     "output_type": "stream",
     "text": [
      "ways count 5\n",
      "1. hydrogen -> boot\n",
      "2. hydrogen -> milliampere, milliampere -> boot\n",
      "3. hydrogen -> tocyb, tocyb -> boot\n",
      "4. hydrogen -> pussy in bostrom, pussy in bostrom -> boot\n",
      "5. hydrogen -> millivolt, millivolt -> boot\n",
      "\n"
     ]
    }
   ],
   "source": [
    "# main: coin_source -> coin_target\n",
    "ways = []\n",
    "pool_main_df = pools_df[(pools_df.reserve_coin_denoms.isin([[source_coin, target_coin]])) | (pools_df.reserve_coin_denoms.isin([[target_coin, source_coin]]))]\n",
    "if len(pool_main_df) > 0:\n",
    "    ways = [[[source_coin, target_coin]]]\n",
    "\n",
    "# alternative: coin_source -> coin3 -> coin_target\n",
    "coin3_list = list(price_df[(~price_df[source_coin].isna()) & (~price_df[target_coin].isna()) & (~price_df.index.isin([source_coin, target_coin]))].index)\n",
    "for coin3 in coin3_list:\n",
    "    ways.append([[source_coin, coin3], [coin3, target_coin]])\n",
    "\n",
    "def way_to_str(way: list):\n",
    "    return \", \".join(f\"{way_item[0]} -> {way_item[1]}\" for way_item in way)\n",
    "\n",
    "print(f'ways count {len(ways)}')\n",
    "print(''.join(f'{str(i + 1)}. {way_to_str(way)}\\n' for i, way in enumerate(ways)))"
   ],
   "metadata": {
    "collapsed": false
   }
  },
  {
   "cell_type": "code",
   "execution_count": 5,
   "outputs": [],
   "source": [
    "def generate_all_swap_queries(amount_ways_list: list, print_message: bool = False) -> [float, list]:\n",
    "    swap_amount = 0\n",
    "    swap_queries = []\n",
    "    for _way, _amount in amount_ways_list:\n",
    "        _swap_amount_way, _swap_queries_way = generate_swap_bash_queries(_way, coin1_amount=_amount, pools_df=pools_df, price_df=price_df)\n",
    "        swap_amount += _swap_amount_way\n",
    "        swap_queries.append(_swap_queries_way)\n",
    "        if print_message:\n",
    "            print(f'{_way}\\n{_swap_amount_way}\\n')\n",
    "    return swap_amount, swap_queries\n",
    "\n",
    "\n",
    "def get_best_swap(ways: list,\n",
    "                  amount = source_amount,\n",
    "                  number_points: int = 10,\n",
    "                  min_path_decrease_premium: float = min_path_decrease_premium,\n",
    "                  print_message: bool = False) -> [pd.DataFrame, float]:\n",
    "    if len(ways) == 0:\n",
    "        return pd.DataFrame(columns=['way', 'amount', 'swap_queries']), 0.0\n",
    "    elif len(ways) == 1:\n",
    "        _amount_list = [amount]\n",
    "    elif len(ways) == 2:\n",
    "        _amount_list = [[coef_1 / number_points * amount, (number_points - coef_1) / number_points * amount]\n",
    "                        for coef_1 in range(number_points + 1)]\n",
    "    elif len(ways) == 3:\n",
    "        _amount_list = [[coef_1 / number_points * amount, coef_2 / number_points * amount, (number_points - coef_1 - coef_2) / number_points * amount]\n",
    "                       for coef_1 in range(number_points + 1)\n",
    "                       for coef_2 in range(number_points - coef_1 + 1)]\n",
    "    else:\n",
    "        _amount_list = [[coef_1 / number_points * amount, coef_2 / number_points * amount, coef_3 / number_points * amount, (number_points - coef_1 - coef_2 - coef_3) / number_points * amount]\n",
    "                       for coef_1 in range(number_points + 1)\n",
    "                       for coef_2 in range(number_points - coef_1 + 1)\n",
    "                       for coef_3 in range(number_points - coef_1 - coef_2 + 1)]\n",
    "\n",
    "    _swap_amount_list = []\n",
    "    for _amount_list_item in _amount_list:\n",
    "        _amount_ways_list = [[_way, _amount] for _way, _amount in zip(ways, _amount_list_item)]\n",
    "        _swap_result, _swap_queries = generate_all_swap_queries(_amount_ways_list)\n",
    "        _swap_amount_list.append([_amount_list_item, _swap_result, _swap_queries])\n",
    "\n",
    "    _swap_amount_df = pd.DataFrame(_swap_amount_list,\n",
    "                                  columns = ['amount_by_way_item', 'swap_result', 'swap_queries'])\\\n",
    "                                  .sort_values('swap_result', ascending=False)\n",
    "    _swap_amount_df['effective_swap_result'] = \\\n",
    "        _swap_amount_df.apply(\n",
    "            lambda x: x['swap_result'] * (1 - min_path_decrease_premium * len([item for item in x['amount_by_way_item'] if item != 0])),\n",
    "            axis=1)\n",
    "    if print_message:\n",
    "        display(HTML((_swap_amount_df.to_html(index=False, notebook=True, show_dimensions=False))))\n",
    "\n",
    "    _swap_max_amount_list = list(_swap_amount_df.loc[_swap_amount_df['effective_swap_result'].idxmax()][['amount_by_way_item', 'swap_queries']])\n",
    "    return pd.DataFrame(zip(ways, _swap_max_amount_list[0], _swap_max_amount_list[1]), columns=['way', 'amount', 'swap_queries']), \\\n",
    "        _swap_amount_df['swap_result'].max()"
   ],
   "metadata": {
    "collapsed": false
   }
  },
  {
   "cell_type": "code",
   "execution_count": 6,
   "outputs": [
    {
     "data": {
      "text/plain": "<IPython.core.display.HTML object>",
      "text/html": "<div>\n<style scoped>\n    .dataframe tbody tr th:only-of-type {\n        vertical-align: middle;\n    }\n\n    .dataframe tbody tr th {\n        vertical-align: top;\n    }\n\n    .dataframe thead th {\n        text-align: right;\n    }\n</style>\n<table border=\"1\" class=\"dataframe\">\n  <thead>\n    <tr style=\"text-align: right;\">\n      <th>way</th>\n      <th>amount</th>\n      <th>swap_queries</th>\n    </tr>\n  </thead>\n  <tbody>\n    <tr>\n      <td>[[hydrogen, boot]]</td>\n      <td>3.000000e+10</td>\n      <td>[cyber tx liquidity swap 1 1 30000000000hydroge...</td>\n    </tr>\n    <tr>\n      <td>[[hydrogen, milliampere], [milliampere, boot]]</td>\n      <td>0.000000e+00</td>\n      <td>[cyber tx liquidity swap 5 1 0hydrogen milliamp...</td>\n    </tr>\n    <tr>\n      <td>[[hydrogen, tocyb], [tocyb, boot]]</td>\n      <td>0.000000e+00</td>\n      <td>[cyber tx liquidity swap 4 1 0hydrogen tocyb 7....</td>\n    </tr>\n    <tr>\n      <td>[[hydrogen, pussy in bostrom], [pussy in bostro...</td>\n      <td>0.000000e+00</td>\n      <td>[cyber tx liquidity swap 15 1 0hydrogen ibc/43D...</td>\n    </tr>\n  </tbody>\n</table>\n</div>"
     },
     "metadata": {},
     "output_type": "display_data"
    },
    {
     "name": "stdout",
     "output_type": "stream",
     "text": [
      "Source amount 30,000,000,000 hydrogen\n",
      "Max target amount 10,530,766,252 boot\n",
      "\n",
      "hydrogen -> boot\n",
      "Amount 30,000,000,000 hydrogen\n",
      "cyber tx liquidity swap 1 1 30000000000hydrogen boot 3.227293272287 0.003 --from $WALLET --chain-id bostrom --gas 200000 --gas-prices 0.01boot --yes --node https://rpc.bostrom.cybernode.ai:443 --broadcast-mode block \n",
      "\n"
     ]
    }
   ],
   "source": [
    "best_swap_df, max_result = get_best_swap(ways=ways, number_points=25)\n",
    "display(HTML(best_swap_df.to_html(index=False, notebook=True, show_dimensions=False)))\n",
    "print(f'Source amount {source_amount:>,} {source_coin}\\nMax target amount {int(max_result):>,} {target_coin}\\n')\n",
    "\n",
    "for index, row in best_swap_df.iterrows():\n",
    "    if row.amount > 0:\n",
    "        print(f'{way_to_str(row.way)}')\n",
    "        print(f'Amount {int(row.amount):>,} {source_coin}')\n",
    "        print('\\n'.join(row.swap_queries), '\\n')"
   ],
   "metadata": {
    "collapsed": false
   }
  },
  {
   "cell_type": "code",
   "execution_count": 6,
   "outputs": [],
   "source": [],
   "metadata": {
    "collapsed": false
   }
  }
 ],
 "metadata": {
  "kernelspec": {
   "display_name": "Python 3",
   "language": "python",
   "name": "python3"
  },
  "language_info": {
   "codemirror_mode": {
    "name": "ipython",
    "version": 2
   },
   "file_extension": ".py",
   "mimetype": "text/x-python",
   "name": "python",
   "nbconvert_exporter": "python",
   "pygments_lexer": "ipython2",
   "version": "2.7.6"
  }
 },
 "nbformat": 4,
 "nbformat_minor": 0
}
