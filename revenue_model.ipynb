{
 "cells": [
  {
   "cell_type": "markdown",
   "source": [
    "# Bostrom Revenue and Price Model"
   ],
   "metadata": {
    "collapsed": false
   }
  },
  {
   "cell_type": "code",
   "execution_count": 1,
   "outputs": [
    {
     "name": "stdout",
     "output_type": "stream",
     "text": [
      "Price Ampere in Hydrogen actual: 4,305,651.6\n",
      "Price Volt in Hydrogen actual:   40,169,927.3\n",
      "Price Hydrogen in BOOT actual:   0.278\n",
      "Hydrogen revenue actual:         50.6%\n"
     ]
    }
   ],
   "source": [
    "from src.data_extractors import get_pools, get_prices\n",
    "\n",
    "BASE_INVESTMINTING_AMOUNT_AMPERE = 100_000_000\n",
    "BASE_INVESTMINTING_AMOUNT_VOLT = 1_000_000_000\n",
    "BASE_INVESTMINTING_PERIOD_AMPERE = 30\n",
    "BASE_INVESTMINTING_PERIOD_VOLT = 30\n",
    "\n",
    "NUMBER_DEGEN_ITERATIONS = 3\n",
    "BOOT_REVENUE = 0.20  # stake + restake\n",
    "\n",
    "# Actual State\n",
    "price_df = get_prices(get_pools(network='bostrom'))\n",
    "\n",
    "price_ampere_actual = price_df.loc['hydrogen', 'milliampere'] * 1000\n",
    "price_volt_actual = price_df.loc['hydrogen', 'millivolt'] * 1000\n",
    "price_hydrogen_actual = price_df.loc['boot', 'hydrogen']\n",
    "hydrogen_revenue_actual = (1 * 365 / (BASE_INVESTMINTING_AMOUNT_VOLT * BASE_INVESTMINTING_PERIOD_VOLT) * price_volt_actual + 1 * 365 / (BASE_INVESTMINTING_AMOUNT_AMPERE * BASE_INVESTMINTING_PERIOD_AMPERE) * price_ampere_actual) / 2\n",
    "print(f'Price Ampere in Hydrogen actual: {price_ampere_actual:>,.1f}\\n'\n",
    "      f'Price Volt in Hydrogen actual:   {price_volt_actual:>,.1f}\\n'\n",
    "      f'Price Hydrogen in BOOT actual:   {price_hydrogen_actual:>,.3f}\\n'\n",
    "      f'Hydrogen revenue actual:         {hydrogen_revenue_actual:.1%}')\n",
    "\n",
    "## Optimal State\n",
    "PRICE_HYDROGEN_OPTIMAL = 0.2\n",
    "HYDROGEN_REVENUE_OPTIMAL = 0.4"
   ],
   "metadata": {
    "collapsed": false
   }
  },
  {
   "cell_type": "markdown",
   "source": [
    "## Degen\n",
    "Stake BOOT -> Buy BOOT for HYDROGEN -> Stake BOOT - 3 times"
   ],
   "metadata": {
    "collapsed": false
   }
  },
  {
   "cell_type": "code",
   "execution_count": 2,
   "outputs": [
    {
     "name": "stdout",
     "output_type": "stream",
     "text": [
      "Degen revenue actual 27.1%\n",
      "Degen revenue optimal 24.8%\n"
     ]
    }
   ],
   "source": [
    "degen_revenue_actual = degen_revenue_optimal = 0\n",
    "staked_boot_actual = staked_boot_optimal = 1\n",
    "\n",
    "for _ in range(NUMBER_DEGEN_ITERATIONS):\n",
    "    degen_revenue_actual +=  staked_boot_actual * BOOT_REVENUE\n",
    "    staked_boot_actual *= price_hydrogen_actual\n",
    "\n",
    "    degen_revenue_optimal +=  staked_boot_optimal * BOOT_REVENUE\n",
    "    staked_boot_optimal *= PRICE_HYDROGEN_OPTIMAL\n",
    "\n",
    "print(f'Degen revenue actual {degen_revenue_actual:.1%}\\n'\n",
    "      f'Degen revenue optimal {degen_revenue_optimal:.1%}')"
   ],
   "metadata": {
    "collapsed": false
   }
  },
  {
   "cell_type": "markdown",
   "source": [
    "## Staking + Investminting\n",
    "\n",
    "Stake BOOT -> Investmint HYDROGEN"
   ],
   "metadata": {
    "collapsed": false
   }
  },
  {
   "cell_type": "code",
   "execution_count": 3,
   "outputs": [
    {
     "name": "stdout",
     "output_type": "stream",
     "text": [
      "Staking + Investminting revenue actual 34.1%\n",
      "Staking + Investminting revenue optimal 28.0%\n"
     ]
    }
   ],
   "source": [
    "staking_investminting_revenue_actual = BOOT_REVENUE + price_hydrogen_actual * hydrogen_revenue_actual\n",
    "staking_investminting_revenue_optimal = BOOT_REVENUE + PRICE_HYDROGEN_OPTIMAL * HYDROGEN_REVENUE_OPTIMAL\n",
    "print(f'Staking + Investminting revenue actual {staking_investminting_revenue_actual:.1%}\\n'\n",
    "      f'Staking + Investminting revenue optimal {staking_investminting_revenue_optimal:.1%}')"
   ],
   "metadata": {
    "collapsed": false
   }
  },
  {
   "cell_type": "markdown",
   "source": [
    "## Investminting\n",
    "Buy HYDROGEN for BOOT -> Investmint HYDROGEN"
   ],
   "metadata": {
    "collapsed": false
   }
  },
  {
   "cell_type": "code",
   "execution_count": 4,
   "outputs": [
    {
     "name": "stdout",
     "output_type": "stream",
     "text": [
      "Investminting revenue actual 50.6%\n",
      "Investminting revenue optimal 40.0%\n"
     ]
    }
   ],
   "source": [
    "print(f'Investminting revenue actual {hydrogen_revenue_actual:.1%}\\n'\n",
    "      f'Investminting revenue optimal {HYDROGEN_REVENUE_OPTIMAL:.1%}')"
   ],
   "metadata": {
    "collapsed": false
   }
  },
  {
   "cell_type": "markdown",
   "source": [
    "## Prices"
   ],
   "metadata": {
    "collapsed": false
   }
  },
  {
   "cell_type": "code",
   "execution_count": 5,
   "outputs": [
    {
     "name": "stdout",
     "output_type": "stream",
     "text": [
      "AMPERE price actual 4,305,651.6 optimal 3,287,671.2 can decrease by 1.31 times\n",
      "VOLT price actual 40,169,927.3 optimal 32,876,712.3 can decrease by 1.22 times\n",
      "HYDROGEN price actual 0.278 optimal 0.2 can decrease by 1.39 times\n"
     ]
    }
   ],
   "source": [
    "price_ampere_optimal = BASE_INVESTMINTING_AMOUNT_AMPERE * BASE_INVESTMINTING_PERIOD_AMPERE / 365 * HYDROGEN_REVENUE_OPTIMAL\n",
    "price_volt_optimal = BASE_INVESTMINTING_AMOUNT_VOLT * BASE_INVESTMINTING_PERIOD_VOLT / 365 * HYDROGEN_REVENUE_OPTIMAL\n",
    "\n",
    "print(f'AMPERE price actual {price_ampere_actual:>,.1f} optimal {price_ampere_optimal:>,.1f} can decrease by {price_ampere_actual/price_ampere_optimal:.2f} times')\n",
    "print(f'VOLT price actual {price_volt_actual:>,.1f} optimal {price_volt_optimal:>,.1f} can decrease by {price_volt_actual/price_volt_optimal:.2f} times')\n",
    "print(f'HYDROGEN price actual {price_hydrogen_actual:.3f} optimal {PRICE_HYDROGEN_OPTIMAL} can decrease by {price_hydrogen_actual/PRICE_HYDROGEN_OPTIMAL:.2f} times')"
   ],
   "metadata": {
    "collapsed": false
   }
  }
 ],
 "metadata": {
  "kernelspec": {
   "display_name": "Python 3",
   "language": "python",
   "name": "python3"
  },
  "language_info": {
   "codemirror_mode": {
    "name": "ipython",
    "version": 2
   },
   "file_extension": ".py",
   "mimetype": "text/x-python",
   "name": "python",
   "nbconvert_exporter": "python",
   "pygments_lexer": "ipython2",
   "version": "2.7.6"
  }
 },
 "nbformat": 4,
 "nbformat_minor": 0
}
