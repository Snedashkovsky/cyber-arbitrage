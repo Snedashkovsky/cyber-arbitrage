{
 "cells": [
  {
   "cell_type": "markdown",
   "source": [
    "# Bostrom Revenue and Price Model"
   ],
   "metadata": {
    "collapsed": false
   }
  },
  {
   "cell_type": "code",
   "execution_count": 1,
   "outputs": [],
   "source": [
    "from IPython.display import display, Markdown\n",
    "\n",
    "from src.data_extractors import get_pools, get_prices\n",
    "from config import BOSTROM_LCD_CLIENT\n",
    "\n",
    "BASE_INVESTMINTING_AMOUNT_AMPERE = 100_000_000\n",
    "BASE_INVESTMINTING_AMOUNT_VOLT = 1_000_000_000\n",
    "BASE_INVESTMINTING_PERIOD_AMPERE = 30\n",
    "BASE_INVESTMINTING_PERIOD_VOLT = 30\n",
    "\n",
    "VALIDATOR_COMMISSION = 0.05\n",
    "NUMBER_DEGEN_ITERATIONS = 3\n",
    "\n",
    "## Optimal State\n",
    "PRICE_HYDROGEN_OPTIMAL = 0.2\n",
    "REVENUE_HYDROGEN_OPTIMAL = 0.4\n",
    "BOOT_REVENUE_OPTIMAL = 0.2  # stake + restake"
   ],
   "metadata": {
    "collapsed": false,
    "ExecuteTime": {
     "start_time": "2023-05-31T10:18:02.283992Z",
     "end_time": "2023-05-31T10:18:03.187073Z"
    }
   }
  },
  {
   "cell_type": "markdown",
   "source": [
    "## Actual State"
   ],
   "metadata": {
    "collapsed": false
   }
  },
  {
   "cell_type": "code",
   "execution_count": 2,
   "outputs": [],
   "source": [
    "staked_boot =  BOSTROM_LCD_CLIENT.staking.pool().bonded_tokens.amount\n",
    "supply_boot = [int(_coin['amount']) for _coin in BOSTROM_LCD_CLIENT.bank.total()[0].to_data() if _coin['denom'] == 'boot'][0]\n",
    "inflation = float(BOSTROM_LCD_CLIENT.mint.inflation())\n",
    "community_tax = float(BOSTROM_LCD_CLIENT.distribution.parameters()['community_tax'])\n",
    "\n",
    "revenue_boot = supply_boot / staked_boot * inflation * (1 - VALIDATOR_COMMISSION) * (1 - community_tax)\n",
    "revenue_with_restake_boot = (1 + revenue_boot/365) ** 365 - 1\n",
    "\n",
    "price_df = get_prices(get_pools(networks=['bostrom', 'osmosis']), zero_fee=True)\n",
    "\n",
    "price_ampere_actual = price_df.loc['hydrogen', 'milliampere'] * 1_000\n",
    "price_volt_actual = price_df.loc['hydrogen', 'millivolt'] * 1_000\n",
    "price_hydrogen_actual = price_df.loc['boot', 'hydrogen']"
   ],
   "metadata": {
    "collapsed": false,
    "ExecuteTime": {
     "start_time": "2023-05-31T10:18:03.188881Z",
     "end_time": "2023-05-31T10:18:20.848438Z"
    }
   }
  },
  {
   "cell_type": "markdown",
   "source": [
    "## Revenue Strategies\n",
    "### Degen\n",
    "Stake BOOT with restake -> Buy BOOT for HYDROGEN -> Stake BOOT with restake - 3 times"
   ],
   "metadata": {
    "collapsed": false
   }
  },
  {
   "cell_type": "code",
   "execution_count": 3,
   "outputs": [],
   "source": [
    "degen_revenue_actual = degen_revenue_optimal = 0\n",
    "staked_boot_actual = staked_boot_optimal = 1\n",
    "\n",
    "for _ in range(NUMBER_DEGEN_ITERATIONS):\n",
    "    degen_revenue_actual +=  staked_boot_actual * revenue_with_restake_boot\n",
    "    staked_boot_actual *= price_hydrogen_actual\n",
    "\n",
    "    degen_revenue_optimal +=  staked_boot_optimal * BOOT_REVENUE_OPTIMAL\n",
    "    staked_boot_optimal *= PRICE_HYDROGEN_OPTIMAL"
   ],
   "metadata": {
    "collapsed": false,
    "ExecuteTime": {
     "start_time": "2023-05-31T10:18:20.848747Z",
     "end_time": "2023-05-31T10:18:20.850134Z"
    }
   }
  },
  {
   "cell_type": "markdown",
   "source": [
    "### Staking + Investminting\n",
    "\n",
    "Stake BOOT with retake -> Investmint HYDROGEN"
   ],
   "metadata": {
    "collapsed": false
   }
  },
  {
   "cell_type": "code",
   "execution_count": 4,
   "outputs": [],
   "source": [
    "hydrogen_revenue_actual = \\\n",
    "    (1 * 365 / (BASE_INVESTMINTING_AMOUNT_VOLT * BASE_INVESTMINTING_PERIOD_VOLT) * price_volt_actual +\n",
    "     1 * 365 / (BASE_INVESTMINTING_AMOUNT_AMPERE * BASE_INVESTMINTING_PERIOD_AMPERE) * price_ampere_actual) / 2\n",
    "staking_investminting_revenue_actual = revenue_with_restake_boot + price_hydrogen_actual * hydrogen_revenue_actual\n",
    "staking_investminting_revenue_optimal = BOOT_REVENUE_OPTIMAL + PRICE_HYDROGEN_OPTIMAL * REVENUE_HYDROGEN_OPTIMAL"
   ],
   "metadata": {
    "collapsed": false,
    "ExecuteTime": {
     "start_time": "2023-05-31T10:18:20.851497Z",
     "end_time": "2023-05-31T10:18:20.853688Z"
    }
   }
  },
  {
   "cell_type": "markdown",
   "source": [
    "## Price Model"
   ],
   "metadata": {
    "collapsed": false
   }
  },
  {
   "cell_type": "code",
   "execution_count": 5,
   "outputs": [],
   "source": [
    "price_ampere_optimal = BASE_INVESTMINTING_AMOUNT_AMPERE * BASE_INVESTMINTING_PERIOD_AMPERE / 365 * REVENUE_HYDROGEN_OPTIMAL\n",
    "price_volt_optimal = BASE_INVESTMINTING_AMOUNT_VOLT * BASE_INVESTMINTING_PERIOD_VOLT / 365 * REVENUE_HYDROGEN_OPTIMAL"
   ],
   "metadata": {
    "collapsed": false,
    "ExecuteTime": {
     "start_time": "2023-05-31T10:18:20.854330Z",
     "end_time": "2023-05-31T10:18:20.856596Z"
    }
   }
  },
  {
   "cell_type": "markdown",
   "source": [
    "## Display data"
   ],
   "metadata": {
    "collapsed": false
   }
  },
  {
   "cell_type": "code",
   "execution_count": 6,
   "outputs": [
    {
     "data": {
      "text/plain": "<IPython.core.display.Markdown object>",
      "text/markdown": "\n# Bostrom Revenue and Price Model\n## Actual state"
     },
     "metadata": {},
     "output_type": "display_data"
    },
    {
     "name": "stdout",
     "output_type": "stream",
     "text": [
      "BOOT Supply  1,147,683,326,457,073\n",
      "BOOT Staked    272,231,853,177,508\n",
      "BOOT Inflation                         5.46%\n",
      "BOOT Inflation Community Tax          10.00%\n",
      "BOOT Staking Revenue without restake  19.68%\n",
      "BOOT Staking Revenue with restake     21.74%\n",
      "\n"
     ]
    },
    {
     "data": {
      "text/plain": "<IPython.core.display.Markdown object>",
      "text/markdown": "\n## Revenue Strategies\n### Degen\nStake BOOT with restake -> Buy BOOT for HYDROGEN -> Stake BOOT with restake - 3 times"
     },
     "metadata": {},
     "output_type": "display_data"
    },
    {
     "name": "stdout",
     "output_type": "stream",
     "text": [
      "Degen revenue actual   29.2%\n",
      "Degen revenue optimal  24.8%\n"
     ]
    },
    {
     "data": {
      "text/plain": "<IPython.core.display.Markdown object>",
      "text/markdown": "\n### Staking + Investminting\n\nStake BOOT with retake -> Investmint HYDROGEN"
     },
     "metadata": {},
     "output_type": "display_data"
    },
    {
     "name": "stdout",
     "output_type": "stream",
     "text": [
      "Staking + Investminting revenue actual   32.8%\n",
      "Staking + Investminting revenue optimal  28.0%\n"
     ]
    },
    {
     "data": {
      "text/plain": "<IPython.core.display.Markdown object>",
      "text/markdown": "\n### Investminting\nBuy HYDROGEN for BOOT -> Investmint HYDROGEN"
     },
     "metadata": {},
     "output_type": "display_data"
    },
    {
     "name": "stdout",
     "output_type": "stream",
     "text": [
      "Investminting revenue actual   40.7%\n",
      "Investminting revenue optimal  40.0%\n"
     ]
    },
    {
     "data": {
      "text/plain": "<IPython.core.display.Markdown object>",
      "text/markdown": "\n## Price Model"
     },
     "metadata": {},
     "output_type": "display_data"
    },
    {
     "name": "stdout",
     "output_type": "stream",
     "text": [
      "AMPERE price actual 3,408,557 H optimal 3,287,671 H can decrease by 1.04 times\n",
      "VOLT price actual 32,888,371 H optimal 32,876,712 H can decrease by 1.00 times\n",
      "H price actual 0.271 BOOT optimal 0.2 BOOT can decrease by 1.36 times\n",
      "OSMO price\n",
      "\t- in bostrom 116,755,716 H\n",
      "\t- in osmosis 115,145,339 H\n",
      "ATOM price\n",
      "\t- in bostrom 2,183,366,116 H\n",
      "\t- in osmosis 2,179,960,314 H\n"
     ]
    }
   ],
   "source": [
    "display(Markdown('''\n",
    "# Bostrom Revenue and Price Model\n",
    "## Actual state'''))\n",
    "print(f'BOOT Supply {supply_boot:>22,}\\n'\n",
    "      f'BOOT Staked {staked_boot:>22,}\\n'\n",
    "      f'BOOT Inflation  {inflation:28.2%}\\n'\n",
    "      f'BOOT Inflation Community Tax  {community_tax:14.2%}\\n'\n",
    "      f'BOOT Staking Revenue without restake  {revenue_boot:3.2%}\\n'\n",
    "      f'BOOT Staking Revenue with restake     {revenue_with_restake_boot:3.2%}\\n')\n",
    "\n",
    "display(Markdown('''\n",
    "## Revenue Strategies\n",
    "### Degen\n",
    "Stake BOOT with restake -> Buy BOOT for HYDROGEN -> Stake BOOT with restake - 3 times'''))\n",
    "print(f'Degen revenue actual {degen_revenue_actual:7.1%}\\n'\n",
    "      f'Degen revenue optimal {degen_revenue_optimal:6.1%}')\n",
    "\n",
    "display(Markdown('''\n",
    "### Staking + Investminting\n",
    "\n",
    "Stake BOOT with retake -> Investmint HYDROGEN'''))\n",
    "print(f'Staking + Investminting revenue actual {staking_investminting_revenue_actual:7.1%}\\n'\n",
    "      f'Staking + Investminting revenue optimal {staking_investminting_revenue_optimal:6.1%}')\n",
    "\n",
    "display(Markdown('''\n",
    "### Investminting\n",
    "Buy HYDROGEN for BOOT -> Investmint HYDROGEN'''))\n",
    "print(f'Investminting revenue actual {hydrogen_revenue_actual:7.1%}\\n'\n",
    "      f'Investminting revenue optimal {REVENUE_HYDROGEN_OPTIMAL:6.1%}')\n",
    "\n",
    "display(Markdown('''\n",
    "## Price Model'''))\n",
    "print(f'AMPERE price actual {price_ampere_actual:>,.0f} H optimal {price_ampere_optimal:>,.0f} H can decrease by {price_ampere_actual/price_ampere_optimal:.2f} times')\n",
    "print(f'VOLT price actual {price_volt_actual:>,.0f} H optimal {price_volt_optimal:>,.0f} H can decrease by {price_volt_actual/price_volt_optimal:.2f} times')\n",
    "print(f'H price actual {price_hydrogen_actual:.3f} BOOT optimal {PRICE_HYDROGEN_OPTIMAL} BOOT can decrease by {price_hydrogen_actual/PRICE_HYDROGEN_OPTIMAL:.2f} times')\n",
    "\n",
    "print(f\"OSMO price\"\n",
    "      f\"\\n\\t- in bostrom {price_df.loc['hydrogen', 'uosmo in bostrom'] * 1_000_000:>,.0f} H\"\n",
    "      f\"\\n\\t- in osmosis {price_df.loc['boot in osmosis', 'uosmo'] * price_df.loc['hydrogen', 'boot'] * 1_000_000:>,.0f} H\")\n",
    "print(f\"ATOM price\"\n",
    "      f\"\\n\\t- in bostrom {price_df.loc['hydrogen', 'uatom in bostrom'] * 1_000_000:>,.0f} H\"\n",
    "      f\"\\n\\t- in osmosis {price_df.loc['boot in osmosis', 'uatom in osmosis'] * price_df.loc['hydrogen', 'boot'] * 1_000_000:>,.0f} H\")\n"
   ],
   "metadata": {
    "collapsed": false,
    "ExecuteTime": {
     "start_time": "2023-05-31T10:18:20.861959Z",
     "end_time": "2023-05-31T10:18:20.869040Z"
    }
   }
  },
  {
   "cell_type": "code",
   "execution_count": 6,
   "outputs": [],
   "source": [],
   "metadata": {
    "collapsed": false,
    "ExecuteTime": {
     "start_time": "2023-05-31T10:18:20.868823Z",
     "end_time": "2023-05-31T10:18:20.905860Z"
    }
   }
  }
 ],
 "metadata": {
  "kernelspec": {
   "display_name": "Python 3",
   "language": "python",
   "name": "python3"
  },
  "language_info": {
   "codemirror_mode": {
    "name": "ipython",
    "version": 2
   },
   "file_extension": ".py",
   "mimetype": "text/x-python",
   "name": "python",
   "nbconvert_exporter": "python",
   "pygments_lexer": "ipython2",
   "version": "2.7.6"
  }
 },
 "nbformat": 4,
 "nbformat_minor": 0
}
