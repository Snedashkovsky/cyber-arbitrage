{
 "cells": [
  {
   "cell_type": "markdown",
   "source": [
    "# Bostrom Revenue and Price Model"
   ],
   "metadata": {
    "collapsed": false
   }
  },
  {
   "cell_type": "code",
   "execution_count": 1,
   "outputs": [],
   "source": [
    "from src.data_extractors import get_pools, get_prices\n",
    "from config import BOSTROM_LCD_CLIENT\n",
    "\n",
    "BASE_INVESTMINTING_AMOUNT_AMPERE = 100_000_000\n",
    "BASE_INVESTMINTING_AMOUNT_VOLT = 1_000_000_000\n",
    "BASE_INVESTMINTING_PERIOD_AMPERE = 30\n",
    "BASE_INVESTMINTING_PERIOD_VOLT = 30\n",
    "\n",
    "VALIDATOR_COMMISSION = 0.05\n",
    "NUMBER_DEGEN_ITERATIONS = 3\n",
    "\n",
    "## Optimal State\n",
    "PRICE_HYDROGEN_OPTIMAL = 0.2\n",
    "REVENUE_HYDROGEN_OPTIMAL = 0.4\n",
    "BOOT_REVENUE_OPTIMAL = 0.2  # stake + restake"
   ],
   "metadata": {
    "collapsed": false,
    "ExecuteTime": {
     "start_time": "2023-04-30T09:26:07.492174Z",
     "end_time": "2023-04-30T09:26:07.997545Z"
    }
   }
  },
  {
   "cell_type": "markdown",
   "source": [
    "## Actual State"
   ],
   "metadata": {
    "collapsed": false
   }
  },
  {
   "cell_type": "code",
   "execution_count": 2,
   "outputs": [
    {
     "name": "stdout",
     "output_type": "stream",
     "text": [
      "BOOT Supply  1,143,264,876,290,015\n",
      "BOOT Staked    281,041,932,038,145\n",
      "BOOT Inflation  5.46%\n",
      "BOOT Inflation Community Tax  10%\n",
      "BOOT Staking Revenue without restake  18.99%\n",
      "BOOT Staking Revenue with restake     20.91%\n",
      "\n",
      "Ampere price  3,721,359.9 H\n",
      "Volt price   35,842,107.4 H\n",
      "H price               0.215 BOOT\n",
      "\n",
      "OSMO price\n",
      "\t- in bostrom 29,795,807 BOOT\n",
      "\t- in osmosis 29,758,426 BOOT\n",
      "ATOM price\n",
      "\t- in bostrom 442,472,515 BOOT\n",
      "\t- in osmosis 442,281,972 BOOT\n"
     ]
    }
   ],
   "source": [
    "staked_boot =  BOSTROM_LCD_CLIENT.staking.pool().bonded_tokens.amount\n",
    "supply_boot = [int(_coin['amount']) for _coin in BOSTROM_LCD_CLIENT.bank.total()[0].to_data() if _coin['denom'] == 'boot'][0]\n",
    "inflation = float(BOSTROM_LCD_CLIENT.mint.inflation())\n",
    "community_tax = float(BOSTROM_LCD_CLIENT.distribution.parameters()['community_tax'])\n",
    "\n",
    "revenue_boot = supply_boot / staked_boot * inflation * (1 - VALIDATOR_COMMISSION) * (1 - community_tax)\n",
    "revenue_with_restake_boot = (1 + revenue_boot/365) ** 365 - 1\n",
    "\n",
    "print(f'BOOT Supply {supply_boot:>22,}\\n'\n",
    "      f'BOOT Staked {staked_boot:>22,}\\n'\n",
    "      f'BOOT Inflation  {inflation:.2%}\\n'\n",
    "      f'BOOT Inflation Community Tax  {community_tax:.0%}\\n'\n",
    "      f'BOOT Staking Revenue without restake  {revenue_boot:.2%}\\n'\n",
    "      f'BOOT Staking Revenue with restake     {revenue_with_restake_boot:.2%}\\n')\n",
    "\n",
    "price_df = get_prices(get_pools(networks=['bostrom', 'osmosis']), zero_fee=True)\n",
    "\n",
    "price_ampere_actual = price_df.loc['hydrogen', 'milliampere'] * 1_000\n",
    "price_volt_actual = price_df.loc['hydrogen', 'millivolt'] * 1_000\n",
    "price_hydrogen_actual = price_df.loc['boot', 'hydrogen']\n",
    "\n",
    "print(f'Ampere price {price_ampere_actual:>12,.1f} H\\n'\n",
    "      f'Volt price   {price_volt_actual:>12,.1f} H\\n'\n",
    "      f'H price      {price_hydrogen_actual:>14,.3f} BOOT\\n')\n",
    "print(f\"OSMO price\"\n",
    "      f\"\\n\\t- in bostrom {price_df.loc['hydrogen', 'uosmo in bostrom'] * price_df.loc['boot', 'hydrogen'] * 1_000_000:>,.0f} BOOT\"\n",
    "      f\"\\n\\t- in osmosis {price_df.loc['boot in osmosis', 'uosmo'] * 1_000_000:>,.0f} BOOT\")\n",
    "print(f\"ATOM price\"\n",
    "      f\"\\n\\t- in bostrom {price_df.loc['hydrogen', 'uatom in bostrom'] * price_df.loc['boot', 'hydrogen'] * 1_000_000:>,.0f} BOOT\"\n",
    "      f\"\\n\\t- in osmosis {price_df.loc['boot in osmosis', 'uatom in osmosis'] * 1_000_000:>,.0f} BOOT\")"
   ],
   "metadata": {
    "collapsed": false,
    "ExecuteTime": {
     "start_time": "2023-04-30T09:26:08.000347Z",
     "end_time": "2023-04-30T09:26:19.272175Z"
    }
   }
  },
  {
   "cell_type": "markdown",
   "source": [
    "## Revenue Strategies\n",
    "### Degen\n",
    "Stake BOOT with restake -> Buy BOOT for HYDROGEN -> Stake BOOT with restake - 3 times"
   ],
   "metadata": {
    "collapsed": false
   }
  },
  {
   "cell_type": "code",
   "execution_count": 3,
   "outputs": [
    {
     "name": "stdout",
     "output_type": "stream",
     "text": [
      "Degen revenue actual   26.4%\n",
      "Degen revenue optimal  24.8%\n"
     ]
    }
   ],
   "source": [
    "degen_revenue_actual = degen_revenue_optimal = 0\n",
    "staked_boot_actual = staked_boot_optimal = 1\n",
    "\n",
    "for _ in range(NUMBER_DEGEN_ITERATIONS):\n",
    "    degen_revenue_actual +=  staked_boot_actual * revenue_with_restake_boot\n",
    "    staked_boot_actual *= price_hydrogen_actual\n",
    "\n",
    "    degen_revenue_optimal +=  staked_boot_optimal * BOOT_REVENUE_OPTIMAL\n",
    "    staked_boot_optimal *= PRICE_HYDROGEN_OPTIMAL\n",
    "\n",
    "print(f'Degen revenue actual {degen_revenue_actual:7.1%}\\n'\n",
    "      f'Degen revenue optimal {degen_revenue_optimal:6.1%}')"
   ],
   "metadata": {
    "collapsed": false,
    "ExecuteTime": {
     "start_time": "2023-04-30T09:26:19.271472Z",
     "end_time": "2023-04-30T09:26:19.275945Z"
    }
   }
  },
  {
   "cell_type": "markdown",
   "source": [
    "### Staking + Investminting\n",
    "\n",
    "Stake BOOT with retake -> Investmint HYDROGEN"
   ],
   "metadata": {
    "collapsed": false
   }
  },
  {
   "cell_type": "code",
   "execution_count": 4,
   "outputs": [
    {
     "name": "stdout",
     "output_type": "stream",
     "text": [
      "Staking + Investminting revenue actual   30.5%\n",
      "Staking + Investminting revenue optimal  28.0%\n"
     ]
    }
   ],
   "source": [
    "hydrogen_revenue_actual = \\\n",
    "    (1 * 365 / (BASE_INVESTMINTING_AMOUNT_VOLT * BASE_INVESTMINTING_PERIOD_VOLT) * price_volt_actual +\n",
    "     1 * 365 / (BASE_INVESTMINTING_AMOUNT_AMPERE * BASE_INVESTMINTING_PERIOD_AMPERE) * price_ampere_actual) / 2\n",
    "staking_investminting_revenue_actual = revenue_with_restake_boot + price_hydrogen_actual * hydrogen_revenue_actual\n",
    "staking_investminting_revenue_optimal = BOOT_REVENUE_OPTIMAL + PRICE_HYDROGEN_OPTIMAL * REVENUE_HYDROGEN_OPTIMAL\n",
    "\n",
    "print(f'Staking + Investminting revenue actual {staking_investminting_revenue_actual:7.1%}\\n'\n",
    "      f'Staking + Investminting revenue optimal {staking_investminting_revenue_optimal:6.1%}')"
   ],
   "metadata": {
    "collapsed": false,
    "ExecuteTime": {
     "start_time": "2023-04-30T09:26:19.278065Z",
     "end_time": "2023-04-30T09:26:19.281200Z"
    }
   }
  },
  {
   "cell_type": "markdown",
   "source": [
    "### Investminting\n",
    "Buy HYDROGEN for BOOT -> Investmint HYDROGEN"
   ],
   "metadata": {
    "collapsed": false
   }
  },
  {
   "cell_type": "code",
   "execution_count": 5,
   "outputs": [
    {
     "name": "stdout",
     "output_type": "stream",
     "text": [
      "Investminting revenue actual   44.4%\n",
      "Investminting revenue optimal  40.0%\n"
     ]
    }
   ],
   "source": [
    "print(f'Investminting revenue actual {hydrogen_revenue_actual:7.1%}\\n'\n",
    "      f'Investminting revenue optimal {REVENUE_HYDROGEN_OPTIMAL:6.1%}')"
   ],
   "metadata": {
    "collapsed": false,
    "ExecuteTime": {
     "start_time": "2023-04-30T09:26:19.281142Z",
     "end_time": "2023-04-30T09:26:19.282835Z"
    }
   }
  },
  {
   "cell_type": "markdown",
   "source": [
    "## Price Model"
   ],
   "metadata": {
    "collapsed": false
   }
  },
  {
   "cell_type": "code",
   "execution_count": 6,
   "outputs": [
    {
     "name": "stdout",
     "output_type": "stream",
     "text": [
      "AMPERE price actual 3,721,359.9 optimal 3,287,671.2 can decrease by 1.13 times\n",
      "VOLT price actual 35,842,107.4 optimal 32,876,712.3 can decrease by 1.09 times\n",
      "H price actual 0.215 optimal 0.2 can decrease by 1.08 times\n"
     ]
    }
   ],
   "source": [
    "price_ampere_optimal = BASE_INVESTMINTING_AMOUNT_AMPERE * BASE_INVESTMINTING_PERIOD_AMPERE / 365 * REVENUE_HYDROGEN_OPTIMAL\n",
    "price_volt_optimal = BASE_INVESTMINTING_AMOUNT_VOLT * BASE_INVESTMINTING_PERIOD_VOLT / 365 * REVENUE_HYDROGEN_OPTIMAL\n",
    "\n",
    "print(f'AMPERE price actual {price_ampere_actual:>,.1f} optimal {price_ampere_optimal:>,.1f} can decrease by {price_ampere_actual/price_ampere_optimal:.2f} times')\n",
    "print(f'VOLT price actual {price_volt_actual:>,.1f} optimal {price_volt_optimal:>,.1f} can decrease by {price_volt_actual/price_volt_optimal:.2f} times')\n",
    "print(f'H price actual {price_hydrogen_actual:.3f} optimal {PRICE_HYDROGEN_OPTIMAL} can decrease by {price_hydrogen_actual/PRICE_HYDROGEN_OPTIMAL:.2f} times')"
   ],
   "metadata": {
    "collapsed": false,
    "ExecuteTime": {
     "start_time": "2023-04-30T09:26:19.284620Z",
     "end_time": "2023-04-30T09:26:19.298951Z"
    }
   }
  },
  {
   "cell_type": "code",
   "execution_count": 6,
   "outputs": [],
   "source": [],
   "metadata": {
    "collapsed": false,
    "ExecuteTime": {
     "start_time": "2023-04-30T09:26:19.286981Z",
     "end_time": "2023-04-30T09:26:19.299123Z"
    }
   }
  }
 ],
 "metadata": {
  "kernelspec": {
   "display_name": "Python 3",
   "language": "python",
   "name": "python3"
  },
  "language_info": {
   "codemirror_mode": {
    "name": "ipython",
    "version": 2
   },
   "file_extension": ".py",
   "mimetype": "text/x-python",
   "name": "python",
   "nbconvert_exporter": "python",
   "pygments_lexer": "ipython2",
   "version": "2.7.6"
  }
 },
 "nbformat": 4,
 "nbformat_minor": 0
}
