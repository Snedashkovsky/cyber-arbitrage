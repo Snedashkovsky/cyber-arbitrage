{
 "cells": [
  {
   "cell_type": "markdown",
   "source": [
    "# Bostrom Revenue and Price Model"
   ],
   "metadata": {
    "collapsed": false
   }
  },
  {
   "cell_type": "code",
   "source": [
    "from IPython.display import display, Markdown, HTML\n",
    "from typing import Optional\n",
    "\n",
    "from cyber_sdk.client.lcd import LCDClient\n",
    "from cyber_sdk.client.lcd.params import PaginationOptions\n",
    "\n",
    "from src.data_extractors import get_pools, get_prices\n",
    "from config import BOSTROM_LCD_CLIENT, PUSSY_LCD_CLIENT, COSMOSHUB_LCD_CLIENT, CRESCENT_LCD_CLIENT, OSMOSIS_LCD_CLIENT\n",
    "\n",
    "BASE_INVESTMINTING_AMOUNT_AMPERE = 100_000_000\n",
    "BASE_INVESTMINTING_AMOUNT_VOLT = 1_000_000_000\n",
    "BASE_INVESTMINTING_PERIOD_AMPERE = 30\n",
    "BASE_INVESTMINTING_PERIOD_VOLT = 30\n",
    "\n",
    "VALIDATOR_COMMISSION = 0.05\n",
    "NUMBER_DEGEN_ITERATIONS = 3\n",
    "\n",
    "## Optimal State\n",
    "PRICE_LIQUID_OPTIMAL = 0.5\n",
    "REVENUE_LIQUID_OPTIMAL = 0.4\n",
    "BASE_REVENUE_OPTIMAL = 0.2  # stake + restake"
   ],
   "metadata": {
    "collapsed": false,
    "ExecuteTime": {
     "end_time": "2024-04-29T06:59:46.455301Z",
     "start_time": "2024-04-29T06:59:45.948004Z"
    }
   },
   "outputs": [],
   "execution_count": 1
  },
  {
   "cell_type": "markdown",
   "source": [
    "## Actual State"
   ],
   "metadata": {
    "collapsed": false
   }
  },
  {
   "cell_type": "code",
   "source": [
    "def get_base_revenue(\n",
    "        base_denom: str = 'boot', \n",
    "        liquid_denom: str = 'hydrogen',\n",
    "        lcd_client: LCDClient = BOSTROM_LCD_CLIENT, \n",
    "        validator_commission: float = VALIDATOR_COMMISSION):\n",
    "    \n",
    "    _staked_base = lcd_client.staking.pool().bonded_tokens.amount\n",
    "    _supply_base = \\\n",
    "        [int(_coin['amount']) \n",
    "         for _coin in lcd_client.bank.total(params=PaginationOptions(limit=10_000))[0].to_data() \n",
    "         if _coin['denom'] == base_denom][0]\n",
    "    _inflation = float(lcd_client.mint.inflation())\n",
    "    _community_tax = float(lcd_client.distribution.parameters()['community_tax'])\n",
    "\n",
    "    _revenue_base = _supply_base / _staked_base * _inflation * (1 - validator_commission) * (1 - _community_tax)\n",
    "    _revenue_with_restake_base = (1 + _revenue_base / 365) ** 365 - 1\n",
    "    if base_denom not in ('boot', 'pussy'):\n",
    "        return _staked_base, _supply_base, _revenue_base, _revenue_with_restake_base, None, None, None, None, _inflation, _community_tax\n",
    "    _networks = ['bostrom', 'osmosis'] if base_denom == 'boot' else ['space-pussy']\n",
    "    _price_df = get_prices(get_pools(networks=_networks), zero_fee=True)\n",
    "\n",
    "    _price_ampere_actual = _price_df.loc[liquid_denom, 'milliampere' if base_denom == 'boot' else 'milliampere(pussy)'] * 1_000\n",
    "    _price_volt_actual = _price_df.loc[liquid_denom, 'millivolt' if base_denom == 'boot' else 'millivolt(pussy)'] * 1_000\n",
    "    _price_liquid_actual = _price_df.loc[base_denom, liquid_denom]\n",
    "    return _staked_base, _supply_base, _revenue_base, _revenue_with_restake_base, _price_df, _price_ampere_actual, _price_volt_actual, _price_liquid_actual, _inflation, _community_tax"
   ],
   "metadata": {
    "collapsed": false,
    "ExecuteTime": {
     "end_time": "2024-04-29T06:59:46.461754Z",
     "start_time": "2024-04-29T06:59:46.456453Z"
    }
   },
   "outputs": [],
   "execution_count": 2
  },
  {
   "cell_type": "markdown",
   "source": [
    "## Revenue Strategies\n",
    "### Degen\n",
    "Stake BOOT with restake -> Buy BOOT for HYDROGEN -> Stake BOOT with restake - 3 times"
   ],
   "metadata": {
    "collapsed": false
   }
  },
  {
   "cell_type": "code",
   "source": [
    "def get_degen_revenue(\n",
    "        revenue_with_restake_base: float,\n",
    "        price_liquid_actual: float,\n",
    "        base_revenue_optimal: float = BASE_REVENUE_OPTIMAL,\n",
    "        price_liquid_optimal: float = PRICE_LIQUID_OPTIMAL,\n",
    "        number_degen_iterations: int = NUMBER_DEGEN_ITERATIONS\n",
    ") -> [float, float, float, float]:\n",
    "    \n",
    "    _degen_revenue_actual = _degen_revenue_optimal = 0\n",
    "    _staked_base_actual = _staked_base_optimal = 1\n",
    "\n",
    "    for _ in range(number_degen_iterations):\n",
    "        _degen_revenue_actual += _staked_base_actual * revenue_with_restake_base\n",
    "        _staked_base_actual *= price_liquid_actual\n",
    "\n",
    "        _degen_revenue_optimal += _staked_base_optimal * base_revenue_optimal\n",
    "        _staked_base_optimal *= price_liquid_optimal\n",
    "    return _degen_revenue_actual, _degen_revenue_optimal, _staked_base_actual, _staked_base_optimal"
   ],
   "metadata": {
    "collapsed": false,
    "ExecuteTime": {
     "end_time": "2024-04-29T06:59:46.465186Z",
     "start_time": "2024-04-29T06:59:46.462772Z"
    }
   },
   "outputs": [],
   "execution_count": 3
  },
  {
   "cell_type": "markdown",
   "source": [
    "### Staking + Investminting\n",
    "\n",
    "Stake BOOT with retake -> Investmint HYDROGEN"
   ],
   "metadata": {
    "collapsed": false
   }
  },
  {
   "cell_type": "code",
   "source": [
    "def get_staking_plus_investminting_revenue(\n",
    "        price_volt_actual: float,\n",
    "        price_ampere_actual: float,\n",
    "        revenue_with_restake_base: float,\n",
    "        price_liquid_actual: float,\n",
    "        base_investminting_amount_volt: int = BASE_INVESTMINTING_AMOUNT_VOLT,\n",
    "        base_investminting_period_volt: int = BASE_INVESTMINTING_PERIOD_VOLT,\n",
    "        base_investminting_amount_ampere: int = BASE_INVESTMINTING_AMOUNT_AMPERE,\n",
    "        base_investminting_period_ampere: int = BASE_INVESTMINTING_PERIOD_AMPERE,\n",
    "        base_revenue_optimal: float = BASE_REVENUE_OPTIMAL,\n",
    "        price_liquid_optimal: float = PRICE_LIQUID_OPTIMAL,\n",
    "        revenue_liquid_optimal: float = REVENUE_LIQUID_OPTIMAL\n",
    ") -> [float, float, float]:\n",
    "    \n",
    "    _liquid_revenue_actual = \\\n",
    "        (1 * 365 / (base_investminting_amount_volt * base_investminting_period_volt) * price_volt_actual +\n",
    "         1 * 365 / (base_investminting_amount_ampere * base_investminting_period_ampere) * price_ampere_actual) / 2\n",
    "    _staking_investminting_revenue_actual = revenue_with_restake_base + price_liquid_actual * _liquid_revenue_actual\n",
    "    _staking_investminting_revenue_optimal = base_revenue_optimal + price_liquid_optimal * revenue_liquid_optimal\n",
    "    return _liquid_revenue_actual, _staking_investminting_revenue_actual, _staking_investminting_revenue_optimal"
   ],
   "metadata": {
    "collapsed": false,
    "ExecuteTime": {
     "end_time": "2024-04-29T06:59:46.469616Z",
     "start_time": "2024-04-29T06:59:46.466754Z"
    }
   },
   "outputs": [],
   "execution_count": 4
  },
  {
   "cell_type": "markdown",
   "source": [
    "## Price Model"
   ],
   "metadata": {
    "collapsed": false
   }
  },
  {
   "cell_type": "code",
   "source": [
    "def price_optimal(\n",
    "        base_investminting_amount_volt: int = BASE_INVESTMINTING_AMOUNT_VOLT,\n",
    "        base_investminting_period_volt: int = BASE_INVESTMINTING_PERIOD_VOLT,\n",
    "        base_investminting_amount_ampere: int = BASE_INVESTMINTING_AMOUNT_AMPERE,\n",
    "        base_investminting_period_ampere: int = BASE_INVESTMINTING_PERIOD_AMPERE,\n",
    "        revenue_liquid_optimal: float = REVENUE_LIQUID_OPTIMAL\n",
    ") -> [float, float]:\n",
    "    \n",
    "    _price_ampere_optimal = base_investminting_amount_ampere * base_investminting_period_ampere / 365 * revenue_liquid_optimal\n",
    "    _price_volt_optimal = base_investminting_amount_volt * base_investminting_period_volt / 365 * revenue_liquid_optimal\n",
    "    return _price_ampere_optimal, _price_volt_optimal"
   ],
   "metadata": {
    "collapsed": false,
    "ExecuteTime": {
     "end_time": "2024-04-29T06:59:46.473031Z",
     "start_time": "2024-04-29T06:59:46.470560Z"
    }
   },
   "outputs": [],
   "execution_count": 5
  },
  {
   "cell_type": "markdown",
   "source": [
    "## Display data"
   ],
   "metadata": {
    "collapsed": false
   }
  },
  {
   "cell_type": "code",
   "source": [
    "def display_data(\n",
    "        chain_name: str = 'Bostrom',\n",
    "        base_denom: str = 'boot', \n",
    "        liquid_denom: Optional[str] = 'hydrogen',  \n",
    "        liquid_denom_sn: Optional[str] = 'H', \n",
    "        lcd_client=BOSTROM_LCD_CLIENT) -> None:\n",
    "    \"\"\"\n",
    "    Calculate, display the revenue and price model\n",
    "    :param chain_name: chain name\n",
    "    :param base_denom: chain base denom\n",
    "    :param liquid_denom: liquid staking denom\n",
    "    :param liquid_denom_sn: short name of liquid staking denom\n",
    "    :param lcd_client: LCD client (Rest API) path\n",
    "    :return: none\n",
    "    \"\"\"\n",
    "    \n",
    "    base_denom_uc = base_denom.upper()\n",
    "    \n",
    "    staked_base, supply_base, revenue_base, revenue_with_restake_base, price_df, price_ampere_actual, price_volt_actual, price_liquid_actual, inflation, community_tax = \\\n",
    "        get_base_revenue(base_denom=base_denom, liquid_denom=liquid_denom, lcd_client=lcd_client)\n",
    "    \n",
    "    display(Markdown(\n",
    "        f'''\n",
    "# {chain_name} Revenue and Price Model\n",
    "## {base_denom_uc} Actual state\n",
    "<pre>\n",
    "Supply {supply_base:>31,}   \n",
    "Staked {staked_base:>31,}  \n",
    "Inflation  {inflation:28.2%}  \n",
    "Inflation Community Tax  {community_tax:14.2%}  \n",
    "Staking Revenue without restake  {revenue_base:3.2%}  \n",
    "Staking Revenue with restake     {revenue_with_restake_base:3.2%}\n",
    "</pre>'''\n",
    "    ))\n",
    "\n",
    "    if chain_name not in ('Bostrom', 'Space-Pussy'):\n",
    "        return \n",
    "\n",
    "    liquid_denom_uc = liquid_denom.upper()\n",
    "    degen_revenue_actual, degen_revenue_optimal, staked_base_actual, staked_base_optimal = \\\n",
    "        get_degen_revenue(\n",
    "            revenue_with_restake_base=revenue_with_restake_base,\n",
    "            price_liquid_actual=price_liquid_actual)\n",
    "    \n",
    "    liquid_revenue_actual, staking_investminting_revenue_actual, staking_investminting_revenue_optimal = \\\n",
    "        get_staking_plus_investminting_revenue(\n",
    "            price_volt_actual=price_volt_actual,\n",
    "            price_ampere_actual=price_ampere_actual,\n",
    "            revenue_with_restake_base=revenue_with_restake_base,\n",
    "            price_liquid_actual=price_liquid_actual)\n",
    "    \n",
    "    price_ampere_optimal, price_volt_optimal = price_optimal()\n",
    "    \n",
    "    display(Markdown(f'''\n",
    "## Revenue Strategies\n",
    "### Degen\n",
    "Stake {base_denom_uc} with restake -> Buy {base_denom_uc} for {liquid_denom_uc} -> Stake {base_denom_uc} with restake - 3 times  \n",
    "<pre>\n",
    "Degen revenue actual {degen_revenue_actual:7.1%}  \n",
    "Degen revenue optimal {degen_revenue_optimal:6.1%}\n",
    "</pre>\n",
    "### Staking + Investminting\n",
    "Stake {base_denom_uc} with retake -> Investmint {liquid_denom_uc}  \n",
    "<pre>\n",
    "Staking + Investminting revenue actual {staking_investminting_revenue_actual:7.1%}  \n",
    "Staking + Investminting revenue optimal {staking_investminting_revenue_optimal:6.1%}\n",
    "</pre>\n",
    "### Investminting\n",
    "Buy {liquid_denom_uc} for {base_denom_uc} -> Investmint {liquid_denom_uc}  \n",
    "<pre>\n",
    "Investminting revenue actual {liquid_revenue_actual:7.1%}  \n",
    "Investminting revenue optimal {REVENUE_LIQUID_OPTIMAL:6.1%}\n",
    "</pre>\n",
    "\n",
    "## Price Model\n",
    "<pre>\n",
    "AMPERE price actual {price_ampere_actual:>,.0f} {liquid_denom_sn} optimal {price_ampere_optimal:>,.0f},\n",
    "AMPERE can decrease by {price_ampere_actual / price_ampere_optimal:.2f} times  \n",
    "VOLT price actual {price_volt_actual:>,.0f} {liquid_denom_sn} optimal {price_volt_optimal:>,.0f},\n",
    "VOLT can decrease by {price_volt_actual / price_volt_optimal:.2f} times   \n",
    "{liquid_denom_sn} price actual {price_liquid_actual:.3f} {base_denom_uc} optimal {PRICE_LIQUID_OPTIMAL}, \n",
    "{liquid_denom_sn} can increase by {PRICE_LIQUID_OPTIMAL / price_liquid_actual :.2f} times\n",
    "</pre>'''\n",
    "    ))\n",
    "    \n",
    "    if chain_name == 'Bostrom':\n",
    "        display(Markdown(f'''\n",
    "OSMO price  \n",
    "<pre>\n",
    "- in bostrom {price_df.loc[liquid_denom, 'uosmo in bostrom'] * 1_000_000:>,.0f} {liquid_denom_sn}\n",
    "- in osmosis {price_df.loc['boot in osmosis', 'uosmo'] * price_df.loc[liquid_denom, base_denom] * 1_000_000:>,.0f} {liquid_denom_sn}  \n",
    "</pre>\n",
    "ATOM price  \n",
    "<pre>\n",
    "- in bostrom {price_df.loc[liquid_denom, 'uatom in bostrom'] * 1_000_000:>,.0f} H\n",
    "- in osmosis {price_df.loc['boot in osmosis', 'uatom in osmosis'] * price_df.loc[liquid_denom, base_denom] * 1_000_000:>,.0f} {liquid_denom_sn}\n",
    "</pre>'''\n",
    "        ))"
   ],
   "metadata": {
    "collapsed": false,
    "ExecuteTime": {
     "end_time": "2024-04-29T06:59:46.479793Z",
     "start_time": "2024-04-29T06:59:46.474Z"
    }
   },
   "outputs": [],
   "execution_count": 6
  },
  {
   "cell_type": "code",
   "source": [
    "display_data()"
   ],
   "metadata": {
    "collapsed": false,
    "ExecuteTime": {
     "end_time": "2024-04-29T06:59:58.439739Z",
     "start_time": "2024-04-29T06:59:46.480817Z"
    }
   },
   "outputs": [
    {
     "data": {
      "text/plain": [
       "<IPython.core.display.Markdown object>"
      ],
      "text/markdown": "\n# Bostrom Revenue and Price Model\n## BOOT Actual state\n<pre>\nSupply           1,196,469,656,975,708   \nStaked             302,430,148,256,785  \nInflation                         5.37%  \nInflation Community Tax          10.00%  \nStaking Revenue without restake  18.17%  \nStaking Revenue with restake     19.92%\n</pre>"
     },
     "metadata": {},
     "output_type": "display_data"
    },
    {
     "data": {
      "text/plain": [
       "<IPython.core.display.Markdown object>"
      ],
      "text/markdown": "\n## Revenue Strategies\n### Degen\nStake BOOT with restake -> Buy BOOT for HYDROGEN -> Stake BOOT with restake - 3 times  \n<pre>\nDegen revenue actual   26.1%  \nDegen revenue optimal  35.0%\n</pre>\n### Staking + Investminting\nStake BOOT with retake -> Investmint HYDROGEN  \n<pre>\nStaking + Investminting revenue actual   36.7%  \nStaking + Investminting revenue optimal  40.0%\n</pre>\n### Investminting\nBuy HYDROGEN for BOOT -> Investmint HYDROGEN  \n<pre>\nInvestminting revenue actual   67.5%  \nInvestminting revenue optimal  40.0%\n</pre>\n\n## Price Model\n<pre>\nAMPERE price actual 5,469,501 H optimal 3,287,671,\nAMPERE can decrease by 1.66 times  \nVOLT price actual 56,324,350 H optimal 32,876,712,\nVOLT can decrease by 1.71 times   \nH price actual 0.248 BOOT optimal 0.5, \nH can increase by 2.01 times\n</pre>"
     },
     "metadata": {},
     "output_type": "display_data"
    },
    {
     "data": {
      "text/plain": [
       "<IPython.core.display.Markdown object>"
      ],
      "text/markdown": "\nOSMO price  \n<pre>\n- in bostrom 151,376,353 H\n- in osmosis 146,972,950 H  \n</pre>\nATOM price  \n<pre>\n- in bostrom 1,360,489,522 H\n- in osmosis 1,317,051,182 H\n</pre>"
     },
     "metadata": {},
     "output_type": "display_data"
    }
   ],
   "execution_count": 7
  },
  {
   "cell_type": "code",
   "source": [
    "display_data(\n",
    "    chain_name='Space-Pussy',\n",
    "    base_denom='pussy', \n",
    "    liquid_denom='liquidpussy', \n",
    "    liquid_denom_sn='LP', \n",
    "    lcd_client=PUSSY_LCD_CLIENT\n",
    ")"
   ],
   "metadata": {
    "collapsed": false,
    "ExecuteTime": {
     "end_time": "2024-04-29T07:00:04.418236Z",
     "start_time": "2024-04-29T06:59:58.440537Z"
    }
   },
   "outputs": [
    {
     "data": {
      "text/plain": [
       "<IPython.core.display.Markdown object>"
      ],
      "text/markdown": "\n# Space-Pussy Revenue and Price Model\n## PUSSY Actual state\n<pre>\nSupply       1,040,543,324,344,349,237   \nStaked          36,225,337,216,999,779  \nInflation                         3.00%  \nInflation Community Tax          20.00%  \nStaking Revenue without restake  65.49%  \nStaking Revenue with restake     92.38%\n</pre>"
     },
     "metadata": {},
     "output_type": "display_data"
    },
    {
     "data": {
      "text/plain": [
       "<IPython.core.display.Markdown object>"
      ],
      "text/markdown": "\n## Revenue Strategies\n### Degen\nStake PUSSY with restake -> Buy PUSSY for LIQUIDPUSSY -> Stake PUSSY with restake - 3 times  \n<pre>\nDegen revenue actual  134.5%  \nDegen revenue optimal  35.0%\n</pre>\n### Staking + Investminting\nStake PUSSY with retake -> Investmint LIQUIDPUSSY  \n<pre>\nStaking + Investminting revenue actual  137.5%  \nStaking + Investminting revenue optimal  40.0%\n</pre>\n### Investminting\nBuy LIQUIDPUSSY for PUSSY -> Investmint LIQUIDPUSSY  \n<pre>\nInvestminting revenue actual  132.8%  \nInvestminting revenue optimal  40.0%\n</pre>\n\n## Price Model\n<pre>\nAMPERE price actual 11,229,129 LP optimal 3,287,671,\nAMPERE can decrease by 3.42 times  \nVOLT price actual 105,949,852 LP optimal 32,876,712,\nVOLT can decrease by 3.22 times   \nLP price actual 0.340 PUSSY optimal 0.5, \nLP can increase by 1.47 times\n</pre>"
     },
     "metadata": {},
     "output_type": "display_data"
    }
   ],
   "execution_count": 8
  },
  {
   "cell_type": "code",
   "source": [
    "display_data(\n",
    "    chain_name='CosmosHub',\n",
    "    base_denom='uatom', \n",
    "    liquid_denom=None, \n",
    "    liquid_denom_sn=None, \n",
    "    lcd_client=COSMOSHUB_LCD_CLIENT\n",
    ")"
   ],
   "metadata": {
    "collapsed": false,
    "ExecuteTime": {
     "end_time": "2024-04-29T07:00:11.342831Z",
     "start_time": "2024-04-29T07:00:04.419341Z"
    }
   },
   "outputs": [
    {
     "data": {
      "text/plain": [
       "<IPython.core.display.Markdown object>"
      ],
      "text/markdown": "\n# CosmosHub Revenue and Price Model\n## UATOM Actual state\n<pre>\nSupply             396,050,106,873,247   \nStaked             250,038,037,783,203  \nInflation                        10.00%  \nInflation Community Tax          10.00%  \nStaking Revenue without restake  13.54%  \nStaking Revenue with restake     14.50%\n</pre>"
     },
     "metadata": {},
     "output_type": "display_data"
    }
   ],
   "execution_count": 9
  },
  {
   "cell_type": "code",
   "source": [],
   "metadata": {
    "collapsed": false,
    "ExecuteTime": {
     "end_time": "2024-04-29T07:00:11.345291Z",
     "start_time": "2024-04-29T07:00:11.343775Z"
    }
   },
   "outputs": [],
   "execution_count": 9
  }
 ],
 "metadata": {
  "kernelspec": {
   "display_name": "Python 3",
   "language": "python",
   "name": "python3"
  },
  "language_info": {
   "codemirror_mode": {
    "name": "ipython",
    "version": 2
   },
   "file_extension": ".py",
   "mimetype": "text/x-python",
   "name": "python",
   "nbconvert_exporter": "python",
   "pygments_lexer": "ipython2",
   "version": "2.7.6"
  }
 },
 "nbformat": 4,
 "nbformat_minor": 0
}
