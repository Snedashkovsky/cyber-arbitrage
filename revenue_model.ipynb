{
 "cells": [
  {
   "cell_type": "markdown",
   "source": [
    "# Bostrom Revenue and Price Model"
   ],
   "metadata": {
    "collapsed": false
   }
  },
  {
   "cell_type": "code",
   "execution_count": 1,
   "outputs": [],
   "source": [
    "from IPython.display import display, Markdown\n",
    "from typing import Optional\n",
    "\n",
    "from cyber_sdk.client.lcd import LCDClient\n",
    "from cyber_sdk.client.lcd.params import PaginationOptions\n",
    "\n",
    "from src.data_extractors import get_pools, get_prices\n",
    "from config import BOSTROM_LCD_CLIENT, PUSSY_LCD_CLIENT, COSMOSHUB_LCD_CLIENT, CRESCENT_LCD_CLIENT, OSMOSIS_LCD_CLIENT\n",
    "\n",
    "BASE_INVESTMINTING_AMOUNT_AMPERE = 100_000_000\n",
    "BASE_INVESTMINTING_AMOUNT_VOLT = 1_000_000_000\n",
    "BASE_INVESTMINTING_PERIOD_AMPERE = 30\n",
    "BASE_INVESTMINTING_PERIOD_VOLT = 30\n",
    "\n",
    "VALIDATOR_COMMISSION = 0.05\n",
    "NUMBER_DEGEN_ITERATIONS = 3\n",
    "\n",
    "## Optimal State\n",
    "PRICE_LIQUID_OPTIMAL = 0.5\n",
    "REVENUE_LIQUID_OPTIMAL = 0.4\n",
    "BASE_REVENUE_OPTIMAL = 0.2  # stake + restake"
   ],
   "metadata": {
    "collapsed": false,
    "ExecuteTime": {
     "end_time": "2023-11-21T04:37:57.370501Z",
     "start_time": "2023-11-21T04:37:56.859591Z"
    }
   }
  },
  {
   "cell_type": "markdown",
   "source": [
    "## Actual State"
   ],
   "metadata": {
    "collapsed": false
   }
  },
  {
   "cell_type": "code",
   "execution_count": 2,
   "outputs": [],
   "source": [
    "def get_base_revenue(\n",
    "        base_denom: str = 'boot', \n",
    "        liquid_denom: str = 'hydrogen',\n",
    "        lcd_client: LCDClient = BOSTROM_LCD_CLIENT, \n",
    "        validator_commission: float = VALIDATOR_COMMISSION):\n",
    "    \n",
    "    _staked_base = lcd_client.staking.pool().bonded_tokens.amount\n",
    "    _supply_base = \\\n",
    "        [int(_coin['amount']) \n",
    "         for _coin in lcd_client.bank.total(params=PaginationOptions(limit=10_000))[0].to_data() \n",
    "         if _coin['denom'] == base_denom][0]\n",
    "    _inflation = float(lcd_client.mint.inflation())\n",
    "    _community_tax = float(lcd_client.distribution.parameters()['community_tax'])\n",
    "\n",
    "    _revenue_base = _supply_base / _staked_base * _inflation * (1 - validator_commission) * (1 - _community_tax)\n",
    "    _revenue_with_restake_base = (1 + _revenue_base / 365) ** 365 - 1\n",
    "    if base_denom not in ('boot', 'pussy'):\n",
    "        return _staked_base, _supply_base, _revenue_base, _revenue_with_restake_base, None, None, None, None, _inflation, _community_tax\n",
    "    _networks = ['bostrom', 'osmosis'] if base_denom == 'boot' else ['space-pussy']\n",
    "    _price_df = get_prices(get_pools(networks=_networks), zero_fee=True)\n",
    "\n",
    "    _price_ampere_actual = _price_df.loc[liquid_denom, 'milliampere' if base_denom == 'boot' else 'milliampere(pussy)'] * 1_000\n",
    "    _price_volt_actual = _price_df.loc[liquid_denom, 'millivolt' if base_denom == 'boot' else 'millivolt(pussy)'] * 1_000\n",
    "    _price_liquid_actual = _price_df.loc[base_denom, liquid_denom]\n",
    "    return _staked_base, _supply_base, _revenue_base, _revenue_with_restake_base, _price_df, _price_ampere_actual, _price_volt_actual, _price_liquid_actual, _inflation, _community_tax"
   ],
   "metadata": {
    "collapsed": false,
    "ExecuteTime": {
     "end_time": "2023-11-21T04:37:57.378625Z",
     "start_time": "2023-11-21T04:37:57.371411Z"
    }
   }
  },
  {
   "cell_type": "markdown",
   "source": [
    "## Revenue Strategies\n",
    "### Degen\n",
    "Stake BOOT with restake -> Buy BOOT for HYDROGEN -> Stake BOOT with restake - 3 times"
   ],
   "metadata": {
    "collapsed": false
   }
  },
  {
   "cell_type": "code",
   "execution_count": 3,
   "outputs": [],
   "source": [
    "def get_degen_revenue(\n",
    "        revenue_with_restake_base: float,\n",
    "        price_liquid_actual: float,\n",
    "        base_revenue_optimal: float = BASE_REVENUE_OPTIMAL,\n",
    "        price_liquid_optimal: float = PRICE_LIQUID_OPTIMAL,\n",
    "        number_degen_iterations: int = NUMBER_DEGEN_ITERATIONS\n",
    ") -> [float, float, float, float]:\n",
    "    \n",
    "    _degen_revenue_actual = _degen_revenue_optimal = 0\n",
    "    _staked_base_actual = _staked_base_optimal = 1\n",
    "\n",
    "    for _ in range(number_degen_iterations):\n",
    "        _degen_revenue_actual += _staked_base_actual * revenue_with_restake_base\n",
    "        _staked_base_actual *= price_liquid_actual\n",
    "\n",
    "        _degen_revenue_optimal += _staked_base_optimal * base_revenue_optimal\n",
    "        _staked_base_optimal *= price_liquid_optimal\n",
    "    return _degen_revenue_actual, _degen_revenue_optimal, _staked_base_actual, _staked_base_optimal"
   ],
   "metadata": {
    "collapsed": false,
    "ExecuteTime": {
     "end_time": "2023-11-21T04:37:57.382819Z",
     "start_time": "2023-11-21T04:37:57.379521Z"
    }
   }
  },
  {
   "cell_type": "markdown",
   "source": [
    "### Staking + Investminting\n",
    "\n",
    "Stake BOOT with retake -> Investmint HYDROGEN"
   ],
   "metadata": {
    "collapsed": false
   }
  },
  {
   "cell_type": "code",
   "execution_count": 4,
   "outputs": [],
   "source": [
    "def get_staking_plus_investminting_revenue(\n",
    "        price_volt_actual: float,\n",
    "        price_ampere_actual: float,\n",
    "        revenue_with_restake_base: float,\n",
    "        price_liquid_actual: float,\n",
    "        base_investminting_amount_volt: int = BASE_INVESTMINTING_AMOUNT_VOLT,\n",
    "        base_investminting_period_volt: int = BASE_INVESTMINTING_PERIOD_VOLT,\n",
    "        base_investminting_amount_ampere: int = BASE_INVESTMINTING_AMOUNT_AMPERE,\n",
    "        base_investminting_period_ampere: int = BASE_INVESTMINTING_PERIOD_AMPERE,\n",
    "        base_revenue_optimal: float = BASE_REVENUE_OPTIMAL,\n",
    "        price_liquid_optimal: float = PRICE_LIQUID_OPTIMAL,\n",
    "        revenue_liquid_optimal: float = REVENUE_LIQUID_OPTIMAL\n",
    ") -> [float, float, float]:\n",
    "    \n",
    "    _liquid_revenue_actual = \\\n",
    "        (1 * 365 / (base_investminting_amount_volt * base_investminting_period_volt) * price_volt_actual +\n",
    "         1 * 365 / (base_investminting_amount_ampere * base_investminting_period_ampere) * price_ampere_actual) / 2\n",
    "    _staking_investminting_revenue_actual = revenue_with_restake_base + price_liquid_actual * _liquid_revenue_actual\n",
    "    _staking_investminting_revenue_optimal = base_revenue_optimal + price_liquid_optimal * revenue_liquid_optimal\n",
    "    return _liquid_revenue_actual, _staking_investminting_revenue_actual, _staking_investminting_revenue_optimal"
   ],
   "metadata": {
    "collapsed": false,
    "ExecuteTime": {
     "end_time": "2023-11-21T04:37:57.386477Z",
     "start_time": "2023-11-21T04:37:57.383957Z"
    }
   }
  },
  {
   "cell_type": "markdown",
   "source": [
    "## Price Model"
   ],
   "metadata": {
    "collapsed": false
   }
  },
  {
   "cell_type": "code",
   "execution_count": 5,
   "outputs": [],
   "source": [
    "def price_optimal(\n",
    "        base_investminting_amount_volt: int = BASE_INVESTMINTING_AMOUNT_VOLT,\n",
    "        base_investminting_period_volt: int = BASE_INVESTMINTING_PERIOD_VOLT,\n",
    "        base_investminting_amount_ampere: int = BASE_INVESTMINTING_AMOUNT_AMPERE,\n",
    "        base_investminting_period_ampere: int = BASE_INVESTMINTING_PERIOD_AMPERE,\n",
    "        revenue_liquid_optimal: float = REVENUE_LIQUID_OPTIMAL\n",
    ") -> [float, float]:\n",
    "    \n",
    "    _price_ampere_optimal = base_investminting_amount_ampere * base_investminting_period_ampere / 365 * revenue_liquid_optimal\n",
    "    _price_volt_optimal = base_investminting_amount_volt * base_investminting_period_volt / 365 * revenue_liquid_optimal\n",
    "    return _price_ampere_optimal, _price_volt_optimal"
   ],
   "metadata": {
    "collapsed": false,
    "ExecuteTime": {
     "end_time": "2023-11-21T04:37:57.390308Z",
     "start_time": "2023-11-21T04:37:57.388214Z"
    }
   }
  },
  {
   "cell_type": "markdown",
   "source": [
    "## Display data"
   ],
   "metadata": {
    "collapsed": false
   }
  },
  {
   "cell_type": "code",
   "execution_count": 6,
   "outputs": [],
   "source": [
    "def display_data(\n",
    "        chain_name: str = 'Bostrom',\n",
    "        base_denom: str = 'boot', \n",
    "        liquid_denom: Optional[str] = 'hydrogen',  \n",
    "        liquid_denom_sn: Optional[str] = 'H', \n",
    "        lcd_client=BOSTROM_LCD_CLIENT) -> None:\n",
    "    \"\"\"\n",
    "    Calculate, display the revenue and price model\n",
    "    :param chain_name: chain name\n",
    "    :param base_denom: chain base denom\n",
    "    :param liquid_denom: liquid staking denom\n",
    "    :param liquid_denom_sn: short name of liquid staking denom\n",
    "    :param lcd_client: LCD client (Rest API) path\n",
    "    :return: none\n",
    "    \"\"\"\n",
    "    \n",
    "    base_denom_uc = base_denom.upper()\n",
    "    \n",
    "    staked_base, supply_base, revenue_base, revenue_with_restake_base, price_df, price_ampere_actual, price_volt_actual, price_liquid_actual, inflation, community_tax = \\\n",
    "        get_base_revenue(base_denom=base_denom, liquid_denom=liquid_denom, lcd_client=lcd_client)\n",
    "    \n",
    "    display(Markdown(f'''\n",
    "# {chain_name} Revenue and Price Model\n",
    "## Actual state'''))\n",
    "    print(f'{base_denom_uc} Supply {supply_base:>31,}\\n'\n",
    "          f'{base_denom_uc} Staked {staked_base:>31,}\\n'\n",
    "          f'{base_denom_uc} Inflation  {inflation:28.2%}\\n'\n",
    "          f'{base_denom_uc} Inflation Community Tax  {community_tax:14.2%}\\n'\n",
    "          f'{base_denom_uc} Staking Revenue without restake  {revenue_base:3.2%}\\n'\n",
    "          f'{base_denom_uc} Staking Revenue with restake     {revenue_with_restake_base:3.2%}\\n')\n",
    "\n",
    "    if chain_name not in ('Bostrom', 'Space-Pussy'):\n",
    "        return \n",
    "\n",
    "    liquid_denom_uc = liquid_denom.upper()\n",
    "    degen_revenue_actual, degen_revenue_optimal, staked_base_actual, staked_base_optimal = \\\n",
    "        get_degen_revenue(\n",
    "            revenue_with_restake_base=revenue_with_restake_base,\n",
    "            price_liquid_actual=price_liquid_actual)\n",
    "    \n",
    "    liquid_revenue_actual, staking_investminting_revenue_actual, staking_investminting_revenue_optimal = \\\n",
    "        get_staking_plus_investminting_revenue(\n",
    "            price_volt_actual=price_volt_actual,\n",
    "            price_ampere_actual=price_ampere_actual,\n",
    "            revenue_with_restake_base=revenue_with_restake_base,\n",
    "            price_liquid_actual=price_liquid_actual)\n",
    "    \n",
    "    price_ampere_optimal, price_volt_optimal = price_optimal()\n",
    "    \n",
    "    display(Markdown(f'''\n",
    "## Revenue Strategies\n",
    "### Degen\n",
    "Stake {base_denom_uc} with restake -> Buy {base_denom_uc} for {liquid_denom_uc} -> Stake {base_denom_uc} with restake - 3 times'''))\n",
    "    print(f'Degen revenue actual {degen_revenue_actual:7.1%}\\n'\n",
    "          f'Degen revenue optimal {degen_revenue_optimal:6.1%}')\n",
    "    \n",
    "    display(Markdown(f'''\n",
    "### Staking + Investminting\n",
    "Stake {base_denom_uc} with retake -> Investmint {liquid_denom_uc}'''))\n",
    "    print(f'Staking + Investminting revenue actual {staking_investminting_revenue_actual:7.1%}\\n'\n",
    "          f'Staking + Investminting revenue optimal {staking_investminting_revenue_optimal:6.1%}')\n",
    "    \n",
    "    display(Markdown(f'''\n",
    "### Investminting\n",
    "Buy {liquid_denom_uc} for {base_denom_uc} -> Investmint {liquid_denom_uc}'''))\n",
    "    print(f'Investminting revenue actual {liquid_revenue_actual:7.1%}\\n'\n",
    "          f'Investminting revenue optimal {REVENUE_LIQUID_OPTIMAL:6.1%}')\n",
    "    \n",
    "    display(Markdown('''## Price Model'''))\n",
    "    print(f'AMPERE price actual {price_ampere_actual:>,.0f} {liquid_denom_sn} optimal {price_ampere_optimal:>,.0f}, '\n",
    "          f'AMPERE can decrease by {price_ampere_actual / price_ampere_optimal:.2f} times\\n'\n",
    "          f'VOLT price actual {price_volt_actual:>,.0f} {liquid_denom_sn} optimal {price_volt_optimal:>,.0f}, '\n",
    "          f'VOLT can decrease by {price_volt_actual / price_volt_optimal:.2f} times\\n'\n",
    "          f'{liquid_denom_sn} price actual {price_liquid_actual:.3f} {base_denom_uc} optimal {PRICE_LIQUID_OPTIMAL}, '\n",
    "          f'{liquid_denom_sn} can increase by {PRICE_LIQUID_OPTIMAL / price_liquid_actual :.2f} times\\n')\n",
    "    \n",
    "    if chain_name == 'Bostrom':\n",
    "        print(f\"OSMO price\"\n",
    "              f\"\\n\\t- in bostrom {price_df.loc[liquid_denom, 'uosmo in bostrom'] * 1_000_000:>,.0f} {liquid_denom_sn}\"\n",
    "              f\"\\n\\t- in osmosis {price_df.loc['boot in osmosis', 'uosmo'] * price_df.loc[liquid_denom, base_denom] * 1_000_000:>,.0f} {liquid_denom_sn}\")\n",
    "        print(f\"ATOM price\"\n",
    "              f\"\\n\\t- in bostrom {price_df.loc[liquid_denom, 'uatom in bostrom'] * 1_000_000:>,.0f} H\"\n",
    "              f\"\\n\\t- in osmosis {price_df.loc['boot in osmosis', 'uatom in osmosis'] * price_df.loc[liquid_denom, base_denom] * 1_000_000:>,.0f} {liquid_denom_sn}\")"
   ],
   "metadata": {
    "collapsed": false,
    "ExecuteTime": {
     "end_time": "2023-11-21T04:37:57.406355Z",
     "start_time": "2023-11-21T04:37:57.395630Z"
    }
   }
  },
  {
   "cell_type": "code",
   "execution_count": 7,
   "outputs": [
    {
     "data": {
      "text/plain": "<IPython.core.display.Markdown object>",
      "text/markdown": "\n# Bostrom Revenue and Price Model\n## Actual state"
     },
     "metadata": {},
     "output_type": "display_data"
    },
    {
     "name": "stdout",
     "output_type": "stream",
     "text": [
      "BOOT Supply           1,172,855,573,947,433\n",
      "BOOT Staked             274,987,648,414,027\n",
      "BOOT Inflation                         5.46%\n",
      "BOOT Inflation Community Tax          10.00%\n",
      "BOOT Staking Revenue without restake  19.91%\n",
      "BOOT Staking Revenue with restake     22.02%\n"
     ]
    },
    {
     "data": {
      "text/plain": "<IPython.core.display.Markdown object>",
      "text/markdown": "\n## Revenue Strategies\n### Degen\nStake BOOT with restake -> Buy BOOT for HYDROGEN -> Stake BOOT with restake - 3 times"
     },
     "metadata": {},
     "output_type": "display_data"
    },
    {
     "name": "stdout",
     "output_type": "stream",
     "text": [
      "Degen revenue actual   28.2%\n",
      "Degen revenue optimal  35.0%\n"
     ]
    },
    {
     "data": {
      "text/plain": "<IPython.core.display.Markdown object>",
      "text/markdown": "\n### Staking + Investminting\nStake BOOT with retake -> Investmint HYDROGEN"
     },
     "metadata": {},
     "output_type": "display_data"
    },
    {
     "name": "stdout",
     "output_type": "stream",
     "text": [
      "Staking + Investminting revenue actual   30.7%\n",
      "Staking + Investminting revenue optimal  40.0%\n"
     ]
    },
    {
     "data": {
      "text/plain": "<IPython.core.display.Markdown object>",
      "text/markdown": "\n### Investminting\nBuy HYDROGEN for BOOT -> Investmint HYDROGEN"
     },
     "metadata": {},
     "output_type": "display_data"
    },
    {
     "name": "stdout",
     "output_type": "stream",
     "text": [
      "Investminting revenue actual   38.0%\n",
      "Investminting revenue optimal  40.0%\n"
     ]
    },
    {
     "data": {
      "text/plain": "<IPython.core.display.Markdown object>",
      "text/markdown": "## Price Model"
     },
     "metadata": {},
     "output_type": "display_data"
    },
    {
     "name": "stdout",
     "output_type": "stream",
     "text": [
      "AMPERE price actual 3,200,358 H optimal 3,287,671, AMPERE can decrease by 0.97 times\n",
      "VOLT price actual 30,411,144 H optimal 32,876,712, VOLT can decrease by 0.93 times\n",
      "H price actual 0.229 BOOT optimal 0.5, H can increase by 2.18 times\n",
      "\n",
      "OSMO price\n",
      "\t- in bostrom 130,572,970 H\n",
      "\t- in osmosis 130,101,537 H\n",
      "ATOM price\n",
      "\t- in bostrom 1,837,938,341 H\n",
      "\t- in osmosis 1,805,576,959 H\n"
     ]
    }
   ],
   "source": [
    "display_data()"
   ],
   "metadata": {
    "collapsed": false,
    "ExecuteTime": {
     "end_time": "2023-11-21T04:38:25.932914Z",
     "start_time": "2023-11-21T04:37:57.402855Z"
    }
   }
  },
  {
   "cell_type": "code",
   "execution_count": 8,
   "outputs": [
    {
     "data": {
      "text/plain": "<IPython.core.display.Markdown object>",
      "text/markdown": "\n# Space-Pussy Revenue and Price Model\n## Actual state"
     },
     "metadata": {},
     "output_type": "display_data"
    },
    {
     "name": "stdout",
     "output_type": "stream",
     "text": [
      "PUSSY Supply       1,028,778,569,656,454,305\n",
      "PUSSY Staked          25,668,458,175,641,378\n",
      "PUSSY Inflation                         3.00%\n",
      "PUSSY Inflation Community Tax          20.00%\n",
      "PUSSY Staking Revenue without restake  91.38%\n",
      "PUSSY Staking Revenue with restake     149.10%\n"
     ]
    },
    {
     "data": {
      "text/plain": "<IPython.core.display.Markdown object>",
      "text/markdown": "\n## Revenue Strategies\n### Degen\nStake PUSSY with restake -> Buy PUSSY for LIQUIDPUSSY -> Stake PUSSY with restake - 3 times"
     },
     "metadata": {},
     "output_type": "display_data"
    },
    {
     "name": "stdout",
     "output_type": "stream",
     "text": [
      "Degen revenue actual  216.3%\n",
      "Degen revenue optimal  35.0%\n"
     ]
    },
    {
     "data": {
      "text/plain": "<IPython.core.display.Markdown object>",
      "text/markdown": "\n### Staking + Investminting\nStake PUSSY with retake -> Investmint LIQUIDPUSSY"
     },
     "metadata": {},
     "output_type": "display_data"
    },
    {
     "name": "stdout",
     "output_type": "stream",
     "text": [
      "Staking + Investminting revenue actual  173.5%\n",
      "Staking + Investminting revenue optimal  40.0%\n"
     ]
    },
    {
     "data": {
      "text/plain": "<IPython.core.display.Markdown object>",
      "text/markdown": "\n### Investminting\nBuy LIQUIDPUSSY for PUSSY -> Investmint LIQUIDPUSSY"
     },
     "metadata": {},
     "output_type": "display_data"
    },
    {
     "name": "stdout",
     "output_type": "stream",
     "text": [
      "Investminting revenue actual   72.4%\n",
      "Investminting revenue optimal  40.0%\n"
     ]
    },
    {
     "data": {
      "text/plain": "<IPython.core.display.Markdown object>",
      "text/markdown": "## Price Model"
     },
     "metadata": {},
     "output_type": "display_data"
    },
    {
     "name": "stdout",
     "output_type": "stream",
     "text": [
      "AMPERE price actual 6,630,516 LP optimal 3,287,671, AMPERE can decrease by 2.02 times\n",
      "VOLT price actual 52,761,993 LP optimal 32,876,712, VOLT can decrease by 1.60 times\n",
      "LP price actual 0.337 PUSSY optimal 0.5, LP can increase by 1.48 times\n"
     ]
    }
   ],
   "source": [
    "display_data(\n",
    "    chain_name='Space-Pussy',\n",
    "    base_denom='pussy', \n",
    "    liquid_denom='liquidpussy', \n",
    "    liquid_denom_sn='LP', \n",
    "    lcd_client=PUSSY_LCD_CLIENT)"
   ],
   "metadata": {
    "collapsed": false,
    "ExecuteTime": {
     "end_time": "2023-11-21T04:38:37.576988Z",
     "start_time": "2023-11-21T04:38:25.933813Z"
    }
   }
  },
  {
   "cell_type": "code",
   "execution_count": 9,
   "outputs": [
    {
     "data": {
      "text/plain": "<IPython.core.display.Markdown object>",
      "text/markdown": "\n# CosmosHub Revenue and Price Model\n## Actual state"
     },
     "metadata": {},
     "output_type": "display_data"
    },
    {
     "name": "stdout",
     "output_type": "stream",
     "text": [
      "UATOM Supply             375,776,819,559,510\n",
      "UATOM Staked             245,773,435,530,138\n",
      "UATOM Inflation                        14.31%\n",
      "UATOM Inflation Community Tax          10.00%\n",
      "UATOM Staking Revenue without restake  18.71%\n",
      "UATOM Staking Revenue with restake     20.57%\n"
     ]
    }
   ],
   "source": [
    "display_data(\n",
    "    chain_name='CosmosHub',\n",
    "    base_denom='uatom', \n",
    "    liquid_denom=None, \n",
    "    liquid_denom_sn=None, \n",
    "    lcd_client=COSMOSHUB_LCD_CLIENT)"
   ],
   "metadata": {
    "collapsed": false,
    "ExecuteTime": {
     "end_time": "2023-11-21T04:38:52.619309Z",
     "start_time": "2023-11-21T04:38:37.577929Z"
    }
   }
  },
  {
   "cell_type": "code",
   "execution_count": 9,
   "outputs": [],
   "source": [],
   "metadata": {
    "collapsed": false,
    "ExecuteTime": {
     "end_time": "2023-11-21T04:38:52.622507Z",
     "start_time": "2023-11-21T04:38:52.619215Z"
    }
   }
  }
 ],
 "metadata": {
  "kernelspec": {
   "display_name": "Python 3",
   "language": "python",
   "name": "python3"
  },
  "language_info": {
   "codemirror_mode": {
    "name": "ipython",
    "version": 2
   },
   "file_extension": ".py",
   "mimetype": "text/x-python",
   "name": "python",
   "nbconvert_exporter": "python",
   "pygments_lexer": "ipython2",
   "version": "2.7.6"
  }
 },
 "nbformat": 4,
 "nbformat_minor": 0
}
